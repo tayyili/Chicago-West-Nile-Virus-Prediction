{
 "cells": [
  {
   "cell_type": "markdown",
   "metadata": {},
   "source": [
    "<img src=\"http://imgur.com/1ZcRyrc.png\" style=\"float: left; margin: 20px; height: 100px\">\n",
    "\n",
    "# Project 4a: Predict West Nile Virus\n",
    "\n",
    "## Appendix - Data Dictionary"
   ]
  },
  {
   "cell_type": "markdown",
   "metadata": {},
   "source": [
    "### Contents:\n",
    "- [Data Dictionary](#Data-Dictionary)\n",
    "    - [Train_df_cleaned](#Dataset:-Train_df_cleaned)\n",
    "    - [Test_df_cleaned](#Dataset:-Test_df_cleaned)\n",
    "    - [Spray_df_cleaned](#Dataset:-Spray_df_cleaned)\n",
    "    - [Weather_cleaned](#Dataset:-Weather_cleaned)"
   ]
  },
  {
   "cell_type": "markdown",
   "metadata": {},
   "source": [
    "## Data Dictionary"
   ]
  },
  {
   "cell_type": "markdown",
   "metadata": {},
   "source": [
    "### Dataset: Train_df_cleaned"
   ]
  },
  {
   "cell_type": "markdown",
   "metadata": {},
   "source": [
    "|Feature  |Type  |Description  |    Item in Feature and Their Meaning   |\n",
    "|:---:|:---:|:---:|:---|\n",
    "|**date**|*datetime*|The date when entries are being record down|Date in the format of Day/Month/Year (DD/MM/YYYY)|\n",
    "|**address**|*string*|Unique string representing the address where the trap of mosquitos is being put at|Unique string representing the address where the trap of mosquitos is being put at|\n",
    "|**species**|*string*|Representing the species of majority mosquitos being caught by the trap|1 of the 6 species: Culex Pipiens/Restuans, Culex Restuans, Culex Pipiens, Culex Territans, Curex Salinarius, Curex Erraticus|\n",
    "|**block**|*integer*|Unique integer representing the block where the trap of mosquitos is being put at|Unique integer representing the block where the trap of mosquitos is being put at|\n",
    "|**street**|*string*|Unique string representing the street where the trap of mosquitos is being put at|Unique string representing the street where the trap of mosquitos is being put at|\n",
    "|**trap**|*string*|Unique ID representing the trap of mosquitos that is being set up|Unique ID representing the trap of mosquitos that is being set up|\n",
    "|**addressnumberandstreet**|*string*|Approximate address returned from GeoCoder|A concatenation of block + '00' & street + , Chicago, IL|\n",
    "|**latitude**|*float*|The latitude of the geocode of where the trap is set|The latitude of the geocode of where the trap is set|\n",
    "|**longitude**|*float*|The longitude of the geocode of where the trap is set|The longitude of the geocode of where the trap is set|\n",
    "|**addressaccuracy**|*integer*|Accuracy returned from GeoCoder|Integer from 1-9, 9 being the highest accuracy|\n",
    "|**nummosquitos**|*integer*|The number of mosquitos being trapped in a particular trap|The number of mosquitos being trapped in a particular trap|\n",
    "|**wnvpresent**|*integer*|The integer represents whether the West Nile Virus is present among the mosquitoes in the trap|0: No West Nile Virus Present|\n",
    "||||1: Have West Nile Virus Present|\n",
    "|**date_1**|*datetime*|The date when entries are being record down|Date in the format of Day/Month/Year (DD/MM/YYYY)|\n",
    "|**month**|*integer*|The month when entries are being record down|The month when entries are being record down|\n",
    "|**year**|*integer*|The year when entries are being record down|The year when entries are being record down (YYYY)|\n",
    "|**geometry**|*string*|A tuple containing geometry points of latitude and longitude of the traps being set at|A tuple containing geometry points of latitude and longitude of the traps being set at|\n",
    "|**week**|*integer*|The week of the year when entries are being record down|The week of the year when entries are being record down|\n",
    "|**yearmonth**|*integer*|The year and the month when entries are being record down|YearMonth(YYYYMM)|\n",
    "|**yearweek**|*integer*|The year and the week when entries are being record down|YearWeek(YYYYWW)|"
   ]
  },
  {
   "cell_type": "markdown",
   "metadata": {},
   "source": [
    "### Dataset: Test_df_cleaned"
   ]
  },
  {
   "cell_type": "markdown",
   "metadata": {},
   "source": [
    "|Feature  |Type  |Description  |    Item in Feature and Their Meaning   |\n",
    "|:---:|:---:|:---:|:---|\n",
    "|**id**|*integer*|Unique ID indicating the entries|Unique ID indicating the entries|\n",
    "|**date**|*datetime*|The date when entries are being record down|Date in the format of Day/Month/Year (DD/MM/YYYY)|\n",
    "|**address**|*string*|Unique string representing the address where the trap of mosquitos is being put at|Unique string representing the address where the trap of mosquitos is being put at|\n",
    "|**species**|*string*|Representing the species of majority mosquitos being caught by the trap|1 of the 6 species: Culex Pipiens/Restuans, Culex Restuans, Culex Pipiens, Culex Territans, Curex Salinarius, Curex Erraticus|\n",
    "|**block**|*integer*|Unique integer representing the block where the trap of mosquitos is being put at|Unique integer representing the block where the trap of mosquitos is being put at|\n",
    "|**street**|*string*|Unique string representing the street where the trap of mosquitos is being put at|Unique string representing the street where the trap of mosquitos is being put at|\n",
    "|**trap**|*string*|Unique ID representing the trap of mosquitos that is being set up|Unique ID representing the trap of mosquitos that is being set up|\n",
    "|**addressnumberandstreet**|*string*|Approximate address returned from GeoCoder|A concatenation of block + '00' & street + , Chicago, IL|\n",
    "|**latitude**|*float*|The latitude of the geocode of where the trap is set|The latitude of the geocode of where the trap is set|\n",
    "|**longitude**|*float*|The longitude of the geocode of where the trap is set|The longitude of the geocode of where the trap is set|\n",
    "|**addressaccuracy**|*integer*|Accuracy returned from GeoCoder|Integer from 1-9, 9 being the highest accuracy|\n",
    "|**date_1**|*datetime*|The date when entries are being record down|Date in the format of Day/Month/Year (DD/MM/YYYY)|\n",
    "|**month**|*integer*|The month when entries are being record down|The month when entries are being record down|\n",
    "|**year**|*integer*|The year when entries are being record down|The year when entries are being record down (YYYY)|"
   ]
  },
  {
   "cell_type": "markdown",
   "metadata": {},
   "source": [
    "### Dataset: Spray_df_cleaned"
   ]
  },
  {
   "cell_type": "markdown",
   "metadata": {},
   "source": [
    "|Feature  |Type  |Description  |    Item in Feature and Their Meaning   |\n",
    "|:---:|:---:|:---:|:---|\n",
    "|**date**|*datetime*|The date when spraying is being conducted|Date in the format of Day/Month/Year (DD/MM/YYYY)|\n",
    "|**time**|*datetime*|The time when spraying is being conducted|Time in the format of Hour/Minute/Second (HH:MM:SS am/pm)|\n",
    "|**latitude**|*float*|The latitude of the geocode of where the spraying is done|The latitude of the geocode of where the spraying is done|\n",
    "|**longitude**|*float*|The longitude of the geocode of where the spraying is done|The longitude of the geocode of where the spraying is done|\n",
    "|**date_1**|*datetime*|The date when spraying is being conducted|Date in the format of Day/Month/Year (DD/MM/YYYY)|\n",
    "|**geometry**|*string*|A tuple containing geometry points of latitude and longitude of the locations where spraying is being conducted|A tuple containing geometry points of latitude and longitude of the locations where spraying is being conducted|\n",
    "|**year**|*integer*|The year when spraying is being conducted|The year when spraying is being conducted (YYYY)|"
   ]
  },
  {
   "cell_type": "markdown",
   "metadata": {},
   "source": [
    "### Dataset: Weather_cleaned"
   ]
  },
  {
   "cell_type": "markdown",
   "metadata": {},
   "source": [
    "|Feature  |Type  |Description  |    Item in Feature and Their Meaning   |\n",
    "|:---:|:---:|:---:|:---|\n",
    "|**station**|*integer*|The weather station that recorded down the weather condition|Station 1 or 2|\n",
    "|**date**|*datetime*|The date when weather conditions are being record down|Date in the format of Day/Month/Year (DD/MM/YYYY)|\n",
    "|**t_avg**|*integer*|Representing the average temperature of the day, by taking an average of maximum temperature and minimum temperature|Integer representing temperature in Fahrenheit (F)|\n",
    "|**dew_point**|*integer*|Representing the average dewpoint of the day|Integer representing dew point in Fahrenheit (F)|\n",
    "|**wet_bulb**|*integer*|Representing the average wet bulb of the day|Integer representing wet bulb in Fahrenheit (F)|\n",
    "|**precip_total**|*float*|Representing the total daily rainfall|Float representing total daily rainfall (inch)|\n",
    "|**stn_pressure**|*float*|Representing average atmospheric pressure|Float representing average atmospheric pressure (inch Hg)|\n",
    "|**sea_level**|*float*|Representing average sea level pressure|Float representing average sea level pressure (inch Hg)|\n",
    "|**result_speed**|*float*|Representing resultant wind speed|Float representing resultant wind speed (mph)|\n",
    "|**result_dir**|*integer*|Representing resultant wind direction|Integer representing resultant wind direction (degrees)|\n",
    "|**avg_speed**|*float*|Representing average wind speed|Float representing average wind speed (mph)|\n",
    "|**wet_dry**|*integer*|Representing a weather phenomena of the day is either wet or dry|0: Dry Weather|\n",
    "||||1: Wet Weather|\n",
    "|**week**|*integer*|The week of the year when weather conditions are being record down|The week of the year when weather conditions are being record down|\n",
    "|**month**|*integer*|The month when weather conditions are being record down|The month when weather conditions are being record down|\n",
    "|**year**|*integer*|The year when weather conditions are being record down|The year when weather conditions are being record down (YYYY)|\n",
    "|**yearmonth**|*integer*|The year and the month when weather conditions are being record down|YearMonth(YYYYMM)|\n",
    "|**yearweek**|*integer*|The year and the week when weather conditions are being record down|YearWeek(YYYYWW)|"
   ]
  }
 ],
 "metadata": {
  "kernelspec": {
   "display_name": "Python 3",
   "language": "python",
   "name": "python3"
  },
  "language_info": {
   "codemirror_mode": {
    "name": "ipython",
    "version": 3
   },
   "file_extension": ".py",
   "mimetype": "text/x-python",
   "name": "python",
   "nbconvert_exporter": "python",
   "pygments_lexer": "ipython3",
   "version": "3.8.8"
  }
 },
 "nbformat": 4,
 "nbformat_minor": 4
}
