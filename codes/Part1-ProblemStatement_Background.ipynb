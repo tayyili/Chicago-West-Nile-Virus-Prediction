{
 "cells": [
  {
   "cell_type": "markdown",
   "metadata": {},
   "source": [
    "<img src=\"http://imgur.com/1ZcRyrc.png\" style=\"float: left; margin: 20px; height: 100px\">\n",
    "\n",
    "# Project 4a: Predict West Nile Virus\n",
    "\n",
    "## Part 1 - Problem Statement, Background"
   ]
  },
  {
   "cell_type": "markdown",
   "metadata": {},
   "source": [
    "### Contents:\n",
    "- [Problem Statement](#1.-Problem-Statement)\n",
    "- [Background](#2.-Background)"
   ]
  },
  {
   "cell_type": "markdown",
   "metadata": {},
   "source": [
    "## 1. Problem Statement"
   ]
  },
  {
   "cell_type": "markdown",
   "metadata": {},
   "source": [
    "This projects aim to use data science methods (classification modellings) to predict the places in Chicago where the West Nile Virus is present, with prediction having the higher AUC performance the better (as close to 1 as possible), so as to enable a more accurate and effective plan in deploying pesticides spraying throughout the state."
   ]
  },
  {
   "cell_type": "markdown",
   "metadata": {},
   "source": [
    "## 2. Background"
   ]
  },
  {
   "cell_type": "markdown",
   "metadata": {},
   "source": [
    "As data scientist of 5pm Disease and Treatment Agency, this project is done to be presented to members of Centre for Disease Control and Prevention (CDC) in the year 2015, so as to achieve objective as stated in problem statement.\n",
    "\n",
    "#### 2.1 West Nile Virus\n",
    "\n",
    "West Nile virus (WNV) is a single-stranded RNA virus that causes West Nile fever. It is a member of the family Flaviviridae, from the genus Flavivirus, which also contains the Zika virus, dengue virus, and yellow fever virus. The virus is primarily transmitted by mosquitoes, mostly species of Culex. The primary hosts of WNV are birds, so that the virus remains within a \"bird–mosquito–bird\" transmission cycle.[1] The virus is genetically related to the Japanese encephalitis family of viruses.\n",
    "\n",
    "Humans and horses both exhibit disease symptoms from the virus, and symptoms rarely occur in other animals. Identification of the human disease was first made in 1937 in Uganda and in the latter half of the 20th century spread to many other parts of the world.\n",
    "https://en.wikipedia.org/wiki/West_Nile_virus\n",
    "\n",
    "#### 2.2 History of West Nile Virus\n",
    "\n",
    "West Nile virus emerged in the United States in the New York metropolitan area in the fall of 1999. Since then, the virus, which can be transmitted to humans by the bite of an infected mosquito, has quickly spread across the country.\n",
    "\n",
    "In 2002, WNV reached Chicago for the first time with 225 human cases reported that summer.\n",
    "\n",
    "https://www.chicago.gov/content/dam/city/depts/cdph/food_env/general/West_Nile_Virus/WNV_2018databrief_FINALJan102019.pdf\n",
    "https://www.dph.illinois.gov/topics-services/diseases-and-conditions/west-nile-virus\n",
    "\n",
    "#### 2.3 What the West Nile Virus does to birds\n",
    "\n",
    "The United States crow population declined by 30% as a result of the introduction of WNV. There have also been significant declines in blue jays, American robins, eastern bluebirds, tufted titmice, house wrens, and chickadees. However by 2005, house wren and blue jay populations had already rebounded and returned to their pre-WNV levels.\n",
    "\n",
    "West Nile Virus has been found in more than 250 species of birds, but crows, jays, and ravens are most susceptible to the disease. House sparrows, common grackles, house finches, Cooper's hawks, and red-tailed hawks are also more commonly infected species. Mammals can become infected, but often do not show clinical signs and are considered accidental hosts. Horses and humans appear more likely to develop clinical illness than other mammalian species. WNV has been reported in many wild mammals including caribou, chipmunks, squirrels, skunks, and wolves. Domestic mammals including cats, dogs, cattle, and sheep can become infected. The virus has also been isolated in reptiles and amphibians.\n",
    "\n",
    "An Israeli strain of the virus was first isolated in North America in August 1999 in New York City. The virus was probably introduced to America via the transport of an infected mosquito by ship or airplane. It may also have been introduced via the import of an infected domestic bird or migration of an infected wild bird. Migrating birds played a major role in carrying the virus throughout the United States. Since its introduction, WNV has spread across the entire continental United States, and into Canada and Mexico. The virus was first found in Pennsylvania in 2000 in mosquitoes, birds, and a horse. Pennsylvania conducts continuous surveillance for the presence of WNV and publishes the data regularly on the United States Geological Survey website as well as the Pennsylvania West Nile Virus Control Program website.\n",
    "\n",
    "West Nile Virus is most often transmitted in the bite of infected mosquitoes. Mosquitoes acquire the virus by blood feeding on infected birds. The mosquito can then transmit the virus to uninfected birds. Humans and other mammals can become infected by species of mosquitoes that feed on both birds and mammals. Mosquitoes in the Culex group primarily bite birds and are the most common carries of WNV, while Coquillettidia species bite both birds and mammals. Mammals are not known to produce enough viral particles in their blood to transmit WNV to mosquitoes, so they are considered dead-end hosts.\n",
    "\n",
    "Mosquitoes are considered the primary mode of transmission. However, the virus may be able to spread from bird to bird in food or water that is contaminated with infected bodily secretions, and raptors may be able to acquire the virus by consuming infected birds. West Nile Virus can be transmitted from person to person via organ transplants, blood transfusions, and across the placenta, but it is not thought to be transmitted by direct contact.\n",
    "\n",
    "Birds with West Nile Virus often show neurological signs including loss of coordination, head tilt, tremors, weakness, and lethargy. Most infected crows and jays will die within 3 weeks. Most mammals do not show clinical signs of this disease. Horses and humans are more likely than other mammals to develop a flu-like illness or signs of neurologic disease.\n",
    "https://www.pgc.pa.gov/Wildlife/Wildlife-RelatedDiseases/Pages/WestNileVirus.aspx\n",
    "\n",
    "#### 2.4 Epizootic (Crow Death) preceds Epidemic (Human Death)\n",
    "WNV-associated avian deaths have historically preceded human illness, and in Chicago, the epizootic peaked approximately 2 weeks before the human epidemic. Real-time analysis of incoming dead crow reports might be especially important because of the time lag between illness onset, confirmatory testing for WNV infection, report to the local health authority, and initiation of an epidemiologic case investigation to identify and adequately describe WNV-related human illness. In Chicago in 2002, the first case of WNV infection in a resident was reported on August 12, 13 days after the patient’s onset of illness.\n",
    "https://wwwnc.cdc.gov/eid/article/10/5/03-0603_article\n",
    "\n",
    "#### 2.5 Culex Pipiens and Restuans\n",
    "\n",
    "Culex Pipiens Mosquito\n",
    "<img src=\"../images/pipiens.png\" style=\"width:200px; height:200px\"/>\n",
    "Culex Restuans Mosquito\n",
    "<img src=\"../images/restuans.png\" style=\"width:300px; height:200px\"/>\n",
    "\n",
    "\n",
    "https://en.wikipedia.org/wiki/Culex_pipiens\n",
    "https://www.ecdc.europa.eu/en/all-topics-z/disease-vectors/facts/mosquito-factsheets/culex-pipiens-factsheet-experts\n",
    "https://wrbu.si.edu/vectorspecies/mosquitoes/restuans\n",
    "\n",
    "\n",
    "#### 2.6 Farmer Markets - Places where people and brids will gather, especially during the summer months\n",
    "Schedule\n",
    "https://www.domu.com/blog/farmers-market-chicago\n"
   ]
  },
  {
   "cell_type": "code",
   "execution_count": null,
   "metadata": {},
   "outputs": [],
   "source": []
  }
 ],
 "metadata": {
  "kernelspec": {
   "display_name": "Python 3",
   "language": "python",
   "name": "python3"
  },
  "language_info": {
   "codemirror_mode": {
    "name": "ipython",
    "version": 3
   },
   "file_extension": ".py",
   "mimetype": "text/x-python",
   "name": "python",
   "nbconvert_exporter": "python",
   "pygments_lexer": "ipython3",
   "version": "3.8.8"
  }
 },
 "nbformat": 4,
 "nbformat_minor": 4
}
