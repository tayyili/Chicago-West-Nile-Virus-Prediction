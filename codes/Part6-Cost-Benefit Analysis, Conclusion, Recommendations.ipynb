{
 "cells": [
  {
   "cell_type": "markdown",
   "metadata": {},
   "source": [
    "<img src=\"http://imgur.com/1ZcRyrc.png\" style=\"float: left; margin: 20px; height: 100px\">\n",
    "\n",
    "# Project 4a: Predict West Nile Virus\n",
    "\n",
    "## Part 6 - Cost Benefit Analysis, Conclusion, Recommendations"
   ]
  },
  {
   "cell_type": "markdown",
   "metadata": {},
   "source": [
    "### Contents:\n",
    "- [Cost-Benefit Analysis](#Cost-Benefit-Analysis)\n",
    "- [Conclusion](#Conclusion)\n",
    "- [Recommendations](#Recommendations)"
   ]
  },
  {
   "cell_type": "markdown",
   "metadata": {},
   "source": [
    "## Cost-Benefit Analysis"
   ]
  },
  {
   "cell_type": "markdown",
   "metadata": {},
   "source": [
    "### Cost projections"
   ]
  },
  {
   "cell_type": "markdown",
   "metadata": {},
   "source": [
    "#### Cost to targeted spray with spray trucks"
   ]
  },
  {
   "cell_type": "markdown",
   "metadata": {},
   "source": [
    "The Chicago Department of Public Health (CDPH) is continuing its efforts to protect residents against West Nile virus. The spray is done at dusk 8pm all through to approximately 1am (5hours). The pesticide used for spraying to control the mosquitoes is Zenivex E4. [(City of Chicago)](https://www.chicago.gov/city/en/depts/cdph/provdrs/healthy_communities/news/2020/august/city-to-spray-insecticide-thursday-to-kill-mosquitoes0.html) Zenivex E4 has a 4% solution of etofenprox that does not contain piperonyl butoxide, which presents minimal risk to humans and non-target species.[(CMMCP)](https://www.cmmcp.org/pesticide-information/pages/zenivex-e4-etofenprox) The price of Zenivex E4 is USD 0.92 per acre, which is USD 227.24 per square kilometer. [(Zenivex Pricing Brochure)](http://www.centralmosquitocontrol.com/-/media/files/centralmosquitocontrol-na/us/resources-lit%20files/2015%20zenivex%20pricing%20brochure.pdf) "
   ]
  },
  {
   "cell_type": "markdown",
   "metadata": {},
   "source": [
    "Without the prediction model, to prevent West Nile Virus in the whole Chicago with an area of 149770.57 acres (606.10 square kilometer), it would cost approximately USD 137,730.16 each time. Each year, it is advised not to spray more than 25 times per site. [(Zenivex)](https://www.mercercounty.org/home/showdocument?id=2626#:~:text=Do%20not%20spray%20more%20than,applications%20per%20site%20per%20year.) Depending on the weather and environmental conditions, mosquito treatment can last up to 30 days.[(NorthWest)](https://www.callnorthwest.com/2019/05/how-long-does-a-mosquito-treatment-last/)"
   ]
  },
  {
   "cell_type": "markdown",
   "metadata": {},
   "source": [
    "##### From our predictive model, taking into consideration both True Positive (TP), False Negative (FN) and False Positive (FP) to ensure all actual positives and predicted positives are covered, we derived the following cost per year to spray at targeted Chicago traps.\n",
    "\n",
    "##### Since the culex pipen are known to fy up to 3.2km range [CDC](https://www.cdc.gov/mosquitoes/about/life-cycles/culex.html#:~:text=Culex%20mosquitoes%20don't%20fly,live%20near%20and%20bite%20birds.), we estimated the spraying can be done within 2km radius of each trap, with the assumption that there will be overlapped coverage since it is a wide range.\n"
   ]
  },
  {
   "cell_type": "code",
   "execution_count": 17,
   "metadata": {},
   "outputs": [
    {
     "name": "stdout",
     "output_type": "stream",
     "text": [
      "The spray area around each trap:  12.56 km2\n"
     ]
    }
   ],
   "source": [
    "# calculation of the area around the trap to spray to cover the required area\n",
    "pi = 3.14\n",
    "r = 2\n",
    "area = pi*(r**2)\n",
    "print('The spray area around each trap: ', area, 'km2')"
   ]
  },
  {
   "cell_type": "code",
   "execution_count": 24,
   "metadata": {},
   "outputs": [
    {
     "name": "stdout",
     "output_type": "stream",
     "text": [
      "The estimated number of targeted traps: 17\n"
     ]
    }
   ],
   "source": [
    "import math\n",
    "\n",
    "# (TP+FN+FP) = 696 divided by total test size of 3152 and multiply the total number of traps (74) set up in 2013\n",
    "# is the estimated number targeted traps (round up to the nearest 10)\n",
    "print('The estimated number of targeted traps:', math.ceil(696 / 3152 * 74))"
   ]
  },
  {
   "cell_type": "code",
   "execution_count": 25,
   "metadata": {},
   "outputs": [
    {
     "name": "stdout",
     "output_type": "stream",
     "text": [
      "The estimated cost to spray around the targeted 17 traps each time is: 48520.2848\n",
      "The estimated cost to spray 2 times per month for 5 months is: 485202.848\n"
     ]
    }
   ],
   "source": [
    "# Cost of spray per year around 17 traps\n",
    "# multiply by the trap area to spray, and multiply again with the unit cost per km2 ($227.24)\n",
    "cost_per_spray = 17 * 12.56 * 227.24\n",
    "print('The estimated cost to spray around the targeted 17 traps each time is:', cost_per_spray)\n",
    "print('The estimated cost to spray 2 times per month for 5 months is:', cost_per_spray * 10)"
   ]
  },
  {
   "cell_type": "markdown",
   "metadata": {},
   "source": [
    "### Benefit projections"
   ]
  },
  {
   "cell_type": "markdown",
   "metadata": {},
   "source": [
    "Benefits from mosquito spraying would include increased quality of life from fewer people falling sick and dying, increased workplace productivity from fewer people falling ill and going on medical leave, as well as savings in hospital expenses from treating WNV patients. Of these, only the latter two are measurable.\n",
    "\n",
    "About 1 in 5 people infected with WNV develop West Nile fever with other symptoms such as headache, body aches, joint pains, vomiting, etc. Recovery from West Nile fever takes from a few days to several weeks, and prolonged fatigue is common (Peterson, 2019).\n",
    "\n",
    "About 1 in 150 people infected develop severe neuroinvasive diseases such as encephalitis or meningitis, in which the virus travels through the blood and infects the brain and spinal cord. Recovery is prolonged and less than 40% of patients with the severe diseases recover after one year (Peterson, 2019).\n",
    "\n",
    "Given that the median per capita income is USD 37K, if it takes 2 weeks for a patient to recover, it will cost USD 1.5K loss to a personal or to a business (as of 2017; [Data USA](https://datausa.io/profile/geo/chicago-il/)). One can estimate the amount of losses the city will face from an incapacitated workforce. In 2017, there were 90 WNV cases, including 8 deaths ([CBS Chicago, 2019](https://chicago.cbslocal.com/2018/08/29/west-nile-virus-death-reported-in-illinois/)). This means that approximately a total income loss of \\\\$135K. On average, each WNV patient spends approximately \\$25,000 in the hospital. **"
   ]
  },
  {
   "cell_type": "markdown",
   "metadata": {},
   "source": [
    "Therefore, we conclude that the spraying is necessary to give the citizens a peace of mind."
   ]
  },
  {
   "cell_type": "markdown",
   "metadata": {},
   "source": [
    "## Conclusion"
   ]
  },
  {
   "cell_type": "markdown",
   "metadata": {},
   "source": [
    "By comparing the monetary values of costs and benefit, it is said that the monetary values of costs is more than benefits. However, if calcualte the cost per population of 2.71 million, it only takes USD 0.18 per person annually, which is a relatively small amount of money."
   ]
  },
  {
   "cell_type": "markdown",
   "metadata": {},
   "source": [
    "Aside from that, if there is an outbreak of virus and nothing is done to contain it, people would be suffering from mental helath illness. Additionally, there would be a higher number of deaths, as there is no specific medications to treat West Nile Virus. "
   ]
  },
  {
   "cell_type": "markdown",
   "metadata": {},
   "source": [
    "Based on the exploratory data analysis conducted earlier, it shows that the current spraying schedule was not very effective on reducing the number of mosquitos. The sprays were only done twice a year and during the window which was less favourable for decreasing the breeding of mosquitos. We need more details how the spraying was carried out."
   ]
  },
  {
   "cell_type": "markdown",
   "metadata": {},
   "source": [
    "The data used for the modelling in this project is grossly imbalanced. This caused the model to be unable to accurately predict the presence of the the West Nile Virus.\n",
    "The best model found using the limited data we have is the **Gradient Boosting Model**, with the highest **AUC value (0.84)** as well as **F1 score (0.30)**. The Test and Train Accuracy, however, shows that the model is slightly underfitting. This can likely be resolved by further tuning of the hyperparameters."
   ]
  },
  {
   "cell_type": "markdown",
   "metadata": {},
   "source": [
    "## Recommendations"
   ]
  },
  {
   "cell_type": "markdown",
   "metadata": {},
   "source": [
    "#### West Nile Virus Prevention Tips from Chicago Gov\n",
    "\n",
    "There are a number of precautions people can take to avoid contracting West Nile virus, according to CDPH: \n",
    "\n",
    "— Use insect repellant that contains DEET, Picaridin, IR3535 or oil of lemon eucalyptus.  \n",
    "— Eliminate standing water weekly from sources including flowerpots, gutters, tires, toys, pet water dishes and birdbaths.  \n",
    "— Keep grass and weeds short to eliminate hiding places for adult mosquitoes.  \n",
    "— When outside between dusk and dawn, wear loose-fitting, light-colored clothing, long pants, long-sleeved shirts, socks and shoes.  \n",
    "— Make sure all screens, windows and doors are tight fitting and free of holes. Repair or replace screens that have tears or other openings.  \n",
    "— Avoid being outdoors when mosquitoes are most active, especially between dusk and dawn.  "
   ]
  },
  {
   "cell_type": "markdown",
   "metadata": {},
   "source": [
    "**More traps to be placed near Farmer Market**\n",
    "\n",
    "From the EDA, we can see that there are not enough traps near the farmer markets. With all Farmer Markets open during from Apr to Oct, we believe that markets are areas where birds and humans would gather, especially in the summer, thereby drawing mosquitoes, and more traps can be placed in these locations."
   ]
  },
  {
   "cell_type": "markdown",
   "metadata": {},
   "source": [
    "**Wolbachia (Singapore) - Mosquito Suppression Strategy**\n",
    "\n",
    "The World Health Organization’s (WHO) Vector Control Advisory Group recommends that Wolbachia suppression technology be carefully piloted under operational conditions. \n",
    "\n",
    "The theory: when male Wolbachia-carrying Aedes aegypti (Wolbachia-Aedes) mosquitoes mate with urban female Aedes aegypti that do not carry Wolbachia, their resulting eggs do not hatch.\n",
    "\n",
    "Recommend that CDC to explore this approach and the science behind Wolbachia-Aedes suppression technology.\n",
    "\n",
    "\n",
    "https://www.nea.gov.sg/corporate-functions/resources/research/wolbachia-aedes-mosquito-suppression-strategy"
   ]
  },
  {
   "cell_type": "markdown",
   "metadata": {},
   "source": [
    "**Lavriciding**\n",
    "\n",
    "Chicago city can focus mosquito control on larviciding, which uses biological pesticides, chemicals or fish to kill mosquito larvae in waters before they hatch."
   ]
  },
  {
   "cell_type": "markdown",
   "metadata": {},
   "source": [
    "**Modeling**\n",
    "- Further tuning of the models' hyperparameter\n",
    "- More data is required for the West Nile virus, preferably a balanced dataset\n",
    "- Explore other modeling techniques"
   ]
  }
 ],
 "metadata": {
  "kernelspec": {
   "display_name": "Python 3",
   "language": "python",
   "name": "python3"
  },
  "language_info": {
   "codemirror_mode": {
    "name": "ipython",
    "version": 3
   },
   "file_extension": ".py",
   "mimetype": "text/x-python",
   "name": "python",
   "nbconvert_exporter": "python",
   "pygments_lexer": "ipython3",
   "version": "3.8.8"
  }
 },
 "nbformat": 4,
 "nbformat_minor": 4
}
