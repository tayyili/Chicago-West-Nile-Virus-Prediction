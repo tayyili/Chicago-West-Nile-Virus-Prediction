{
 "cells": [
  {
   "cell_type": "markdown",
   "metadata": {},
   "source": [
    "<img src=\"http://imgur.com/1ZcRyrc.png\" style=\"float: left; margin: 20px; height: 100px\">\n",
    "\n",
    "# Project 4a: Predict West Nile Virus\n",
    "\n",
    "## Part 3 - Weather Dataset - Data Cleaning and EDA"
   ]
  },
  {
   "cell_type": "markdown",
   "metadata": {},
   "source": [
    "### Contents:\n",
    "- [Data Collection](#Data-Collection)\n",
    "- [Data Cleaning](#Data-Cleaning)\n",
    "    - [1. Dealing with Null Values](#1.-Deal-with-null-values)\n",
    "        - [Drop Columns](#Dropping-Columns)\n",
    "        - [Imputate Columns](#Imputation-of-rest-of-columns-with-only-a-few-rows-of-null-values)\n",
    "            - [1. Tavg](#1.-The-column-'Tavg')\n",
    "            - [2. Cool](#2.-The-column-'Cool')\n",
    "            - [3. Heat](#3.-The-column-'Heat')\n",
    "            - [4. SeaLevel](#4.-The-column-'SeaLevel')\n",
    "            - [5. StnPressure](#5.-The-column-'StnPressure')\n",
    "            - [6. WetBulb](#6.-The-column-'WetBulb')\n",
    "            - [7. AvgSpeed](#7.-The-column-'AvgSpeed')\n",
    "            - [8. PrecipTotal](#8.-The-column-'PrecipTotal')\n",
    "    - [2. Check Data Types](#2.-Check-Data-Types)\n",
    "    - [3. Feature Engineering](#3.-Feature-Engineering)\n",
    "        - [Drop Columns](#Drop-Columns-to-Reduce-Multi-Collinearity)\n",
    "        - [Modify Columns](#Modifications-of-Columns)\n",
    "            - [1. CodeSum](#1.-The-column-'CodeSum')\n",
    "            - [2. Date](#2.-The-column-'Date')\n",
    "    - [4. Lowercasing Column Names](#4.-Lowercasing-Column-Names)\n",
    "- [Save Dataset](#Save-the-Clean-Dataset)"
   ]
  },
  {
   "cell_type": "markdown",
   "metadata": {},
   "source": [
    "## Data Collection"
   ]
  },
  {
   "cell_type": "markdown",
   "metadata": {},
   "source": [
    "### Import all necessary libraries"
   ]
  },
  {
   "cell_type": "code",
   "execution_count": 1,
   "metadata": {},
   "outputs": [],
   "source": [
    "# Import all necessary libraries\n",
    "import numpy as np\n",
    "import pandas as pd\n",
    "import matplotlib.pyplot as plt\n",
    "import seaborn as sns\n",
    "import time\n",
    "import datetime as dt\n",
    "import re\n",
    "import string\n",
    "import nltk\n",
    "\n",
    "from sklearn.model_selection import train_test_split, cross_val_score\n",
    "from sklearn.metrics import confusion_matrix\n",
    "from sklearn.metrics import classification_report\n",
    "from sklearn.metrics import accuracy_score, precision_score, recall_score\n",
    "from sklearn.linear_model import LogisticRegression\n",
    "\n",
    "from sklearn.naive_bayes import BernoulliNB\n",
    "from sklearn.naive_bayes import GaussianNB\n",
    "from sklearn.naive_bayes import MultinomialNB\n",
    "\n",
    "#hide warnings\n",
    "import warnings\n",
    "warnings.filterwarnings('ignore')"
   ]
  },
  {
   "cell_type": "markdown",
   "metadata": {},
   "source": [
    "### Import Data from Weather.csv"
   ]
  },
  {
   "cell_type": "code",
   "execution_count": 2,
   "metadata": {},
   "outputs": [],
   "source": [
    "# Import data into dataframe named weather\n",
    "weather = pd.read_csv(\"../assets/weather.csv\")"
   ]
  },
  {
   "cell_type": "code",
   "execution_count": 3,
   "metadata": {},
   "outputs": [
    {
     "data": {
      "text/plain": [
       "(2944, 22)"
      ]
     },
     "execution_count": 3,
     "metadata": {},
     "output_type": "execute_result"
    }
   ],
   "source": [
    "# Print the shape of dataframe\n",
    "weather.shape\n",
    "\n",
    "# There are 2944 rows and 22 columns"
   ]
  },
  {
   "cell_type": "code",
   "execution_count": 4,
   "metadata": {},
   "outputs": [
    {
     "data": {
      "text/html": [
       "<div>\n",
       "<style scoped>\n",
       "    .dataframe tbody tr th:only-of-type {\n",
       "        vertical-align: middle;\n",
       "    }\n",
       "\n",
       "    .dataframe tbody tr th {\n",
       "        vertical-align: top;\n",
       "    }\n",
       "\n",
       "    .dataframe thead th {\n",
       "        text-align: right;\n",
       "    }\n",
       "</style>\n",
       "<table border=\"1\" class=\"dataframe\">\n",
       "  <thead>\n",
       "    <tr style=\"text-align: right;\">\n",
       "      <th></th>\n",
       "      <th>Station</th>\n",
       "      <th>Date</th>\n",
       "      <th>Tmax</th>\n",
       "      <th>Tmin</th>\n",
       "      <th>Tavg</th>\n",
       "      <th>Depart</th>\n",
       "      <th>DewPoint</th>\n",
       "      <th>WetBulb</th>\n",
       "      <th>Heat</th>\n",
       "      <th>Cool</th>\n",
       "      <th>...</th>\n",
       "      <th>CodeSum</th>\n",
       "      <th>Depth</th>\n",
       "      <th>Water1</th>\n",
       "      <th>SnowFall</th>\n",
       "      <th>PrecipTotal</th>\n",
       "      <th>StnPressure</th>\n",
       "      <th>SeaLevel</th>\n",
       "      <th>ResultSpeed</th>\n",
       "      <th>ResultDir</th>\n",
       "      <th>AvgSpeed</th>\n",
       "    </tr>\n",
       "  </thead>\n",
       "  <tbody>\n",
       "    <tr>\n",
       "      <th>0</th>\n",
       "      <td>1</td>\n",
       "      <td>2007-05-01</td>\n",
       "      <td>83</td>\n",
       "      <td>50</td>\n",
       "      <td>67</td>\n",
       "      <td>14</td>\n",
       "      <td>51</td>\n",
       "      <td>56</td>\n",
       "      <td>0</td>\n",
       "      <td>2</td>\n",
       "      <td>...</td>\n",
       "      <td></td>\n",
       "      <td>0</td>\n",
       "      <td>M</td>\n",
       "      <td>0.0</td>\n",
       "      <td>0.00</td>\n",
       "      <td>29.10</td>\n",
       "      <td>29.82</td>\n",
       "      <td>1.7</td>\n",
       "      <td>27</td>\n",
       "      <td>9.2</td>\n",
       "    </tr>\n",
       "    <tr>\n",
       "      <th>1</th>\n",
       "      <td>2</td>\n",
       "      <td>2007-05-01</td>\n",
       "      <td>84</td>\n",
       "      <td>52</td>\n",
       "      <td>68</td>\n",
       "      <td>M</td>\n",
       "      <td>51</td>\n",
       "      <td>57</td>\n",
       "      <td>0</td>\n",
       "      <td>3</td>\n",
       "      <td>...</td>\n",
       "      <td></td>\n",
       "      <td>M</td>\n",
       "      <td>M</td>\n",
       "      <td>M</td>\n",
       "      <td>0.00</td>\n",
       "      <td>29.18</td>\n",
       "      <td>29.82</td>\n",
       "      <td>2.7</td>\n",
       "      <td>25</td>\n",
       "      <td>9.6</td>\n",
       "    </tr>\n",
       "    <tr>\n",
       "      <th>2</th>\n",
       "      <td>1</td>\n",
       "      <td>2007-05-02</td>\n",
       "      <td>59</td>\n",
       "      <td>42</td>\n",
       "      <td>51</td>\n",
       "      <td>-3</td>\n",
       "      <td>42</td>\n",
       "      <td>47</td>\n",
       "      <td>14</td>\n",
       "      <td>0</td>\n",
       "      <td>...</td>\n",
       "      <td>BR</td>\n",
       "      <td>0</td>\n",
       "      <td>M</td>\n",
       "      <td>0.0</td>\n",
       "      <td>0.00</td>\n",
       "      <td>29.38</td>\n",
       "      <td>30.09</td>\n",
       "      <td>13.0</td>\n",
       "      <td>4</td>\n",
       "      <td>13.4</td>\n",
       "    </tr>\n",
       "    <tr>\n",
       "      <th>3</th>\n",
       "      <td>2</td>\n",
       "      <td>2007-05-02</td>\n",
       "      <td>60</td>\n",
       "      <td>43</td>\n",
       "      <td>52</td>\n",
       "      <td>M</td>\n",
       "      <td>42</td>\n",
       "      <td>47</td>\n",
       "      <td>13</td>\n",
       "      <td>0</td>\n",
       "      <td>...</td>\n",
       "      <td>BR HZ</td>\n",
       "      <td>M</td>\n",
       "      <td>M</td>\n",
       "      <td>M</td>\n",
       "      <td>0.00</td>\n",
       "      <td>29.44</td>\n",
       "      <td>30.08</td>\n",
       "      <td>13.3</td>\n",
       "      <td>2</td>\n",
       "      <td>13.4</td>\n",
       "    </tr>\n",
       "    <tr>\n",
       "      <th>4</th>\n",
       "      <td>1</td>\n",
       "      <td>2007-05-03</td>\n",
       "      <td>66</td>\n",
       "      <td>46</td>\n",
       "      <td>56</td>\n",
       "      <td>2</td>\n",
       "      <td>40</td>\n",
       "      <td>48</td>\n",
       "      <td>9</td>\n",
       "      <td>0</td>\n",
       "      <td>...</td>\n",
       "      <td></td>\n",
       "      <td>0</td>\n",
       "      <td>M</td>\n",
       "      <td>0.0</td>\n",
       "      <td>0.00</td>\n",
       "      <td>29.39</td>\n",
       "      <td>30.12</td>\n",
       "      <td>11.7</td>\n",
       "      <td>7</td>\n",
       "      <td>11.9</td>\n",
       "    </tr>\n",
       "  </tbody>\n",
       "</table>\n",
       "<p>5 rows × 22 columns</p>\n",
       "</div>"
      ],
      "text/plain": [
       "   Station        Date  Tmax  Tmin Tavg Depart  DewPoint WetBulb Heat Cool  \\\n",
       "0        1  2007-05-01    83    50   67     14        51      56    0    2   \n",
       "1        2  2007-05-01    84    52   68      M        51      57    0    3   \n",
       "2        1  2007-05-02    59    42   51     -3        42      47   14    0   \n",
       "3        2  2007-05-02    60    43   52      M        42      47   13    0   \n",
       "4        1  2007-05-03    66    46   56      2        40      48    9    0   \n",
       "\n",
       "   ... CodeSum Depth Water1 SnowFall PrecipTotal StnPressure SeaLevel  \\\n",
       "0  ...             0      M      0.0        0.00       29.10    29.82   \n",
       "1  ...             M      M        M        0.00       29.18    29.82   \n",
       "2  ...      BR     0      M      0.0        0.00       29.38    30.09   \n",
       "3  ...   BR HZ     M      M        M        0.00       29.44    30.08   \n",
       "4  ...             0      M      0.0        0.00       29.39    30.12   \n",
       "\n",
       "  ResultSpeed ResultDir  AvgSpeed  \n",
       "0         1.7        27       9.2  \n",
       "1         2.7        25       9.6  \n",
       "2        13.0         4      13.4  \n",
       "3        13.3         2      13.4  \n",
       "4        11.7         7      11.9  \n",
       "\n",
       "[5 rows x 22 columns]"
      ]
     },
     "execution_count": 4,
     "metadata": {},
     "output_type": "execute_result"
    }
   ],
   "source": [
    "# Print a few rows to see the dataframe\n",
    "weather.head()"
   ]
  },
  {
   "cell_type": "markdown",
   "metadata": {},
   "source": [
    "## Data Cleaning"
   ]
  },
  {
   "cell_type": "markdown",
   "metadata": {},
   "source": [
    "### 1. Deal with null values"
   ]
  },
  {
   "cell_type": "code",
   "execution_count": 5,
   "metadata": {
    "scrolled": true
   },
   "outputs": [
    {
     "data": {
      "text/plain": [
       "Station        0\n",
       "Date           0\n",
       "Tmax           0\n",
       "Tmin           0\n",
       "Tavg           0\n",
       "Depart         0\n",
       "DewPoint       0\n",
       "WetBulb        0\n",
       "Heat           0\n",
       "Cool           0\n",
       "Sunrise        0\n",
       "Sunset         0\n",
       "CodeSum        0\n",
       "Depth          0\n",
       "Water1         0\n",
       "SnowFall       0\n",
       "PrecipTotal    0\n",
       "StnPressure    0\n",
       "SeaLevel       0\n",
       "ResultSpeed    0\n",
       "ResultDir      0\n",
       "AvgSpeed       0\n",
       "dtype: int64"
      ]
     },
     "execution_count": 5,
     "metadata": {},
     "output_type": "execute_result"
    }
   ],
   "source": [
    "# Check for null values\n",
    "weather.isnull().sum()"
   ]
  },
  {
   "cell_type": "markdown",
   "metadata": {},
   "source": [
    "From this aspect, there is no null value.\n",
    "\n",
    "However, after looking at the few rows printed out of the dataframe above, observe there are null values being put as \"M\" or '-' in a few columns such as \"Depart\", \"Depth\", \"Water1\", \"Sunrise\" and \"Sunset\"."
   ]
  },
  {
   "cell_type": "code",
   "execution_count": 6,
   "metadata": {},
   "outputs": [],
   "source": [
    "# Replace all the 'M' or '-' values to NaN\n",
    "for col in weather:\n",
    "    weather[col] = weather[col].apply(lambda value: np.nan if value == 'M' or value == '-' else value)\n",
    "\n",
    "# Calculate the number of null values in each column, sorting in descending order\n",
    "null_count = weather.isnull().sum().sort_values(ascending=False)"
   ]
  },
  {
   "cell_type": "code",
   "execution_count": 7,
   "metadata": {},
   "outputs": [],
   "source": [
    "# Filter out those columns with 0 null values\n",
    "null_count = null_count[null_count.values >0]\n",
    "\n",
    "# Calculate null values in terms of percentage\n",
    "null_count_percent = null_count/(len(weather)) * 100\n",
    "\n",
    "# Create a dataframe as 'null_df'\n",
    "null_df = pd.concat([null_count,null_count_percent], axis = 1, keys =['Total null values', 'Percentage of null values'])"
   ]
  },
  {
   "cell_type": "code",
   "execution_count": 8,
   "metadata": {},
   "outputs": [
    {
     "data": {
      "text/html": [
       "<div>\n",
       "<style scoped>\n",
       "    .dataframe tbody tr th:only-of-type {\n",
       "        vertical-align: middle;\n",
       "    }\n",
       "\n",
       "    .dataframe tbody tr th {\n",
       "        vertical-align: top;\n",
       "    }\n",
       "\n",
       "    .dataframe thead th {\n",
       "        text-align: right;\n",
       "    }\n",
       "</style>\n",
       "<table border=\"1\" class=\"dataframe\">\n",
       "  <thead>\n",
       "    <tr style=\"text-align: right;\">\n",
       "      <th></th>\n",
       "      <th>Total null values</th>\n",
       "      <th>Percentage of null values</th>\n",
       "    </tr>\n",
       "  </thead>\n",
       "  <tbody>\n",
       "    <tr>\n",
       "      <th>Water1</th>\n",
       "      <td>2944</td>\n",
       "      <td>100.000000</td>\n",
       "    </tr>\n",
       "    <tr>\n",
       "      <th>Sunset</th>\n",
       "      <td>1472</td>\n",
       "      <td>50.000000</td>\n",
       "    </tr>\n",
       "    <tr>\n",
       "      <th>Depth</th>\n",
       "      <td>1472</td>\n",
       "      <td>50.000000</td>\n",
       "    </tr>\n",
       "    <tr>\n",
       "      <th>Depart</th>\n",
       "      <td>1472</td>\n",
       "      <td>50.000000</td>\n",
       "    </tr>\n",
       "    <tr>\n",
       "      <th>SnowFall</th>\n",
       "      <td>1472</td>\n",
       "      <td>50.000000</td>\n",
       "    </tr>\n",
       "    <tr>\n",
       "      <th>Sunrise</th>\n",
       "      <td>1472</td>\n",
       "      <td>50.000000</td>\n",
       "    </tr>\n",
       "    <tr>\n",
       "      <th>Tavg</th>\n",
       "      <td>11</td>\n",
       "      <td>0.373641</td>\n",
       "    </tr>\n",
       "    <tr>\n",
       "      <th>Heat</th>\n",
       "      <td>11</td>\n",
       "      <td>0.373641</td>\n",
       "    </tr>\n",
       "    <tr>\n",
       "      <th>Cool</th>\n",
       "      <td>11</td>\n",
       "      <td>0.373641</td>\n",
       "    </tr>\n",
       "    <tr>\n",
       "      <th>SeaLevel</th>\n",
       "      <td>9</td>\n",
       "      <td>0.305707</td>\n",
       "    </tr>\n",
       "    <tr>\n",
       "      <th>StnPressure</th>\n",
       "      <td>4</td>\n",
       "      <td>0.135870</td>\n",
       "    </tr>\n",
       "    <tr>\n",
       "      <th>WetBulb</th>\n",
       "      <td>4</td>\n",
       "      <td>0.135870</td>\n",
       "    </tr>\n",
       "    <tr>\n",
       "      <th>AvgSpeed</th>\n",
       "      <td>3</td>\n",
       "      <td>0.101902</td>\n",
       "    </tr>\n",
       "    <tr>\n",
       "      <th>PrecipTotal</th>\n",
       "      <td>2</td>\n",
       "      <td>0.067935</td>\n",
       "    </tr>\n",
       "  </tbody>\n",
       "</table>\n",
       "</div>"
      ],
      "text/plain": [
       "             Total null values  Percentage of null values\n",
       "Water1                    2944                 100.000000\n",
       "Sunset                    1472                  50.000000\n",
       "Depth                     1472                  50.000000\n",
       "Depart                    1472                  50.000000\n",
       "SnowFall                  1472                  50.000000\n",
       "Sunrise                   1472                  50.000000\n",
       "Tavg                        11                   0.373641\n",
       "Heat                        11                   0.373641\n",
       "Cool                        11                   0.373641\n",
       "SeaLevel                     9                   0.305707\n",
       "StnPressure                  4                   0.135870\n",
       "WetBulb                      4                   0.135870\n",
       "AvgSpeed                     3                   0.101902\n",
       "PrecipTotal                  2                   0.067935"
      ]
     },
     "execution_count": 8,
     "metadata": {},
     "output_type": "execute_result"
    }
   ],
   "source": [
    "# Print the dataframe\n",
    "null_df"
   ]
  },
  {
   "cell_type": "code",
   "execution_count": 9,
   "metadata": {},
   "outputs": [
    {
     "data": {
      "image/png": "[encoded data removed]",
      "text/plain": [
       "<Figure size 1152x360 with 1 Axes>"
      ]
     },
     "metadata": {
      "needs_background": "light"
     },
     "output_type": "display_data"
    }
   ],
   "source": [
    "# Plot the missing values using a bar plot\n",
    "fig, ax = plt.subplots(figsize=(16,5))\n",
    "ax = sns.barplot(null_count_percent.values,null_count_percent.index);\n",
    "ax.set_xlabel('(%)');\n",
    "ax.set_ylabel('feature');\n",
    "ax.set_title('Percentage of missing values', fontsize=16);"
   ]
  },
  {
   "cell_type": "markdown",
   "metadata": {},
   "source": [
    "As the 6 columns 'Water1', 'Sunrise', 'Depart', 'Snowfall', 'Depth' and 'Sunset' have at least 50% of dataset of missing values, we feel that it would be good to drop these columns as imputation might skew the data."
   ]
  },
  {
   "cell_type": "markdown",
   "metadata": {},
   "source": [
    "#### Dropping Columns"
   ]
  },
  {
   "cell_type": "code",
   "execution_count": 10,
   "metadata": {},
   "outputs": [],
   "source": [
    "# Drop the 6 columns\n",
    "weather.drop(columns=['Water1', 'Sunrise', 'Depart', 'SnowFall', 'Depth', 'Sunset'], inplace=True)"
   ]
  },
  {
   "cell_type": "code",
   "execution_count": 11,
   "metadata": {
    "scrolled": true
   },
   "outputs": [
    {
     "data": {
      "text/plain": [
       "(2944, 16)"
      ]
     },
     "execution_count": 11,
     "metadata": {},
     "output_type": "execute_result"
    }
   ],
   "source": [
    "# Check the shape\n",
    "weather.shape\n",
    "\n",
    "# Now there are 16 columns left"
   ]
  },
  {
   "cell_type": "markdown",
   "metadata": {},
   "source": [
    "#### Imputation of rest of columns with only a few rows of null values\n",
    "\n",
    "Remaining columns with missing values are:\n",
    "1. Tavg\t\n",
    "2. Cool\n",
    "3. Heat\n",
    "4. SeaLevel\n",
    "5. StnPressure\n",
    "6. WetBulb\t\t\n",
    "7. AvgSpeed\n",
    "8. PrecipTotal\n",
    "\n",
    "We will imputate the values for the missing values in these columns as the missing values in these columns are less than 1%."
   ]
  },
  {
   "cell_type": "markdown",
   "metadata": {},
   "source": [
    "##### 1. The column 'Tavg'"
   ]
  },
  {
   "cell_type": "code",
   "execution_count": 12,
   "metadata": {
    "scrolled": true
   },
   "outputs": [
    {
     "data": {
      "text/plain": [
       "dtype('O')"
      ]
     },
     "execution_count": 12,
     "metadata": {},
     "output_type": "execute_result"
    }
   ],
   "source": [
    "# Check the data type of Tavg\n",
    "weather['Tavg'].dtype"
   ]
  },
  {
   "cell_type": "markdown",
   "metadata": {},
   "source": [
    "The 'Tavg' column's values are in str format. For better visualisation during plotting, we will change the data type of the values to float."
   ]
  },
  {
   "cell_type": "code",
   "execution_count": 13,
   "metadata": {},
   "outputs": [],
   "source": [
    "# Changing the data types from str to float\n",
    "weather['Tavg'] = weather['Tavg'].map(lambda value: float(value) if value != np.nan else value)"
   ]
  },
  {
   "cell_type": "code",
   "execution_count": 14,
   "metadata": {},
   "outputs": [
    {
     "data": {
      "text/plain": [
       "dtype('float64')"
      ]
     },
     "execution_count": 14,
     "metadata": {},
     "output_type": "execute_result"
    }
   ],
   "source": [
    "# Check again the data type of Tavg\n",
    "weather['Tavg'].dtype"
   ]
  },
  {
   "cell_type": "code",
   "execution_count": 15,
   "metadata": {
    "scrolled": true
   },
   "outputs": [
    {
     "data": {
      "text/plain": [
       "array([36., 37., 38., 39., 40., 41., 42., 43., 44., 45., 46., 47., 48.,\n",
       "       49., 50., 51., 52., 53., 54., 55., 56., 57., 58., 59., 60., 61.,\n",
       "       62., 63., 64., 65., 66., 67., 68., 69., 70., 71., 72., 73., 74.,\n",
       "       75., 76., 77., 78., 79., 80., 81., 82., 83., 84., 85., 86., 87.,\n",
       "       88., 89., 90., 91., 92., 93., 94., nan, nan, nan, nan, nan, nan,\n",
       "       nan, nan, nan, nan, nan])"
      ]
     },
     "execution_count": 15,
     "metadata": {},
     "output_type": "execute_result"
    }
   ],
   "source": [
    "# Check the unique values in Tavg\n",
    "np.unique(weather['Tavg'])"
   ]
  },
  {
   "cell_type": "code",
   "execution_count": 16,
   "metadata": {},
   "outputs": [],
   "source": [
    "# Replace all null values in 'Tavg' by averaging between the Tmax and Tmin of that row, as it is how Tavg is calculated.\n",
    "weather.loc[weather['Tavg'].isnull(),'Tavg'] = (weather['Tmax'] + weather['Tmin'])/2"
   ]
  },
  {
   "cell_type": "code",
   "execution_count": 17,
   "metadata": {
    "scrolled": true
   },
   "outputs": [
    {
     "data": {
      "text/plain": [
       "0"
      ]
     },
     "execution_count": 17,
     "metadata": {},
     "output_type": "execute_result"
    }
   ],
   "source": [
    "# Check whether there is still null value\n",
    "weather['Tavg'].isnull().sum()\n",
    "\n",
    "# No more null values."
   ]
  },
  {
   "cell_type": "markdown",
   "metadata": {},
   "source": [
    "##### 2. The column 'Cool'"
   ]
  },
  {
   "cell_type": "code",
   "execution_count": 18,
   "metadata": {
    "scrolled": true
   },
   "outputs": [
    {
     "data": {
      "text/plain": [
       "dtype('O')"
      ]
     },
     "execution_count": 18,
     "metadata": {},
     "output_type": "execute_result"
    }
   ],
   "source": [
    "# Check the data type of Cool\n",
    "weather['Cool'].dtype"
   ]
  },
  {
   "cell_type": "markdown",
   "metadata": {},
   "source": [
    "The 'Cool' column's values are in str format. For better visualisation during plotting, we will change the data type of the values to float."
   ]
  },
  {
   "cell_type": "code",
   "execution_count": 19,
   "metadata": {},
   "outputs": [],
   "source": [
    "# Changing the data types from str to float\n",
    "weather['Cool'] = weather['Cool'].map(lambda value: float(value) if value != np.nan else value)"
   ]
  },
  {
   "cell_type": "code",
   "execution_count": 20,
   "metadata": {},
   "outputs": [
    {
     "data": {
      "text/plain": [
       "dtype('float64')"
      ]
     },
     "execution_count": 20,
     "metadata": {},
     "output_type": "execute_result"
    }
   ],
   "source": [
    "# Check again the data type of Cool\n",
    "weather['Cool'].dtype"
   ]
  },
  {
   "cell_type": "code",
   "execution_count": 21,
   "metadata": {
    "scrolled": true
   },
   "outputs": [
    {
     "data": {
      "text/plain": [
       "array([ 0.,  1.,  2.,  3.,  4.,  5.,  6.,  7.,  8.,  9., 10., 11., 12.,\n",
       "       13., 14., 15., 16., 17., 18., 19., 20., 21., 22., 23., 24., 25.,\n",
       "       26., 27., 28., 29., nan, nan, nan, nan, nan, nan, nan, nan, nan,\n",
       "       nan, nan])"
      ]
     },
     "execution_count": 21,
     "metadata": {},
     "output_type": "execute_result"
    }
   ],
   "source": [
    "# Check the unique values in Cool\n",
    "np.unique(weather['Cool'])"
   ]
  },
  {
   "cell_type": "markdown",
   "metadata": {},
   "source": [
    "Before imputating any empty values in Cool, we will take a look at the distribution of the values in the Cool column."
   ]
  },
  {
   "cell_type": "code",
   "execution_count": 22,
   "metadata": {},
   "outputs": [
    {
     "data": {
      "image/png": "[encoded data removed]",
      "text/plain": [
       "<Figure size 936x576 with 1 Axes>"
      ]
     },
     "metadata": {
      "needs_background": "light"
     },
     "output_type": "display_data"
    }
   ],
   "source": [
    "# Plot the value count of cool values\n",
    "plt.figure(figsize=(13,8));\n",
    "sns.countplot(weather['Cool'].sort_values(ascending = True));\n",
    "plt.title('Value count of Cool Values');"
   ]
  },
  {
   "cell_type": "markdown",
   "metadata": {},
   "source": [
    "As the 'Cool' column is made up of discrete values, we will take the value that is the most frequent to impute into the NULL cells.\n",
    "\n",
    "The countplot above shows that the value 0 appears much more frequently than the other values. Therefore, we decided to replace the NULL values in the 'Cool' column with 0."
   ]
  },
  {
   "cell_type": "code",
   "execution_count": 23,
   "metadata": {},
   "outputs": [],
   "source": [
    "# Replace null value in 'Cool' to zero\n",
    "weather['Cool'] = weather['Cool'].fillna(0)"
   ]
  },
  {
   "cell_type": "code",
   "execution_count": 24,
   "metadata": {},
   "outputs": [
    {
     "data": {
      "text/plain": [
       "0"
      ]
     },
     "execution_count": 24,
     "metadata": {},
     "output_type": "execute_result"
    }
   ],
   "source": [
    "# Check whether there is still null value\n",
    "weather['Cool'].isnull().sum()\n",
    "\n",
    "# No more null values."
   ]
  },
  {
   "cell_type": "markdown",
   "metadata": {},
   "source": [
    "##### 3. The column 'Heat'"
   ]
  },
  {
   "cell_type": "code",
   "execution_count": 25,
   "metadata": {
    "scrolled": true
   },
   "outputs": [
    {
     "data": {
      "text/plain": [
       "dtype('O')"
      ]
     },
     "execution_count": 25,
     "metadata": {},
     "output_type": "execute_result"
    }
   ],
   "source": [
    "# Check the data type of Heat\n",
    "weather['Heat'].dtype"
   ]
  },
  {
   "cell_type": "markdown",
   "metadata": {},
   "source": [
    "The 'Heat' column's values are in str format. For better visualisation during plotting, we will change the data type of the values to float."
   ]
  },
  {
   "cell_type": "code",
   "execution_count": 26,
   "metadata": {},
   "outputs": [],
   "source": [
    "# Changing the data types from str to float\n",
    "weather['Heat'] = weather['Heat'].map(lambda value: float(value) if value != np.nan else value)"
   ]
  },
  {
   "cell_type": "code",
   "execution_count": 27,
   "metadata": {},
   "outputs": [
    {
     "data": {
      "text/plain": [
       "dtype('float64')"
      ]
     },
     "execution_count": 27,
     "metadata": {},
     "output_type": "execute_result"
    }
   ],
   "source": [
    "# Check again the data type of Heat\n",
    "weather['Heat'].dtype"
   ]
  },
  {
   "cell_type": "code",
   "execution_count": 28,
   "metadata": {
    "scrolled": true
   },
   "outputs": [
    {
     "data": {
      "text/plain": [
       "array([ 0.,  1.,  2.,  3.,  4.,  5.,  6.,  7.,  8.,  9., 10., 11., 12.,\n",
       "       13., 14., 15., 16., 17., 18., 19., 20., 21., 22., 23., 24., 25.,\n",
       "       26., 27., 28., 29., nan, nan, nan, nan, nan, nan, nan, nan, nan,\n",
       "       nan, nan])"
      ]
     },
     "execution_count": 28,
     "metadata": {},
     "output_type": "execute_result"
    }
   ],
   "source": [
    "# Check the unique values in Heat\n",
    "np.unique(weather['Heat'])"
   ]
  },
  {
   "cell_type": "markdown",
   "metadata": {},
   "source": [
    "Before imputating any empty values in Heat, we will take a look at the distribution of the values in the Heat column."
   ]
  },
  {
   "cell_type": "code",
   "execution_count": 29,
   "metadata": {
    "scrolled": false
   },
   "outputs": [
    {
     "data": {
      "image/png": "[encoded data removed]",
      "text/plain": [
       "<Figure size 1152x360 with 1 Axes>"
      ]
     },
     "metadata": {
      "needs_background": "light"
     },
     "output_type": "display_data"
    }
   ],
   "source": [
    "# Plot count of each value\n",
    "plt.figure(figsize=(16,5));\n",
    "sns.countplot(weather['Heat'].sort_values(ascending=True));\n",
    "plt.title('Value Count of Heat values');\n",
    "\n",
    "plt.show();"
   ]
  },
  {
   "cell_type": "markdown",
   "metadata": {},
   "source": [
    "As the 'Heat' column is made up of discrete values, we will take the value that is the most frequent to impute into the NULL cells.\n",
    "\n",
    "The countplot above shows that the value 0 appears much more frequently than the other values. Therefore, we decided to replace the NULL values in the 'Heat' column with 0."
   ]
  },
  {
   "cell_type": "code",
   "execution_count": 30,
   "metadata": {
    "scrolled": true
   },
   "outputs": [
    {
     "name": "stdout",
     "output_type": "stream",
     "text": [
      "Number of NULL values in \"Heat\" column: 0\n"
     ]
    },
    {
     "data": {
      "text/plain": [
       "array([ 0.,  1.,  2.,  3.,  4.,  5.,  6.,  7.,  8.,  9., 10., 11., 12.,\n",
       "       13., 14., 15., 16., 17., 18., 19., 20., 21., 22., 23., 24., 25.,\n",
       "       26., 27., 28., 29.])"
      ]
     },
     "execution_count": 30,
     "metadata": {},
     "output_type": "execute_result"
    }
   ],
   "source": [
    "# Fill all NULL values with 0\n",
    "weather['Heat'] = weather['Heat'].fillna(0)\n",
    "\n",
    "# Check whether there is still null value\n",
    "print('Number of NULL values in \"Heat\" column:', weather['Heat'].isnull().sum())\n",
    "\n",
    "# Reheck the unique values in Heat\n",
    "np.unique(weather['Heat'])"
   ]
  },
  {
   "cell_type": "markdown",
   "metadata": {},
   "source": [
    "##### 4. The column 'SeaLevel'"
   ]
  },
  {
   "cell_type": "code",
   "execution_count": 31,
   "metadata": {
    "scrolled": true
   },
   "outputs": [
    {
     "data": {
      "text/plain": [
       "dtype('O')"
      ]
     },
     "execution_count": 31,
     "metadata": {},
     "output_type": "execute_result"
    }
   ],
   "source": [
    "# Check the data type of SeaLevel\n",
    "weather['SeaLevel'].dtype"
   ]
  },
  {
   "cell_type": "markdown",
   "metadata": {},
   "source": [
    "The 'SeaLevel' column's values are in str format. For better visualisation during plotting, we will change the data type of the values to float."
   ]
  },
  {
   "cell_type": "code",
   "execution_count": 32,
   "metadata": {},
   "outputs": [],
   "source": [
    "# Changing the data types from str to float\n",
    "weather['SeaLevel'] = weather['SeaLevel'].map(lambda value: float(value) if value != np.nan else value)"
   ]
  },
  {
   "cell_type": "code",
   "execution_count": 33,
   "metadata": {},
   "outputs": [
    {
     "data": {
      "text/plain": [
       "dtype('float64')"
      ]
     },
     "execution_count": 33,
     "metadata": {},
     "output_type": "execute_result"
    }
   ],
   "source": [
    "# Check again the data type of SeaLevel\n",
    "weather['SeaLevel'].dtype"
   ]
  },
  {
   "cell_type": "code",
   "execution_count": 34,
   "metadata": {
    "scrolled": true
   },
   "outputs": [
    {
     "data": {
      "text/plain": [
       "array([29.23, 29.25, 29.34, 29.43, 29.44, 29.45, 29.46, 29.47, 29.48,\n",
       "       29.5 , 29.51, 29.52, 29.53, 29.54, 29.55, 29.56, 29.59, 29.6 ,\n",
       "       29.61, 29.62, 29.63, 29.64, 29.65, 29.66, 29.67, 29.68, 29.69,\n",
       "       29.7 , 29.71, 29.72, 29.73, 29.74, 29.75, 29.76, 29.77, 29.78,\n",
       "       29.79, 29.8 , 29.81, 29.82, 29.83, 29.84, 29.85, 29.86, 29.87,\n",
       "       29.88, 29.89, 29.9 , 29.91, 29.92, 29.93, 29.94, 29.95, 29.96,\n",
       "       29.97, 29.98, 29.99, 30.  , 30.01, 30.02, 30.03, 30.04, 30.05,\n",
       "       30.06, 30.07, 30.08, 30.09, 30.1 , 30.11, 30.12, 30.13, 30.14,\n",
       "       30.15, 30.16, 30.17, 30.18, 30.19, 30.2 , 30.21, 30.22, 30.23,\n",
       "       30.24, 30.25, 30.26, 30.27, 30.28, 30.29, 30.3 , 30.31, 30.32,\n",
       "       30.33, 30.34, 30.35, 30.36, 30.37, 30.38, 30.39, 30.4 , 30.41,\n",
       "       30.52, 30.53,   nan,   nan,   nan,   nan,   nan,   nan,   nan,\n",
       "         nan,   nan])"
      ]
     },
     "execution_count": 34,
     "metadata": {},
     "output_type": "execute_result"
    }
   ],
   "source": [
    "# Check the unique values in SeaLevel\n",
    "np.unique(weather['SeaLevel'])"
   ]
  },
  {
   "cell_type": "markdown",
   "metadata": {},
   "source": [
    "Before imputating any empty values in SeaLevel, we will take a look at the distribution of the values in the SeaLevel column."
   ]
  },
  {
   "cell_type": "code",
   "execution_count": 35,
   "metadata": {},
   "outputs": [
    {
     "data": {
      "image/png": "[encoded data removed]",
      "text/plain": [
       "<Figure size 936x576 with 1 Axes>"
      ]
     },
     "metadata": {
      "needs_background": "light"
     },
     "output_type": "display_data"
    }
   ],
   "source": [
    "# Plot the distribution of sealevel values\n",
    "plt.figure(figsize=(13,8));\n",
    "sns.distplot(weather['SeaLevel'].sort_values(ascending = True));\n",
    "plt.title('Distribution Plot of Sealevel Values');"
   ]
  },
  {
   "cell_type": "markdown",
   "metadata": {},
   "source": [
    "Based on the above distribution plot, the sea level is a range of continuous numbers, and having a median at quite the center of the distribution. As such, we will use the median to replace the null values."
   ]
  },
  {
   "cell_type": "code",
   "execution_count": 36,
   "metadata": {},
   "outputs": [],
   "source": [
    "# Replacing Sealevel null values with median\n",
    "weather['SeaLevel'] = weather['SeaLevel'].fillna(weather['SeaLevel'].median())"
   ]
  },
  {
   "cell_type": "code",
   "execution_count": 37,
   "metadata": {
    "scrolled": false
   },
   "outputs": [
    {
     "data": {
      "text/plain": [
       "0"
      ]
     },
     "execution_count": 37,
     "metadata": {},
     "output_type": "execute_result"
    }
   ],
   "source": [
    "# Check whether there is still null value\n",
    "weather['SeaLevel'].isnull().sum()\n",
    "\n",
    "# No more null values."
   ]
  },
  {
   "cell_type": "markdown",
   "metadata": {},
   "source": [
    "##### 5. The column 'StnPressure'"
   ]
  },
  {
   "cell_type": "code",
   "execution_count": 38,
   "metadata": {
    "scrolled": true
   },
   "outputs": [
    {
     "data": {
      "text/plain": [
       "dtype('O')"
      ]
     },
     "execution_count": 38,
     "metadata": {},
     "output_type": "execute_result"
    }
   ],
   "source": [
    "# Check the data type of StnPressure\n",
    "weather['StnPressure'].dtype"
   ]
  },
  {
   "cell_type": "markdown",
   "metadata": {},
   "source": [
    "The 'StnPressure' column's values are in str format. For better visualisation during plotting, we will change the data type of the values to float."
   ]
  },
  {
   "cell_type": "code",
   "execution_count": 39,
   "metadata": {},
   "outputs": [],
   "source": [
    "# Changing the data types from str to float\n",
    "weather['StnPressure'] = weather['StnPressure'].map(lambda value: float(value) if value != np.nan else value)"
   ]
  },
  {
   "cell_type": "code",
   "execution_count": 40,
   "metadata": {},
   "outputs": [
    {
     "data": {
      "text/plain": [
       "dtype('float64')"
      ]
     },
     "execution_count": 40,
     "metadata": {},
     "output_type": "execute_result"
    }
   ],
   "source": [
    "# Check again the data type of StnPressure\n",
    "weather['StnPressure'].dtype"
   ]
  },
  {
   "cell_type": "code",
   "execution_count": 41,
   "metadata": {
    "scrolled": false
   },
   "outputs": [
    {
     "data": {
      "text/plain": [
       "array([28.55, 28.59, 28.63, 28.67, 28.69, 28.71, 28.73, 28.74, 28.75,\n",
       "       28.77, 28.79, 28.8 , 28.81, 28.82, 28.83, 28.84, 28.85, 28.87,\n",
       "       28.88, 28.89, 28.9 , 28.91, 28.92, 28.93, 28.94, 28.95, 28.96,\n",
       "       28.97, 28.98, 28.99, 29.  , 29.01, 29.02, 29.03, 29.04, 29.05,\n",
       "       29.06, 29.07, 29.08, 29.09, 29.1 , 29.11, 29.12, 29.13, 29.14,\n",
       "       29.15, 29.16, 29.17, 29.18, 29.19, 29.2 , 29.21, 29.22, 29.23,\n",
       "       29.24, 29.25, 29.26, 29.27, 29.28, 29.29, 29.3 , 29.31, 29.32,\n",
       "       29.33, 29.34, 29.35, 29.36, 29.37, 29.38, 29.39, 29.4 , 29.41,\n",
       "       29.42, 29.43, 29.44, 29.45, 29.46, 29.47, 29.48, 29.49, 29.5 ,\n",
       "       29.51, 29.52, 29.53, 29.54, 29.55, 29.56, 29.57, 29.58, 29.59,\n",
       "       29.6 , 29.61, 29.62, 29.63, 29.64, 29.65, 29.66, 29.67, 29.68,\n",
       "       29.7 , 29.71, 29.79, 29.86,   nan,   nan,   nan,   nan])"
      ]
     },
     "execution_count": 41,
     "metadata": {},
     "output_type": "execute_result"
    }
   ],
   "source": [
    "# Check the unique values in StnPressure\n",
    "np.unique(weather['StnPressure'])"
   ]
  },
  {
   "cell_type": "markdown",
   "metadata": {},
   "source": [
    "Before imputating any empty values in StnPressure, we will take a look at the distribution of the values in the StnPressure column."
   ]
  },
  {
   "cell_type": "code",
   "execution_count": 42,
   "metadata": {},
   "outputs": [
    {
     "data": {
      "image/png": "[encoded data removed]",
      "text/plain": [
       "<Figure size 936x576 with 1 Axes>"
      ]
     },
     "metadata": {
      "needs_background": "light"
     },
     "output_type": "display_data"
    }
   ],
   "source": [
    "# Plot the distribution of StnPressure values\n",
    "plt.figure(figsize=(13,8));\n",
    "sns.distplot(weather['StnPressure'].sort_values(ascending = True));\n",
    "plt.title('Distribution Plot of StnPressure Values');"
   ]
  },
  {
   "cell_type": "markdown",
   "metadata": {},
   "source": [
    "Based on the above distribution plot, the StnPressure is a range of continuous numbers, and having a median at quite the center of the distribution. As such, we will use the median to replace the null values."
   ]
  },
  {
   "cell_type": "code",
   "execution_count": 43,
   "metadata": {},
   "outputs": [],
   "source": [
    "# Replacing StnPressure null values with median\n",
    "weather['StnPressure'] = weather['StnPressure'].fillna(weather['StnPressure'].median())"
   ]
  },
  {
   "cell_type": "code",
   "execution_count": 44,
   "metadata": {},
   "outputs": [
    {
     "data": {
      "text/plain": [
       "0"
      ]
     },
     "execution_count": 44,
     "metadata": {},
     "output_type": "execute_result"
    }
   ],
   "source": [
    "# Check whether there is still null value\n",
    "weather['StnPressure'].isnull().sum()\n",
    "\n",
    "# No more null values."
   ]
  },
  {
   "cell_type": "markdown",
   "metadata": {},
   "source": [
    "##### 6. The column 'WetBulb'"
   ]
  },
  {
   "cell_type": "code",
   "execution_count": 45,
   "metadata": {
    "scrolled": true
   },
   "outputs": [
    {
     "data": {
      "text/plain": [
       "dtype('O')"
      ]
     },
     "execution_count": 45,
     "metadata": {},
     "output_type": "execute_result"
    }
   ],
   "source": [
    "# Check the data type of WetBulb\n",
    "weather['WetBulb'].dtype"
   ]
  },
  {
   "cell_type": "markdown",
   "metadata": {},
   "source": [
    "The 'WetBulb' column's values are in str format. For better visualisation during plotting, we will change the data type of the values to float."
   ]
  },
  {
   "cell_type": "code",
   "execution_count": 46,
   "metadata": {},
   "outputs": [],
   "source": [
    "# Changing the data types from str to float\n",
    "weather['WetBulb'] = weather['WetBulb'].map(lambda value: float(value) if value != np.nan else value)"
   ]
  },
  {
   "cell_type": "code",
   "execution_count": 47,
   "metadata": {},
   "outputs": [
    {
     "data": {
      "text/plain": [
       "dtype('float64')"
      ]
     },
     "execution_count": 47,
     "metadata": {},
     "output_type": "execute_result"
    }
   ],
   "source": [
    "# Check again the data type of WetBulb\n",
    "weather['WetBulb'].dtype"
   ]
  },
  {
   "cell_type": "code",
   "execution_count": 48,
   "metadata": {
    "scrolled": false
   },
   "outputs": [
    {
     "data": {
      "text/plain": [
       "array([32., 33., 34., 35., 36., 37., 38., 39., 40., 41., 42., 43., 44.,\n",
       "       45., 46., 47., 48., 49., 50., 51., 52., 53., 54., 55., 56., 57.,\n",
       "       58., 59., 60., 61., 62., 63., 64., 65., 66., 67., 68., 69., 70.,\n",
       "       71., 72., 73., 74., 75., 76., 77., 78., nan, nan, nan, nan])"
      ]
     },
     "execution_count": 48,
     "metadata": {},
     "output_type": "execute_result"
    }
   ],
   "source": [
    "# Check the unique values in WetBulb\n",
    "np.unique(weather['WetBulb'])"
   ]
  },
  {
   "cell_type": "markdown",
   "metadata": {},
   "source": [
    "Before imputating any empty values in WetBulb, we will take a look at the distribution of the values in the WetBulb column."
   ]
  },
  {
   "cell_type": "code",
   "execution_count": 49,
   "metadata": {},
   "outputs": [
    {
     "data": {
      "image/png": "[encoded data removed]",
      "text/plain": [
       "<Figure size 936x576 with 1 Axes>"
      ]
     },
     "metadata": {
      "needs_background": "light"
     },
     "output_type": "display_data"
    }
   ],
   "source": [
    "# Plot the distribution of WetBulb values\n",
    "plt.figure(figsize=(13,8));\n",
    "sns.distplot(weather['WetBulb'].sort_values(ascending = True));\n",
    "plt.title('Distribution Plot of WetBulb Values');"
   ]
  },
  {
   "cell_type": "markdown",
   "metadata": {},
   "source": [
    "Based on the above distribution plot, the WetBulb is a range of continuous numbers, and having a median at quite the center of the distribution. As such, we will use the median to replace the null values."
   ]
  },
  {
   "cell_type": "code",
   "execution_count": 50,
   "metadata": {},
   "outputs": [],
   "source": [
    "# Replacing WetBulb null values with median\n",
    "weather['WetBulb'] = weather['WetBulb'].fillna(weather['WetBulb'].median())"
   ]
  },
  {
   "cell_type": "code",
   "execution_count": 51,
   "metadata": {},
   "outputs": [
    {
     "data": {
      "text/plain": [
       "0"
      ]
     },
     "execution_count": 51,
     "metadata": {},
     "output_type": "execute_result"
    }
   ],
   "source": [
    "# Check whether there is still null value\n",
    "weather['WetBulb'].isnull().sum()\n",
    "\n",
    "# No more null values."
   ]
  },
  {
   "cell_type": "markdown",
   "metadata": {},
   "source": [
    "##### 7. The column 'AvgSpeed'"
   ]
  },
  {
   "cell_type": "code",
   "execution_count": 52,
   "metadata": {
    "scrolled": true
   },
   "outputs": [
    {
     "data": {
      "text/plain": [
       "dtype('O')"
      ]
     },
     "execution_count": 52,
     "metadata": {},
     "output_type": "execute_result"
    }
   ],
   "source": [
    "# Check the data type of AvgSpeed\n",
    "weather['AvgSpeed'].dtype"
   ]
  },
  {
   "cell_type": "markdown",
   "metadata": {},
   "source": [
    "The 'AvgSpeed' column's values are in str format. For better visualisation during plotting, we will change the data type of the values to float."
   ]
  },
  {
   "cell_type": "code",
   "execution_count": 53,
   "metadata": {},
   "outputs": [],
   "source": [
    "# Changing the data types from str to float\n",
    "weather['AvgSpeed'] = weather['AvgSpeed'].map(lambda value: float(value) if value != np.nan else value)"
   ]
  },
  {
   "cell_type": "code",
   "execution_count": 54,
   "metadata": {},
   "outputs": [
    {
     "data": {
      "text/plain": [
       "dtype('float64')"
      ]
     },
     "execution_count": 54,
     "metadata": {},
     "output_type": "execute_result"
    }
   ],
   "source": [
    "# Check again the data type of AvgSpeed\n",
    "weather['AvgSpeed'].dtype"
   ]
  },
  {
   "cell_type": "code",
   "execution_count": 55,
   "metadata": {},
   "outputs": [
    {
     "data": {
      "text/plain": [
       "array([ 1.7,  1.9,  2. ,  2.1,  2.3,  2.4,  2.6,  2.7,  2.8,  2.9,  3. ,\n",
       "        3.1,  3.2,  3.3,  3.4,  3.5,  3.6,  3.7,  3.8,  3.9,  4. ,  4.1,\n",
       "        4.2,  4.3,  4.4,  4.5,  4.6,  4.7,  4.8,  4.9,  5. ,  5.1,  5.2,\n",
       "        5.3,  5.4,  5.5,  5.6,  5.7,  5.8,  5.9,  6. ,  6.1,  6.2,  6.3,\n",
       "        6.4,  6.5,  6.6,  6.7,  6.8,  6.9,  7. ,  7.1,  7.2,  7.3,  7.4,\n",
       "        7.5,  7.6,  7.7,  7.8,  7.9,  8. ,  8.1,  8.2,  8.3,  8.4,  8.5,\n",
       "        8.6,  8.7,  8.8,  8.9,  9. ,  9.1,  9.2,  9.3,  9.4,  9.5,  9.6,\n",
       "        9.7,  9.8,  9.9, 10. , 10.1, 10.2, 10.3, 10.4, 10.5, 10.6, 10.7,\n",
       "       10.8, 10.9, 11. , 11.1, 11.2, 11.3, 11.4, 11.5, 11.6, 11.7, 11.8,\n",
       "       11.9, 12. , 12.1, 12.2, 12.3, 12.4, 12.5, 12.6, 12.7, 12.8, 12.9,\n",
       "       13. , 13.1, 13.2, 13.3, 13.4, 13.5, 13.6, 13.7, 13.8, 13.9, 14. ,\n",
       "       14.1, 14.2, 14.3, 14.4, 14.5, 14.6, 14.7, 14.8, 14.9, 15. , 15.1,\n",
       "       15.2, 15.3, 15.4, 15.5, 15.6, 15.7, 15.8, 15.9, 16. , 16.1, 16.2,\n",
       "       16.3, 16.4, 16.6, 16.7, 16.8, 16.9, 17.1, 17.2, 17.3, 17.4, 17.6,\n",
       "       17.7, 17.8, 17.9, 18. , 18.1, 18.2, 18.4, 18.5, 18.8, 18.9, 19.3,\n",
       "       19.5, 19.9, 20.2, 20.7, 21.4, 21.5, 22.1, 22.6, 22.9, 23.1, 23.2,\n",
       "       26.3,  nan,  nan,  nan])"
      ]
     },
     "execution_count": 55,
     "metadata": {},
     "output_type": "execute_result"
    }
   ],
   "source": [
    "# Check the unique values in AvgSpeed\n",
    "np.unique(weather['AvgSpeed'])"
   ]
  },
  {
   "cell_type": "markdown",
   "metadata": {},
   "source": [
    "Before imputating any empty values in AvgSpeed, we will take a look at the distribution of the values in the AvgSpeed column."
   ]
  },
  {
   "cell_type": "code",
   "execution_count": 56,
   "metadata": {},
   "outputs": [
    {
     "data": {
      "text/plain": [
       "count    2941.000000\n",
       "mean        8.580449\n",
       "std         3.147300\n",
       "min         1.700000\n",
       "25%         6.300000\n",
       "50%         8.100000\n",
       "75%        10.400000\n",
       "max        26.300000\n",
       "Name: AvgSpeed, dtype: float64"
      ]
     },
     "execution_count": 56,
     "metadata": {},
     "output_type": "execute_result"
    }
   ],
   "source": [
    "# Checking the info on AvgSpeed\n",
    "weather['AvgSpeed'].describe()"
   ]
  },
  {
   "cell_type": "code",
   "execution_count": 57,
   "metadata": {},
   "outputs": [
    {
     "data": {
      "image/png": "[encoded data removed]",
      "text/plain": [
       "<Figure size 1152x360 with 1 Axes>"
      ]
     },
     "metadata": {
      "needs_background": "light"
     },
     "output_type": "display_data"
    }
   ],
   "source": [
    "# Plot boxplot of AvgSpeed\n",
    "plt.figure(figsize=(16,5));\n",
    "sns.boxplot(weather['AvgSpeed']);\n",
    "plt.title('AvgSpeed values Boxplot');\n",
    "\n",
    "plt.show();"
   ]
  },
  {
   "cell_type": "markdown",
   "metadata": {},
   "source": [
    "As the 'AvgSpeed' column is a range of continuous numbers with the majority of the values concentrated between approximately 1 to 16. We will take the median value to impute into the NULL cells."
   ]
  },
  {
   "cell_type": "code",
   "execution_count": 58,
   "metadata": {},
   "outputs": [
    {
     "name": "stdout",
     "output_type": "stream",
     "text": [
      "0\n"
     ]
    },
    {
     "data": {
      "text/plain": [
       "array([ 1.7,  1.9,  2. ,  2.1,  2.3,  2.4,  2.6,  2.7,  2.8,  2.9,  3. ,\n",
       "        3.1,  3.2,  3.3,  3.4,  3.5,  3.6,  3.7,  3.8,  3.9,  4. ,  4.1,\n",
       "        4.2,  4.3,  4.4,  4.5,  4.6,  4.7,  4.8,  4.9,  5. ,  5.1,  5.2,\n",
       "        5.3,  5.4,  5.5,  5.6,  5.7,  5.8,  5.9,  6. ,  6.1,  6.2,  6.3,\n",
       "        6.4,  6.5,  6.6,  6.7,  6.8,  6.9,  7. ,  7.1,  7.2,  7.3,  7.4,\n",
       "        7.5,  7.6,  7.7,  7.8,  7.9,  8. ,  8.1,  8.2,  8.3,  8.4,  8.5,\n",
       "        8.6,  8.7,  8.8,  8.9,  9. ,  9.1,  9.2,  9.3,  9.4,  9.5,  9.6,\n",
       "        9.7,  9.8,  9.9, 10. , 10.1, 10.2, 10.3, 10.4, 10.5, 10.6, 10.7,\n",
       "       10.8, 10.9, 11. , 11.1, 11.2, 11.3, 11.4, 11.5, 11.6, 11.7, 11.8,\n",
       "       11.9, 12. , 12.1, 12.2, 12.3, 12.4, 12.5, 12.6, 12.7, 12.8, 12.9,\n",
       "       13. , 13.1, 13.2, 13.3, 13.4, 13.5, 13.6, 13.7, 13.8, 13.9, 14. ,\n",
       "       14.1, 14.2, 14.3, 14.4, 14.5, 14.6, 14.7, 14.8, 14.9, 15. , 15.1,\n",
       "       15.2, 15.3, 15.4, 15.5, 15.6, 15.7, 15.8, 15.9, 16. , 16.1, 16.2,\n",
       "       16.3, 16.4, 16.6, 16.7, 16.8, 16.9, 17.1, 17.2, 17.3, 17.4, 17.6,\n",
       "       17.7, 17.8, 17.9, 18. , 18.1, 18.2, 18.4, 18.5, 18.8, 18.9, 19.3,\n",
       "       19.5, 19.9, 20.2, 20.7, 21.4, 21.5, 22.1, 22.6, 22.9, 23.1, 23.2,\n",
       "       26.3])"
      ]
     },
     "execution_count": 58,
     "metadata": {},
     "output_type": "execute_result"
    }
   ],
   "source": [
    "# Fill all NULL values with the median value\n",
    "weather['AvgSpeed'] = weather['AvgSpeed'].fillna(weather['AvgSpeed'].median())\n",
    "\n",
    "# Check whether there is still null value\n",
    "print(weather['AvgSpeed'].isnull().sum())\n",
    "\n",
    "# Recheck the unique values in AvgSpeed\n",
    "np.unique(weather['AvgSpeed'])"
   ]
  },
  {
   "cell_type": "markdown",
   "metadata": {},
   "source": [
    "##### 8. The column 'PrecipTotal'"
   ]
  },
  {
   "cell_type": "code",
   "execution_count": 59,
   "metadata": {},
   "outputs": [
    {
     "data": {
      "text/plain": [
       "dtype('O')"
      ]
     },
     "execution_count": 59,
     "metadata": {},
     "output_type": "execute_result"
    }
   ],
   "source": [
    "# Check the data type of PrecipTotal\n",
    "weather['PrecipTotal'].dtype"
   ]
  },
  {
   "cell_type": "code",
   "execution_count": 60,
   "metadata": {},
   "outputs": [
    {
     "data": {
      "text/plain": [
       "0.00    1577\n",
       "  T      318\n",
       "0.01     127\n",
       "0.02      63\n",
       "0.03      46\n",
       "        ... \n",
       "1.19       1\n",
       "1.25       1\n",
       "1.90       1\n",
       "0.91       1\n",
       "1.21       1\n",
       "Name: PrecipTotal, Length: 167, dtype: int64"
      ]
     },
     "execution_count": 60,
     "metadata": {},
     "output_type": "execute_result"
    }
   ],
   "source": [
    "# Checking on the value counts of values in PrecipTotal\n",
    "weather['PrecipTotal'].value_counts()"
   ]
  },
  {
   "cell_type": "markdown",
   "metadata": {},
   "source": [
    "In the PrecipTotal column, there are values labelled as \"T\", which indicates traces of snowfall but too little for its value to be recorded accurately in numbers. \n",
    "\n",
    "In this case, we have chosen to change all values of \"T\" to the average between the lowest (0.00) and second lowest value (0.01) so as to leave an indication that there was snow on that day. This means we will change all \"T\" values to 0.005."
   ]
  },
  {
   "cell_type": "code",
   "execution_count": 61,
   "metadata": {},
   "outputs": [
    {
     "data": {
      "text/plain": [
       "0.00     1577\n",
       "0.005     318\n",
       "0.01      127\n",
       "0.02       63\n",
       "0.03       46\n",
       "         ... \n",
       "3.07        1\n",
       "1.75        1\n",
       "4.73        1\n",
       "2.76        1\n",
       "0.62        1\n",
       "Name: PrecipTotal, Length: 167, dtype: int64"
      ]
     },
     "execution_count": 61,
     "metadata": {},
     "output_type": "execute_result"
    }
   ],
   "source": [
    "# Change all \"T\" to 0.005\n",
    "weather['PrecipTotal'] = weather['PrecipTotal'].apply(lambda value: 0.005 if 'T' in str(value) else value)\n",
    "\n",
    "# Recheck on the value counts of values in PrecipTotal\n",
    "weather['PrecipTotal'].value_counts()"
   ]
  },
  {
   "cell_type": "markdown",
   "metadata": {},
   "source": [
    "The 'PrecipTotal' column's values are still all in str format. For better visualisation during plotting, we will change the data type of the values to float."
   ]
  },
  {
   "cell_type": "code",
   "execution_count": 62,
   "metadata": {},
   "outputs": [],
   "source": [
    "# Changing the data types from str to float\n",
    "weather['PrecipTotal'] = weather['PrecipTotal'].map(lambda value: float(value) if value != np.nan else value)"
   ]
  },
  {
   "cell_type": "code",
   "execution_count": 63,
   "metadata": {},
   "outputs": [
    {
     "data": {
      "text/plain": [
       "dtype('float64')"
      ]
     },
     "execution_count": 63,
     "metadata": {},
     "output_type": "execute_result"
    }
   ],
   "source": [
    "# Check again the data type of AvgSpeed\n",
    "weather['PrecipTotal'].dtype"
   ]
  },
  {
   "cell_type": "markdown",
   "metadata": {},
   "source": [
    "Before imputating any empty values in PrecipTotal, we will take a look at the distribution of the values in the PrecipTotal column."
   ]
  },
  {
   "cell_type": "code",
   "execution_count": 64,
   "metadata": {},
   "outputs": [
    {
     "data": {
      "text/plain": [
       "count    2942.000000\n",
       "mean        0.131869\n",
       "std         0.393150\n",
       "min         0.000000\n",
       "25%         0.000000\n",
       "50%         0.000000\n",
       "75%         0.060000\n",
       "max         6.860000\n",
       "Name: PrecipTotal, dtype: float64"
      ]
     },
     "execution_count": 64,
     "metadata": {},
     "output_type": "execute_result"
    }
   ],
   "source": [
    "# Checking the info on Preciptotal\n",
    "weather['PrecipTotal'].describe()"
   ]
  },
  {
   "cell_type": "code",
   "execution_count": 65,
   "metadata": {},
   "outputs": [
    {
     "data": {
      "image/png": "[encoded data removed]",
      "text/plain": [
       "<Figure size 1152x360 with 1 Axes>"
      ]
     },
     "metadata": {
      "needs_background": "light"
     },
     "output_type": "display_data"
    }
   ],
   "source": [
    "# Plot boxplot of PrecipTotal\n",
    "plt.figure(figsize=(16,5));\n",
    "sns.boxplot(weather['PrecipTotal']);\n",
    "plt.title('PrecipTotal values Boxplot');\n",
    "\n",
    "plt.show();"
   ]
  },
  {
   "cell_type": "markdown",
   "metadata": {},
   "source": [
    "From the boxplot above, we see that PrecipTotal is a range of continuous numbers and is extremely spread out. However, the majority of the values are approximately 0.00 (the 50th percentile is also 0.00).\n",
    "\n",
    "Therefore, we will impute the NULL values with 0.00 since it is overwhelmingly the most frequent value to appear."
   ]
  },
  {
   "cell_type": "code",
   "execution_count": 66,
   "metadata": {
    "scrolled": true
   },
   "outputs": [
    {
     "name": "stdout",
     "output_type": "stream",
     "text": [
      "0\n"
     ]
    },
    {
     "data": {
      "text/plain": [
       "array([0.00e+00, 5.00e-03, 1.00e-02, 2.00e-02, 3.00e-02, 4.00e-02,\n",
       "       5.00e-02, 6.00e-02, 7.00e-02, 8.00e-02, 9.00e-02, 1.00e-01,\n",
       "       1.10e-01, 1.20e-01, 1.30e-01, 1.40e-01, 1.50e-01, 1.60e-01,\n",
       "       1.70e-01, 1.80e-01, 1.90e-01, 2.00e-01, 2.10e-01, 2.20e-01,\n",
       "       2.30e-01, 2.40e-01, 2.50e-01, 2.60e-01, 2.70e-01, 2.80e-01,\n",
       "       2.90e-01, 3.00e-01, 3.10e-01, 3.20e-01, 3.30e-01, 3.40e-01,\n",
       "       3.50e-01, 3.60e-01, 3.70e-01, 3.80e-01, 3.90e-01, 4.00e-01,\n",
       "       4.10e-01, 4.20e-01, 4.30e-01, 4.40e-01, 4.50e-01, 4.60e-01,\n",
       "       4.70e-01, 4.80e-01, 4.90e-01, 5.00e-01, 5.10e-01, 5.20e-01,\n",
       "       5.30e-01, 5.40e-01, 5.50e-01, 5.60e-01, 5.70e-01, 5.80e-01,\n",
       "       5.90e-01, 6.00e-01, 6.10e-01, 6.20e-01, 6.30e-01, 6.40e-01,\n",
       "       6.50e-01, 6.60e-01, 6.70e-01, 6.80e-01, 6.90e-01, 7.00e-01,\n",
       "       7.10e-01, 7.20e-01, 7.30e-01, 7.40e-01, 7.50e-01, 7.60e-01,\n",
       "       7.70e-01, 7.80e-01, 7.90e-01, 8.00e-01, 8.10e-01, 8.20e-01,\n",
       "       8.30e-01, 8.40e-01, 8.50e-01, 8.60e-01, 8.70e-01, 8.80e-01,\n",
       "       8.90e-01, 9.00e-01, 9.10e-01, 9.20e-01, 9.30e-01, 9.50e-01,\n",
       "       9.60e-01, 9.70e-01, 9.80e-01, 1.01e+00, 1.02e+00, 1.03e+00,\n",
       "       1.04e+00, 1.05e+00, 1.06e+00, 1.07e+00, 1.09e+00, 1.11e+00,\n",
       "       1.12e+00, 1.14e+00, 1.15e+00, 1.16e+00, 1.18e+00, 1.19e+00,\n",
       "       1.21e+00, 1.22e+00, 1.23e+00, 1.24e+00, 1.25e+00, 1.26e+00,\n",
       "       1.28e+00, 1.29e+00, 1.30e+00, 1.31e+00, 1.33e+00, 1.34e+00,\n",
       "       1.35e+00, 1.38e+00, 1.43e+00, 1.44e+00, 1.46e+00, 1.48e+00,\n",
       "       1.49e+00, 1.55e+00, 1.57e+00, 1.58e+00, 1.60e+00, 1.61e+00,\n",
       "       1.73e+00, 1.75e+00, 1.82e+00, 1.88e+00, 1.90e+00, 1.96e+00,\n",
       "       2.03e+00, 2.06e+00, 2.09e+00, 2.17e+00, 2.20e+00, 2.24e+00,\n",
       "       2.35e+00, 2.43e+00, 2.60e+00, 2.68e+00, 2.76e+00, 2.79e+00,\n",
       "       2.90e+00, 3.07e+00, 3.15e+00, 3.17e+00, 3.31e+00, 3.64e+00,\n",
       "       3.66e+00, 3.97e+00, 4.73e+00, 6.64e+00, 6.86e+00])"
      ]
     },
     "execution_count": 66,
     "metadata": {},
     "output_type": "execute_result"
    }
   ],
   "source": [
    "# Fill all NULL values with the median value\n",
    "weather['PrecipTotal'] = weather['PrecipTotal'].fillna(0.00)\n",
    "\n",
    "# Check whether there is still null value\n",
    "print(weather['PrecipTotal'].isnull().sum())\n",
    "\n",
    "# Recheck the unique values in PrecipTotal\n",
    "np.unique(weather['PrecipTotal'])"
   ]
  },
  {
   "cell_type": "markdown",
   "metadata": {},
   "source": [
    "### 2. Check Data Types"
   ]
  },
  {
   "cell_type": "code",
   "execution_count": 67,
   "metadata": {
    "scrolled": false
   },
   "outputs": [
    {
     "name": "stdout",
     "output_type": "stream",
     "text": [
      "<class 'pandas.core.frame.DataFrame'>\n",
      "RangeIndex: 2944 entries, 0 to 2943\n",
      "Data columns (total 16 columns):\n",
      " #   Column       Non-Null Count  Dtype  \n",
      "---  ------       --------------  -----  \n",
      " 0   Station      2944 non-null   int64  \n",
      " 1   Date         2944 non-null   object \n",
      " 2   Tmax         2944 non-null   int64  \n",
      " 3   Tmin         2944 non-null   int64  \n",
      " 4   Tavg         2944 non-null   float64\n",
      " 5   DewPoint     2944 non-null   int64  \n",
      " 6   WetBulb      2944 non-null   float64\n",
      " 7   Heat         2944 non-null   float64\n",
      " 8   Cool         2944 non-null   float64\n",
      " 9   CodeSum      2944 non-null   object \n",
      " 10  PrecipTotal  2944 non-null   float64\n",
      " 11  StnPressure  2944 non-null   float64\n",
      " 12  SeaLevel     2944 non-null   float64\n",
      " 13  ResultSpeed  2944 non-null   float64\n",
      " 14  ResultDir    2944 non-null   int64  \n",
      " 15  AvgSpeed     2944 non-null   float64\n",
      "dtypes: float64(9), int64(5), object(2)\n",
      "memory usage: 368.1+ KB\n"
     ]
    }
   ],
   "source": [
    "# Check through the data types of columns and cross-check with data dictionary given\n",
    "weather.info()"
   ]
  },
  {
   "cell_type": "markdown",
   "metadata": {},
   "source": [
    "The numerical columns which originally had NULL values have been cleaned up and changed to the appropriate data types."
   ]
  },
  {
   "cell_type": "markdown",
   "metadata": {},
   "source": [
    "### 3. Feature Engineering"
   ]
  },
  {
   "cell_type": "code",
   "execution_count": 68,
   "metadata": {},
   "outputs": [
    {
     "data": {
      "text/html": [
       "<div>\n",
       "<style scoped>\n",
       "    .dataframe tbody tr th:only-of-type {\n",
       "        vertical-align: middle;\n",
       "    }\n",
       "\n",
       "    .dataframe tbody tr th {\n",
       "        vertical-align: top;\n",
       "    }\n",
       "\n",
       "    .dataframe thead th {\n",
       "        text-align: right;\n",
       "    }\n",
       "</style>\n",
       "<table border=\"1\" class=\"dataframe\">\n",
       "  <thead>\n",
       "    <tr style=\"text-align: right;\">\n",
       "      <th></th>\n",
       "      <th>Station</th>\n",
       "      <th>Date</th>\n",
       "      <th>Tmax</th>\n",
       "      <th>Tmin</th>\n",
       "      <th>Tavg</th>\n",
       "      <th>DewPoint</th>\n",
       "      <th>WetBulb</th>\n",
       "      <th>Heat</th>\n",
       "      <th>Cool</th>\n",
       "      <th>CodeSum</th>\n",
       "      <th>PrecipTotal</th>\n",
       "      <th>StnPressure</th>\n",
       "      <th>SeaLevel</th>\n",
       "      <th>ResultSpeed</th>\n",
       "      <th>ResultDir</th>\n",
       "      <th>AvgSpeed</th>\n",
       "    </tr>\n",
       "  </thead>\n",
       "  <tbody>\n",
       "    <tr>\n",
       "      <th>0</th>\n",
       "      <td>1</td>\n",
       "      <td>2007-05-01</td>\n",
       "      <td>83</td>\n",
       "      <td>50</td>\n",
       "      <td>67.0</td>\n",
       "      <td>51</td>\n",
       "      <td>56.0</td>\n",
       "      <td>0.0</td>\n",
       "      <td>2.0</td>\n",
       "      <td></td>\n",
       "      <td>0.0</td>\n",
       "      <td>29.10</td>\n",
       "      <td>29.82</td>\n",
       "      <td>1.7</td>\n",
       "      <td>27</td>\n",
       "      <td>9.2</td>\n",
       "    </tr>\n",
       "    <tr>\n",
       "      <th>1</th>\n",
       "      <td>2</td>\n",
       "      <td>2007-05-01</td>\n",
       "      <td>84</td>\n",
       "      <td>52</td>\n",
       "      <td>68.0</td>\n",
       "      <td>51</td>\n",
       "      <td>57.0</td>\n",
       "      <td>0.0</td>\n",
       "      <td>3.0</td>\n",
       "      <td></td>\n",
       "      <td>0.0</td>\n",
       "      <td>29.18</td>\n",
       "      <td>29.82</td>\n",
       "      <td>2.7</td>\n",
       "      <td>25</td>\n",
       "      <td>9.6</td>\n",
       "    </tr>\n",
       "    <tr>\n",
       "      <th>2</th>\n",
       "      <td>1</td>\n",
       "      <td>2007-05-02</td>\n",
       "      <td>59</td>\n",
       "      <td>42</td>\n",
       "      <td>51.0</td>\n",
       "      <td>42</td>\n",
       "      <td>47.0</td>\n",
       "      <td>14.0</td>\n",
       "      <td>0.0</td>\n",
       "      <td>BR</td>\n",
       "      <td>0.0</td>\n",
       "      <td>29.38</td>\n",
       "      <td>30.09</td>\n",
       "      <td>13.0</td>\n",
       "      <td>4</td>\n",
       "      <td>13.4</td>\n",
       "    </tr>\n",
       "    <tr>\n",
       "      <th>3</th>\n",
       "      <td>2</td>\n",
       "      <td>2007-05-02</td>\n",
       "      <td>60</td>\n",
       "      <td>43</td>\n",
       "      <td>52.0</td>\n",
       "      <td>42</td>\n",
       "      <td>47.0</td>\n",
       "      <td>13.0</td>\n",
       "      <td>0.0</td>\n",
       "      <td>BR HZ</td>\n",
       "      <td>0.0</td>\n",
       "      <td>29.44</td>\n",
       "      <td>30.08</td>\n",
       "      <td>13.3</td>\n",
       "      <td>2</td>\n",
       "      <td>13.4</td>\n",
       "    </tr>\n",
       "    <tr>\n",
       "      <th>4</th>\n",
       "      <td>1</td>\n",
       "      <td>2007-05-03</td>\n",
       "      <td>66</td>\n",
       "      <td>46</td>\n",
       "      <td>56.0</td>\n",
       "      <td>40</td>\n",
       "      <td>48.0</td>\n",
       "      <td>9.0</td>\n",
       "      <td>0.0</td>\n",
       "      <td></td>\n",
       "      <td>0.0</td>\n",
       "      <td>29.39</td>\n",
       "      <td>30.12</td>\n",
       "      <td>11.7</td>\n",
       "      <td>7</td>\n",
       "      <td>11.9</td>\n",
       "    </tr>\n",
       "  </tbody>\n",
       "</table>\n",
       "</div>"
      ],
      "text/plain": [
       "   Station        Date  Tmax  Tmin  Tavg  DewPoint  WetBulb  Heat  Cool  \\\n",
       "0        1  2007-05-01    83    50  67.0        51     56.0   0.0   2.0   \n",
       "1        2  2007-05-01    84    52  68.0        51     57.0   0.0   3.0   \n",
       "2        1  2007-05-02    59    42  51.0        42     47.0  14.0   0.0   \n",
       "3        2  2007-05-02    60    43  52.0        42     47.0  13.0   0.0   \n",
       "4        1  2007-05-03    66    46  56.0        40     48.0   9.0   0.0   \n",
       "\n",
       "  CodeSum  PrecipTotal  StnPressure  SeaLevel  ResultSpeed  ResultDir  \\\n",
       "0                  0.0        29.10     29.82          1.7         27   \n",
       "1                  0.0        29.18     29.82          2.7         25   \n",
       "2      BR          0.0        29.38     30.09         13.0          4   \n",
       "3   BR HZ          0.0        29.44     30.08         13.3          2   \n",
       "4                  0.0        29.39     30.12         11.7          7   \n",
       "\n",
       "   AvgSpeed  \n",
       "0       9.2  \n",
       "1       9.6  \n",
       "2      13.4  \n",
       "3      13.4  \n",
       "4      11.9  "
      ]
     },
     "execution_count": 68,
     "metadata": {},
     "output_type": "execute_result"
    }
   ],
   "source": [
    "# Print a few rows to see the dataframe\n",
    "weather.head()"
   ]
  },
  {
   "cell_type": "markdown",
   "metadata": {},
   "source": [
    "#### Drop Columns to Reduce Multi-Collinearity"
   ]
  },
  {
   "cell_type": "markdown",
   "metadata": {},
   "source": [
    "From weather documentation, we observe that values of Tavg is derived from both the Tmax and Tmin column where an average of the 2 are taken. Thus, we will drop the Tmax and Tmin columns to reduce multicollinearity as the Tavg column alone will suffice."
   ]
  },
  {
   "cell_type": "code",
   "execution_count": 69,
   "metadata": {},
   "outputs": [],
   "source": [
    "# Dropping Tmax and Tmin columns and keep Tavg to reduce multicollinearity between Tmax, Tmin and Tavg\n",
    "weather.drop(columns=['Tmax', 'Tmin'], inplace=True)"
   ]
  },
  {
   "cell_type": "markdown",
   "metadata": {},
   "source": [
    "From weather documentation, we observe that values of Cool and Heat columns are both derived from the Tavg column where the base is 65 Fahrenheit. Thus, we will drop the Cool and Heat columns to reduce multicollinearity as the Tavg column alone will suffice."
   ]
  },
  {
   "cell_type": "code",
   "execution_count": 70,
   "metadata": {},
   "outputs": [],
   "source": [
    "# Dropping Cool and Heat columns and keep Tavg to reduce multicollinearity between Cool, Heat and Tavg\n",
    "weather.drop(columns=['Cool', 'Heat'], inplace=True)"
   ]
  },
  {
   "cell_type": "markdown",
   "metadata": {},
   "source": [
    "#### Modifications of Columns"
   ]
  },
  {
   "cell_type": "markdown",
   "metadata": {},
   "source": [
    "Next, we will look at the remaining columns and perform feature engineering on them wherever possible.\n",
    "1. CodeSum\n",
    "2. Date"
   ]
  },
  {
   "cell_type": "markdown",
   "metadata": {},
   "source": [
    "##### 1. The column 'CodeSum'"
   ]
  },
  {
   "cell_type": "code",
   "execution_count": 71,
   "metadata": {},
   "outputs": [
    {
     "data": {
      "text/plain": [
       "array([' ', 'BCFG BR', 'BR', 'BR HZ', 'BR HZ FU', 'BR HZ VCFG', 'BR VCTS',\n",
       "       'DZ', 'DZ BR', 'DZ BR HZ', 'FG BR HZ', 'FG+', 'FG+ BCFG BR',\n",
       "       'FG+ BR', 'FG+ BR HZ', 'FG+ FG BR', 'FG+ FG BR HZ', 'FG+ MIFG BR',\n",
       "       'FU', 'HZ', 'HZ FU', 'HZ VCTS', 'MIFG BCFG BR', 'RA', 'RA BCFG BR',\n",
       "       'RA BR', 'RA BR FU', 'RA BR HZ', 'RA BR HZ FU', 'RA BR HZ VCFG',\n",
       "       'RA BR HZ VCTS', 'RA BR SQ', 'RA BR VCFG', 'RA BR VCTS', 'RA DZ',\n",
       "       'RA DZ BR', 'RA DZ BR HZ', 'RA DZ FG+ BCFG BR', 'RA DZ FG+ BR',\n",
       "       'RA DZ FG+ BR HZ', 'RA DZ FG+ FG BR', 'RA DZ SN', 'RA FG BR',\n",
       "       'RA FG+ BR', 'RA FG+ MIFG BR', 'RA HZ', 'RA SN', 'RA SN BR',\n",
       "       'RA VCTS', 'TS', 'TS BR', 'TS BR HZ', 'TS HZ', 'TS RA', 'TS RA BR',\n",
       "       'TS RA BR HZ', 'TS RA FG+ FG BR', 'TS TSRA', 'TS TSRA BR',\n",
       "       'TS TSRA BR HZ', 'TS TSRA GR RA BR', 'TS TSRA HZ', 'TS TSRA RA',\n",
       "       'TS TSRA RA BR', 'TS TSRA RA BR HZ', 'TS TSRA RA BR HZ VCTS',\n",
       "       'TS TSRA RA BR VCTS', 'TS TSRA RA FG BR', 'TS TSRA RA FG BR HZ',\n",
       "       'TS TSRA RA HZ', 'TS TSRA RA VCTS', 'TS TSRA VCFG', 'TSRA',\n",
       "       'TSRA BR', 'TSRA BR HZ', 'TSRA BR HZ FU', 'TSRA BR HZ VCTS',\n",
       "       'TSRA BR SQ', 'TSRA DZ BR HZ', 'TSRA DZ FG+ FG BR HZ',\n",
       "       'TSRA FG+ BR', 'TSRA FG+ BR HZ', 'TSRA HZ', 'TSRA RA',\n",
       "       'TSRA RA BR', 'TSRA RA BR HZ', 'TSRA RA BR HZ VCTS',\n",
       "       'TSRA RA BR VCTS', 'TSRA RA DZ BR', 'TSRA RA DZ BR HZ',\n",
       "       'TSRA RA FG BR', 'TSRA RA FG+ BR', 'TSRA RA FG+ FG BR',\n",
       "       'TSRA RA FG+ FG BR HZ', 'TSRA RA HZ', 'TSRA RA HZ FU',\n",
       "       'TSRA RA VCTS', 'VCTS'], dtype=object)"
      ]
     },
     "execution_count": 71,
     "metadata": {},
     "output_type": "execute_result"
    }
   ],
   "source": [
    "# Check the unique values in CodeSum\n",
    "np.unique(weather['CodeSum'])"
   ]
  },
  {
   "cell_type": "markdown",
   "metadata": {},
   "source": [
    "The CodeSum column summarises the weather on the day the data was recorded. The abbreviations for the different CodeSum weathers are listed below:\n",
    "\n",
    "|Abbreviation|Weather|\n",
    "|:--:|:--:|\n",
    "|+FC|TORNADO/WATERSPOUT|\n",
    "|FC|FUNNEL CLOUD|\n",
    "|TS|THUNDERSTORM|\n",
    "|GR|HAIL|\n",
    "|RA|RAIN|\n",
    "|DZ|DRIZZLE|\n",
    "|SN|SNOW|\n",
    "|SG|SNOW GRAINS|\n",
    "|GS|SMALL HAIL &/OR SNOW PELLETS|\n",
    "|PL|ICE PELLETS|\n",
    "|IC|ICE CRYSTALS|\n",
    "|FG+|HEAVY FOG (FG & LE.25 MILES VISIBILITY)|\n",
    "|FG|FOG|\n",
    "|BR|MIST|\n",
    "|UP|UNKNOWN PRECIPITATION|\n",
    "|HZ|HAZE|\n",
    "|FU|SMOKE|\n",
    "|VA|VOLCANIC ASH|\n",
    "|DU|WIDESPREAD DUST|\n",
    "|DS|DUSTSTORM|\n",
    "|PO|SAND/DUST WHIRLS|\n",
    "|SA|SAND|\n",
    "|SS|SANDSTORM|\n",
    "|PY|SPRAY|\n",
    "|SQ|SQUALL|\n",
    "|DR|LOW DRIFTING|\n",
    "|SH|SHOWER|\n",
    "|FZ|FREEZING|\n",
    "|MI|SHALLOW|\n",
    "|PR|PARTIAL|\n",
    "|BC|PATCHES|\n",
    "|BL|BLOWING|\n",
    "|VC|VICINITY|\n",
    "||-   LIGHT|\n",
    "||+   HEAVY|\n",
    "|\"NO SIGN\"|MODERATE|\n"
   ]
  },
  {
   "cell_type": "markdown",
   "metadata": {},
   "source": [
    "Mosquitoes thrive in areas where it is is hot and humid. Water is also required for them to lay eggs and reproduce. ([Terminix](https://www.terminix.com/pest-control/mosquitoes/life-cycle/breeding/), [ElevatePestControl](https://elevatepestcontrol.com/mosquito-faqs/what-type-of-water-does-a-mosquito-need-to-breed/))\n",
    "\n",
    "Therefore, for our analysis, we will break down the CodeSum column into 2 categories that we want to focus our attention on: Wet or Dry.\n",
    "\n",
    "For ease of modelling and visualisations, we will represent the Wet and Dry conditions in numerical format:\n",
    "* Wet = 1\n",
    "* Dry = 0"
   ]
  },
  {
   "cell_type": "code",
   "execution_count": 72,
   "metadata": {},
   "outputs": [],
   "source": [
    "# Categorizing the different weathers into wet or dry\n",
    "\n",
    "# Initiate empty list to store 1 or 0, for use to create new wet_dry column\n",
    "wet_dry_list = []\n",
    "\n",
    "# List of all abbreviations that can be categorised into wet\n",
    "# note that we will remove the \"+\" signs so it is not included\n",
    "wet_codesums = ['FC', 'TS', 'RA', 'DZ', 'FG', 'BR', 'UP', 'SH']\n",
    "\n",
    "for code in weather['CodeSum']:\n",
    "    \n",
    "    # replace \"+\" and \"-\" sign with a space\n",
    "    code.replace('+', ' ')\n",
    "    code.replace('-', ' ')\n",
    "    \n",
    "    # set initial wet_dry value to 0 (dry), if found to be wet then change to 1 (wet) later\n",
    "    check_wet = 0\n",
    "    \n",
    "    # iterate through wet_codesums to find matches\n",
    "    for condition in wet_codesums:\n",
    "        \n",
    "        # check if regex search turns up with a match --> if no match, will return None\n",
    "        check_search = re.search(condition, code)\n",
    "        \n",
    "        # if there is a match in regex search, wet wet_dry value to 1 (wet) and stop iterating through wet_codesums\n",
    "        if check_search != None:\n",
    "            check_wet = 1\n",
    "            break\n",
    "\n",
    "    # append current row's wet_dry value to list, for adding into dataframe later\n",
    "    wet_dry_list.append(check_wet)"
   ]
  },
  {
   "cell_type": "code",
   "execution_count": 73,
   "metadata": {},
   "outputs": [
    {
     "data": {
      "text/plain": [
       "0    1650\n",
       "1    1294\n",
       "Name: wet_dry, dtype: int64"
      ]
     },
     "execution_count": 73,
     "metadata": {},
     "output_type": "execute_result"
    }
   ],
   "source": [
    "# Store the list into column 'wet_dry'\n",
    "weather['wet_dry'] = wet_dry_list\n",
    "\n",
    "# Print the value_count\n",
    "weather['wet_dry'].value_counts()\n",
    "\n",
    "# 1650 entries are 0 (dry), 1294 entries are 1 (wet)."
   ]
  },
  {
   "cell_type": "code",
   "execution_count": 74,
   "metadata": {},
   "outputs": [
    {
     "data": {
      "text/html": [
       "<div>\n",
       "<style scoped>\n",
       "    .dataframe tbody tr th:only-of-type {\n",
       "        vertical-align: middle;\n",
       "    }\n",
       "\n",
       "    .dataframe tbody tr th {\n",
       "        vertical-align: top;\n",
       "    }\n",
       "\n",
       "    .dataframe thead th {\n",
       "        text-align: right;\n",
       "    }\n",
       "</style>\n",
       "<table border=\"1\" class=\"dataframe\">\n",
       "  <thead>\n",
       "    <tr style=\"text-align: right;\">\n",
       "      <th></th>\n",
       "      <th>Station</th>\n",
       "      <th>Date</th>\n",
       "      <th>Tavg</th>\n",
       "      <th>DewPoint</th>\n",
       "      <th>WetBulb</th>\n",
       "      <th>CodeSum</th>\n",
       "      <th>PrecipTotal</th>\n",
       "      <th>StnPressure</th>\n",
       "      <th>SeaLevel</th>\n",
       "      <th>ResultSpeed</th>\n",
       "      <th>ResultDir</th>\n",
       "      <th>AvgSpeed</th>\n",
       "      <th>wet_dry</th>\n",
       "    </tr>\n",
       "  </thead>\n",
       "  <tbody>\n",
       "    <tr>\n",
       "      <th>0</th>\n",
       "      <td>1</td>\n",
       "      <td>2007-05-01</td>\n",
       "      <td>67.0</td>\n",
       "      <td>51</td>\n",
       "      <td>56.0</td>\n",
       "      <td></td>\n",
       "      <td>0.0</td>\n",
       "      <td>29.10</td>\n",
       "      <td>29.82</td>\n",
       "      <td>1.7</td>\n",
       "      <td>27</td>\n",
       "      <td>9.2</td>\n",
       "      <td>0</td>\n",
       "    </tr>\n",
       "    <tr>\n",
       "      <th>1</th>\n",
       "      <td>2</td>\n",
       "      <td>2007-05-01</td>\n",
       "      <td>68.0</td>\n",
       "      <td>51</td>\n",
       "      <td>57.0</td>\n",
       "      <td></td>\n",
       "      <td>0.0</td>\n",
       "      <td>29.18</td>\n",
       "      <td>29.82</td>\n",
       "      <td>2.7</td>\n",
       "      <td>25</td>\n",
       "      <td>9.6</td>\n",
       "      <td>0</td>\n",
       "    </tr>\n",
       "    <tr>\n",
       "      <th>2</th>\n",
       "      <td>1</td>\n",
       "      <td>2007-05-02</td>\n",
       "      <td>51.0</td>\n",
       "      <td>42</td>\n",
       "      <td>47.0</td>\n",
       "      <td>BR</td>\n",
       "      <td>0.0</td>\n",
       "      <td>29.38</td>\n",
       "      <td>30.09</td>\n",
       "      <td>13.0</td>\n",
       "      <td>4</td>\n",
       "      <td>13.4</td>\n",
       "      <td>1</td>\n",
       "    </tr>\n",
       "    <tr>\n",
       "      <th>3</th>\n",
       "      <td>2</td>\n",
       "      <td>2007-05-02</td>\n",
       "      <td>52.0</td>\n",
       "      <td>42</td>\n",
       "      <td>47.0</td>\n",
       "      <td>BR HZ</td>\n",
       "      <td>0.0</td>\n",
       "      <td>29.44</td>\n",
       "      <td>30.08</td>\n",
       "      <td>13.3</td>\n",
       "      <td>2</td>\n",
       "      <td>13.4</td>\n",
       "      <td>1</td>\n",
       "    </tr>\n",
       "    <tr>\n",
       "      <th>4</th>\n",
       "      <td>1</td>\n",
       "      <td>2007-05-03</td>\n",
       "      <td>56.0</td>\n",
       "      <td>40</td>\n",
       "      <td>48.0</td>\n",
       "      <td></td>\n",
       "      <td>0.0</td>\n",
       "      <td>29.39</td>\n",
       "      <td>30.12</td>\n",
       "      <td>11.7</td>\n",
       "      <td>7</td>\n",
       "      <td>11.9</td>\n",
       "      <td>0</td>\n",
       "    </tr>\n",
       "  </tbody>\n",
       "</table>\n",
       "</div>"
      ],
      "text/plain": [
       "   Station        Date  Tavg  DewPoint  WetBulb CodeSum  PrecipTotal  \\\n",
       "0        1  2007-05-01  67.0        51     56.0                  0.0   \n",
       "1        2  2007-05-01  68.0        51     57.0                  0.0   \n",
       "2        1  2007-05-02  51.0        42     47.0      BR          0.0   \n",
       "3        2  2007-05-02  52.0        42     47.0   BR HZ          0.0   \n",
       "4        1  2007-05-03  56.0        40     48.0                  0.0   \n",
       "\n",
       "   StnPressure  SeaLevel  ResultSpeed  ResultDir  AvgSpeed  wet_dry  \n",
       "0        29.10     29.82          1.7         27       9.2        0  \n",
       "1        29.18     29.82          2.7         25       9.6        0  \n",
       "2        29.38     30.09         13.0          4      13.4        1  \n",
       "3        29.44     30.08         13.3          2      13.4        1  \n",
       "4        29.39     30.12         11.7          7      11.9        0  "
      ]
     },
     "execution_count": 74,
     "metadata": {},
     "output_type": "execute_result"
    }
   ],
   "source": [
    "weather.head()"
   ]
  },
  {
   "cell_type": "markdown",
   "metadata": {},
   "source": [
    "As such, we proceed to drop the CodeSum column as wet_dry column has modified the CodeSum column, and therefore not needed anymore."
   ]
  },
  {
   "cell_type": "code",
   "execution_count": 75,
   "metadata": {},
   "outputs": [],
   "source": [
    "# Dropping Cool and Heat columns and keep Tavg to reduce multicollinearity between Cool, Heat and Tavg\n",
    "weather.drop(columns=['CodeSum'], inplace=True)"
   ]
  },
  {
   "cell_type": "markdown",
   "metadata": {},
   "source": [
    "##### 2. The column 'Date'"
   ]
  },
  {
   "cell_type": "code",
   "execution_count": 76,
   "metadata": {},
   "outputs": [
    {
     "data": {
      "text/plain": [
       "dtype('O')"
      ]
     },
     "execution_count": 76,
     "metadata": {},
     "output_type": "execute_result"
    }
   ],
   "source": [
    "# Check the data type of Date\n",
    "weather['Date'].dtype"
   ]
  },
  {
   "cell_type": "code",
   "execution_count": 77,
   "metadata": {},
   "outputs": [],
   "source": [
    "# Convert Date to datetime format\n",
    "weather['Date'] = pd.to_datetime(weather['Date'])"
   ]
  },
  {
   "cell_type": "code",
   "execution_count": 78,
   "metadata": {},
   "outputs": [],
   "source": [
    "# From 'Date', extract and add week, month and Year columns\n",
    "weather['Week'] = (weather['Date'].dt.strftime('%W')).astype(int)\n",
    "weather['Month'] = (weather['Date'].dt.strftime('%m')).astype(int)\n",
    "weather['Year'] = (weather['Date'].dt.strftime('%Y')).astype(int)"
   ]
  },
  {
   "cell_type": "code",
   "execution_count": 79,
   "metadata": {},
   "outputs": [],
   "source": [
    "# Define a function to concatenate the Year and month together and convert them into integer\n",
    "def year_month(row):\n",
    "    month = row['Month']\n",
    "    year = row['Year']\n",
    "    row['YearMonth'] = f'{year}{month}'\n",
    "    row['YearMonth'] = int(row['YearMonth'])\n",
    "    return row"
   ]
  },
  {
   "cell_type": "code",
   "execution_count": 80,
   "metadata": {},
   "outputs": [],
   "source": [
    "# Define a function to concatenate the Year and Week together and convert them into integer\n",
    "def year_week(row):\n",
    "    week = row['Week']\n",
    "    year = row['Year']\n",
    "    row['YearWeek'] = f'{year}{week}'\n",
    "    row['YearWeek'] = int(row['YearWeek'])\n",
    "    return row"
   ]
  },
  {
   "cell_type": "code",
   "execution_count": 81,
   "metadata": {},
   "outputs": [],
   "source": [
    "# Apply the 2 functions above to our dataset\n",
    "weather = weather.apply(year_month, axis=1)\n",
    "weather = weather.apply(year_week, axis=1)"
   ]
  },
  {
   "cell_type": "markdown",
   "metadata": {},
   "source": [
    "## 4. Lowercasing Column Names"
   ]
  },
  {
   "cell_type": "code",
   "execution_count": 82,
   "metadata": {},
   "outputs": [],
   "source": [
    "# Rename temperature column\n",
    "weather.rename(columns={'Tavg': 't_avg'}, inplace=True)\n",
    "\n",
    "# Renaming all columns except temperature\n",
    "for col in weather.columns:\n",
    "    \n",
    "    #regex to split the words in the column name by capital letters\n",
    "    new = re.findall('[a-zA-Z][^A-Z]*', col)\n",
    "    \n",
    "    #join the column name together with underscore and lowercase them\n",
    "    new = '_'.join(new).lower()\n",
    "    \n",
    "    #rename the columns\n",
    "    weather.rename(columns={col: new}, inplace=True)"
   ]
  },
  {
   "cell_type": "markdown",
   "metadata": {},
   "source": [
    "## Save the Clean Dataset"
   ]
  },
  {
   "cell_type": "code",
   "execution_count": 83,
   "metadata": {},
   "outputs": [],
   "source": [
    "# Save the clean dataset\n",
    "weather.to_csv(\"../assets/weather_cleaned.csv\", index = False)"
   ]
  },
  {
   "cell_type": "code",
   "execution_count": 84,
   "metadata": {},
   "outputs": [
    {
     "name": "stdout",
     "output_type": "stream",
     "text": [
      "Stored 'weather' (DataFrame)\n"
     ]
    }
   ],
   "source": [
    "%store weather"
   ]
  }
 ],
 "metadata": {
  "kernelspec": {
   "display_name": "Python 3",
   "language": "python",
   "name": "python3"
  },
  "language_info": {
   "codemirror_mode": {
    "name": "ipython",
    "version": 3
   },
   "file_extension": ".py",
   "mimetype": "text/x-python",
   "name": "python",
   "nbconvert_exporter": "python",
   "pygments_lexer": "ipython3",
   "version": "3.8.8"
  }
 },
 "nbformat": 4,
 "nbformat_minor": 4
}
