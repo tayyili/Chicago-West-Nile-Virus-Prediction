{
 "cells": [
  {
   "cell_type": "markdown",
   "metadata": {},
   "source": [
    "<img src=\"http://imgur.com/1ZcRyrc.png\" style=\"float: left; margin: 20px; height: 55px\">\n",
    "\n",
    "# Project 4a: Predict West Nile Virus\n",
    "\n",
    "## Part 5 - Modelling and Evaluation"
   ]
  },
  {
   "cell_type": "markdown",
   "metadata": {},
   "source": [
    "## Contents:\n",
    "- [Import Data](#Import-Data)\n",
    "- [Modelling with Data Visualisation](#Modelling-with-Data-Visualisation)\n",
    "    - [Train Test Split](#Train-Test-Split)\n",
    "    - [Baseline](#Baseline)\n",
    "    - [Random Forest](#Random-Forest)\n",
    "    - [Support Vector Classifier](#Support-Vector-Classifier)\n",
    "    - [Logistics Regression](#Logistics-Regression)\n",
    "    - [Bernoulli Naive Bayes](#Bernoulli-Naive-Bayes)\n",
    "    - [Gradient Boosting](#Gradient-Boosting)\n",
    "    - [AdaBoost](#AdaBoost)\n",
    "- [Evaluation](#Evaluation)\n",
    "- [Model with Test Dataset](#Model-with-Test-Dataset)"
   ]
  },
  {
   "cell_type": "markdown",
   "metadata": {},
   "source": [
    "## Import Data"
   ]
  },
  {
   "cell_type": "markdown",
   "metadata": {},
   "source": [
    "### Import all necessary libraries"
   ]
  },
  {
   "cell_type": "code",
   "execution_count": 1,
   "metadata": {},
   "outputs": [],
   "source": [
    "# Import all necessary libraries\n",
    "import numpy as np\n",
    "import pandas as pd\n",
    "import matplotlib.pyplot as plt\n",
    "import seaborn as sns\n",
    "import time\n",
    "import datetime as dt\n",
    "import re\n",
    "import string\n",
    "import nltk\n",
    "\n",
    "#used to check the time elapsed since running\n",
    "from time import time\n",
    "\n",
    "from sklearn.model_selection import train_test_split, cross_val_score, GridSearchCV, StratifiedKFold\n",
    "from sklearn.metrics import confusion_matrix, classification_report, accuracy_score, precision_score, recall_score\n",
    "from sklearn.metrics import plot_roc_curve, roc_auc_score, plot_confusion_matrix\n",
    "from sklearn.metrics import precision_recall_fscore_support as score\n",
    "from sklearn.pipeline import Pipeline\n",
    "\n",
    "from sklearn.linear_model import LogisticRegression\n",
    "from sklearn.preprocessing import StandardScaler\n",
    "from sklearn.tree import DecisionTreeClassifier\n",
    "from sklearn.ensemble import RandomForestClassifier, AdaBoostClassifier, GradientBoostingClassifier\n",
    "from sklearn.naive_bayes import BernoulliNB\n",
    "from sklearn.svm import SVC\n",
    "\n",
    "from imblearn.over_sampling import SMOTE\n",
    "\n",
    "#hide warnings\n",
    "import warnings\n",
    "warnings.filterwarnings('ignore')"
   ]
  },
  {
   "cell_type": "markdown",
   "metadata": {},
   "source": [
    "### Import Data from Merged Dataset"
   ]
  },
  {
   "cell_type": "code",
   "execution_count": 2,
   "metadata": {},
   "outputs": [],
   "source": [
    "%store -r train_merged_df\n",
    "%store -r test_df\n",
    "%store -r weather"
   ]
  },
  {
   "cell_type": "code",
   "execution_count": 3,
   "metadata": {},
   "outputs": [
    {
     "data": {
      "text/html": [
       "<div>\n",
       "<style scoped>\n",
       "    .dataframe tbody tr th:only-of-type {\n",
       "        vertical-align: middle;\n",
       "    }\n",
       "\n",
       "    .dataframe tbody tr th {\n",
       "        vertical-align: top;\n",
       "    }\n",
       "\n",
       "    .dataframe thead th {\n",
       "        text-align: right;\n",
       "    }\n",
       "</style>\n",
       "<table border=\"1\" class=\"dataframe\">\n",
       "  <thead>\n",
       "    <tr style=\"text-align: right;\">\n",
       "      <th></th>\n",
       "      <th>date</th>\n",
       "      <th>address</th>\n",
       "      <th>block</th>\n",
       "      <th>street</th>\n",
       "      <th>trap</th>\n",
       "      <th>addressnumberandstreet</th>\n",
       "      <th>latitude</th>\n",
       "      <th>longitude</th>\n",
       "      <th>addressaccuracy</th>\n",
       "      <th>wnvpresent</th>\n",
       "      <th>...</th>\n",
       "      <th>result_dir</th>\n",
       "      <th>avg_speed</th>\n",
       "      <th>wet_dry</th>\n",
       "      <th>species_CULEX PIPIENS</th>\n",
       "      <th>species_CULEX PIPIENS/RESTUANS</th>\n",
       "      <th>species_CULEX RESTUANS</th>\n",
       "      <th>species_CULEX SALINARIUS</th>\n",
       "      <th>species_CULEX TARSALIS</th>\n",
       "      <th>species_CULEX TERRITANS</th>\n",
       "      <th>species_UNSPECIFIED CULEX</th>\n",
       "    </tr>\n",
       "  </thead>\n",
       "  <tbody>\n",
       "    <tr>\n",
       "      <th>0</th>\n",
       "      <td>2007-05-29</td>\n",
       "      <td>4100 North Oak Park Avenue, Chicago, IL 60634,...</td>\n",
       "      <td>41</td>\n",
       "      <td>N OAK PARK AVE</td>\n",
       "      <td>T002</td>\n",
       "      <td>4100  N OAK PARK AVE, Chicago, IL</td>\n",
       "      <td>41.95469</td>\n",
       "      <td>-87.800991</td>\n",
       "      <td>9</td>\n",
       "      <td>0</td>\n",
       "      <td>...</td>\n",
       "      <td>18</td>\n",
       "      <td>6.5</td>\n",
       "      <td>1</td>\n",
       "      <td>0</td>\n",
       "      <td>1</td>\n",
       "      <td>0</td>\n",
       "      <td>0</td>\n",
       "      <td>0</td>\n",
       "      <td>0</td>\n",
       "      <td>0</td>\n",
       "    </tr>\n",
       "    <tr>\n",
       "      <th>1</th>\n",
       "      <td>2007-05-29</td>\n",
       "      <td>4100 North Oak Park Avenue, Chicago, IL 60634,...</td>\n",
       "      <td>41</td>\n",
       "      <td>N OAK PARK AVE</td>\n",
       "      <td>T002</td>\n",
       "      <td>4100  N OAK PARK AVE, Chicago, IL</td>\n",
       "      <td>41.95469</td>\n",
       "      <td>-87.800991</td>\n",
       "      <td>9</td>\n",
       "      <td>0</td>\n",
       "      <td>...</td>\n",
       "      <td>18</td>\n",
       "      <td>6.5</td>\n",
       "      <td>1</td>\n",
       "      <td>0</td>\n",
       "      <td>0</td>\n",
       "      <td>1</td>\n",
       "      <td>0</td>\n",
       "      <td>0</td>\n",
       "      <td>0</td>\n",
       "      <td>0</td>\n",
       "    </tr>\n",
       "  </tbody>\n",
       "</table>\n",
       "<p>2 rows × 30 columns</p>\n",
       "</div>"
      ],
      "text/plain": [
       "        date                                            address  block  \\\n",
       "0 2007-05-29  4100 North Oak Park Avenue, Chicago, IL 60634,...     41   \n",
       "1 2007-05-29  4100 North Oak Park Avenue, Chicago, IL 60634,...     41   \n",
       "\n",
       "            street  trap             addressnumberandstreet  latitude  \\\n",
       "0   N OAK PARK AVE  T002  4100  N OAK PARK AVE, Chicago, IL  41.95469   \n",
       "1   N OAK PARK AVE  T002  4100  N OAK PARK AVE, Chicago, IL  41.95469   \n",
       "\n",
       "   longitude  addressaccuracy  wnvpresent  ... result_dir  avg_speed  wet_dry  \\\n",
       "0 -87.800991                9           0  ...         18        6.5        1   \n",
       "1 -87.800991                9           0  ...         18        6.5        1   \n",
       "\n",
       "  species_CULEX PIPIENS  species_CULEX PIPIENS/RESTUANS  \\\n",
       "0                     0                               1   \n",
       "1                     0                               0   \n",
       "\n",
       "   species_CULEX RESTUANS  species_CULEX SALINARIUS  species_CULEX TARSALIS  \\\n",
       "0                       0                         0                       0   \n",
       "1                       1                         0                       0   \n",
       "\n",
       "   species_CULEX TERRITANS  species_UNSPECIFIED CULEX  \n",
       "0                        0                          0  \n",
       "1                        0                          0  \n",
       "\n",
       "[2 rows x 30 columns]"
      ]
     },
     "execution_count": 3,
     "metadata": {},
     "output_type": "execute_result"
    }
   ],
   "source": [
    "train_merged_df.head(2)"
   ]
  },
  {
   "cell_type": "markdown",
   "metadata": {},
   "source": [
    "## Modelling with Data Visualisation"
   ]
  },
  {
   "cell_type": "markdown",
   "metadata": {},
   "source": [
    "For the modelling, we will be using the following models:\n",
    "- [Random Forest](#Random-Forest)\n",
    "- [Support Vector Classification](#Support-Vector-Classification)\n",
    "- [Logistic Regression](#Logistic-Regression)\n",
    "- [Bernoulli Naive Bayes](#Bernoulli-Naive-Bayes)\n",
    "- [Gradient Boosting](#Gradient-Boosting)\n",
    "- [AdaBoost (using Decision Tree)](#AdaBoost)"
   ]
  },
  {
   "cell_type": "markdown",
   "metadata": {},
   "source": [
    "### Train Test Split"
   ]
  },
  {
   "cell_type": "code",
   "execution_count": 4,
   "metadata": {},
   "outputs": [],
   "source": [
    "# Save the needed features into X\n",
    "X = train_merged_df.drop(columns=['date','date_1','wnvpresent','address','block','street','trap','addressnumberandstreet',\n",
    "                                  'addressaccuracy','geometry'], axis=1)"
   ]
  },
  {
   "cell_type": "code",
   "execution_count": 5,
   "metadata": {},
   "outputs": [],
   "source": [
    "# Save the 'wnvpresent' into y\n",
    "y = train_merged_df['wnvpresent']"
   ]
  },
  {
   "cell_type": "code",
   "execution_count": 6,
   "metadata": {},
   "outputs": [
    {
     "data": {
      "text/plain": [
       "(10506, 20)"
      ]
     },
     "execution_count": 6,
     "metadata": {},
     "output_type": "execute_result"
    }
   ],
   "source": [
    "# Print the X shape\n",
    "X.shape"
   ]
  },
  {
   "cell_type": "code",
   "execution_count": 7,
   "metadata": {},
   "outputs": [
    {
     "data": {
      "text/plain": [
       "(10506,)"
      ]
     },
     "execution_count": 7,
     "metadata": {},
     "output_type": "execute_result"
    }
   ],
   "source": [
    "# Print the y shape\n",
    "y.shape"
   ]
  },
  {
   "cell_type": "code",
   "execution_count": 8,
   "metadata": {},
   "outputs": [],
   "source": [
    "# Do a train test split of 70-30\n",
    "X_train, X_test, y_train, y_test = train_test_split(X, y, train_size=0.7, stratify=y)"
   ]
  },
  {
   "cell_type": "code",
   "execution_count": 9,
   "metadata": {},
   "outputs": [
    {
     "name": "stdout",
     "output_type": "stream",
     "text": [
      "<class 'pandas.core.frame.DataFrame'>\n",
      "Int64Index: 10506 entries, 0 to 10505\n",
      "Data columns (total 20 columns):\n",
      " #   Column                          Non-Null Count  Dtype  \n",
      "---  ------                          --------------  -----  \n",
      " 0   latitude                        10506 non-null  float64\n",
      " 1   longitude                       10506 non-null  float64\n",
      " 2   month_x                         10506 non-null  int64  \n",
      " 3   year_x                          10506 non-null  int64  \n",
      " 4   week_x                          10506 non-null  int64  \n",
      " 5   yearmonth                       10506 non-null  int64  \n",
      " 6   station                         10506 non-null  int64  \n",
      " 7   t_avg                           10506 non-null  float64\n",
      " 8   precip_total                    10506 non-null  float64\n",
      " 9   sea_level                       10506 non-null  float64\n",
      " 10  result_dir                      10506 non-null  int64  \n",
      " 11  avg_speed                       10506 non-null  float64\n",
      " 12  wet_dry                         10506 non-null  int64  \n",
      " 13  species_CULEX PIPIENS           10506 non-null  uint8  \n",
      " 14  species_CULEX PIPIENS/RESTUANS  10506 non-null  uint8  \n",
      " 15  species_CULEX RESTUANS          10506 non-null  uint8  \n",
      " 16  species_CULEX SALINARIUS        10506 non-null  uint8  \n",
      " 17  species_CULEX TARSALIS          10506 non-null  uint8  \n",
      " 18  species_CULEX TERRITANS         10506 non-null  uint8  \n",
      " 19  species_UNSPECIFIED CULEX       10506 non-null  int64  \n",
      "dtypes: float64(6), int64(8), uint8(6)\n",
      "memory usage: 1.3 MB\n"
     ]
    }
   ],
   "source": [
    "# Check the X info\n",
    "X.info()"
   ]
  },
  {
   "cell_type": "code",
   "execution_count": 10,
   "metadata": {},
   "outputs": [],
   "source": [
    "#scale the X values to ensure the variables are all on the same scale\n",
    "ss = StandardScaler()\n",
    "X_train_scale = ss.fit_transform(X_train)\n",
    "X_test_scale = ss.transform(X_test)"
   ]
  },
  {
   "cell_type": "code",
   "execution_count": 11,
   "metadata": {},
   "outputs": [],
   "source": [
    "# Instantiate SMOTE\n",
    "sm = SMOTE(random_state=42)\n",
    "\n",
    "X_train_scale, y_train = sm.fit_resample(X_train_scale, y_train)"
   ]
  },
  {
   "cell_type": "markdown",
   "metadata": {},
   "source": [
    "### Baseline\n",
    "\n",
    "The Baseline is the Accuracy score, which is equivalent to the proportion of the majority class, in the event where we predict that all the target values in the test set is equal to 0 (no west nile virus present)."
   ]
  },
  {
   "cell_type": "code",
   "execution_count": 12,
   "metadata": {
    "scrolled": true
   },
   "outputs": [
    {
     "data": {
      "text/plain": [
       "0    0.947652\n",
       "1    0.052348\n",
       "Name: wnvpresent, dtype: float64"
      ]
     },
     "execution_count": 12,
     "metadata": {},
     "output_type": "execute_result"
    }
   ],
   "source": [
    "#predicting that all values in the test subset are of one value\n",
    "y_test.value_counts(normalize=True)"
   ]
  },
  {
   "cell_type": "markdown",
   "metadata": {},
   "source": [
    "The Baseline Test Accuracy score is approximately 0.95, indicating that we achieve 95% accuracy if we predict that no west nile virus is present at all regardless of the data collected.\n",
    "\n",
    "While this is an extremely high score, it is not ideal as the purpose of this project is to correctly identify when the west nile virus is really present and deploy pesticides at those places identified to prevent further spreading of the deadly virus. Predicting that no virus is present regardless of the data collected will defeat the purpose of this project.\n",
    "\n",
    "Additionally, the high score obtained from this way of prediction is due to the highly imbalanced and skewed dataset. This means the Baseline is extremely biased towards the prediction of having no west nile virus, which makes this a bad evaluation.\n",
    "\n",
    "Generally speaking, Accuracy is not a good metric to use for evaluation on problems with imbalanced datasets like this."
   ]
  },
  {
   "cell_type": "markdown",
   "metadata": {},
   "source": [
    "<b>Therefore, to decide on the best performing model, we will look at the following metrics:\n",
    "- Area Under Curve (AUC)\n",
    "- Precision-Recall score\n",
    "- F1 score\n",
    "- *Train Accuracy (to check for overfitting)*\n",
    "- *Test Accuracy (to check for overfitting)*\n",
    "</b>\n",
    "\n",
    "We will run different models with tuned hyperparameters to choose the model best suited for this classification problem based on the metrics specified above. The metrics will be explained in more details under the [Evaluation](#Evaluation) section where we will also be comparing the models."
   ]
  },
  {
   "cell_type": "markdown",
   "metadata": {},
   "source": [
    "### Random Forest"
   ]
  },
  {
   "cell_type": "code",
   "execution_count": 13,
   "metadata": {},
   "outputs": [
    {
     "name": "stdout",
     "output_type": "stream",
     "text": [
      "Time taken to run: 54.86 seconds\n"
     ]
    }
   ],
   "source": [
    "#run start time in seconds\n",
    "start = time()\n",
    "\n",
    "# instantiate random forest\n",
    "rf = RandomForestClassifier()\n",
    "\n",
    "# A list of params to be fit into Grid Search CV\n",
    "rf_params = {'n_estimators': [100, 150, 200], \n",
    "             'max_depth': [None, 1, 2, 3, 4, 5]\n",
    "            }\n",
    "\n",
    "# instantiate GridSearchCV\n",
    "gs_rf = GridSearchCV(rf, param_grid=rf_params, cv=5, scoring='roc_auc')\n",
    "\n",
    "# Fit the data into gridsearch\n",
    "gs_rf.fit(X_train_scale, y_train)\n",
    "\n",
    "# amount of time taken to run in seconds\n",
    "time_taken = time() - start\n",
    "print('Time taken to run:', round(time_taken, 2), 'seconds')\n"
   ]
  },
  {
   "cell_type": "code",
   "execution_count": 14,
   "metadata": {
    "scrolled": false
   },
   "outputs": [
    {
     "name": "stdout",
     "output_type": "stream",
     "text": [
      "Best Parameters: {'max_depth': None, 'n_estimators': 200}\n"
     ]
    }
   ],
   "source": [
    "# The best params to used for the model\n",
    "gs_rf_best = gs_rf.best_params_\n",
    "\n",
    "print('Best Parameters:', gs_rf_best)"
   ]
  },
  {
   "cell_type": "markdown",
   "metadata": {},
   "source": [
    "The optimal hyperparameters values for the Random Forest Model found are:\n",
    "- max_depth = None\n",
    "- n_estimators = 200\n",
    "\n",
    "We will run the model once again with this value and pull out the scores required for evaluation."
   ]
  },
  {
   "cell_type": "code",
   "execution_count": 56,
   "metadata": {
    "scrolled": false
   },
   "outputs": [
    {
     "name": "stdout",
     "output_type": "stream",
     "text": [
      "RandomForestClassifier(n_estimators=200)\n",
      "\n",
      "Random Forest Train Accuracy: 0.9396558318777641\n",
      "Random Forest Test Accuracy: 0.9381369959499913\n",
      "\n",
      "Random Forest Classification Report:\n",
      "               precision    recall  f1-score   support\n",
      "\n",
      "           0       0.96      0.93      0.95      2987\n",
      "           1       0.22      0.33      0.26       165\n",
      "\n",
      "    accuracy                           0.90      3152\n",
      "   macro avg       0.59      0.63      0.61      3152\n",
      "weighted avg       0.92      0.90      0.91      3152\n",
      "\n",
      "Random Forest AUC value: 0.80538900893772\n"
     ]
    }
   ],
   "source": [
    "# Initiate the random forest Model\n",
    "rf_optimal = RandomForestClassifier(max_depth=None, n_estimators=200)\n",
    "\n",
    "# Fit data into the Model\n",
    "rf_optimal.fit(X_train_scale, y_train)\n",
    "\n",
    "# Print the model name to ensure that it works.\n",
    "print(rf_optimal)\n",
    "\n",
    "# Use model to predict classifcation\n",
    "rf_y_pred = rf_optimal.predict(X_test_scale)\n",
    "\n",
    "# get mean Train Accuracy using cross-Validation with number of folds = 5\n",
    "rf_train_accu = cross_val_score(rf_optimal, X_train_scale, y_train, cv=5).mean()\n",
    "print('\\nRandom Forest Train Accuracy:', rf_train_accu)\n",
    "\n",
    "# get mean Test Accuracy using cross-Validation with number of folds = 5\n",
    "rf_test_accu = cross_val_score(rf_optimal, X_test_scale, y_test, cv=5).mean()\n",
    "print('Random Forest Test Accuracy:', rf_test_accu)\n",
    "\n",
    "# Print classification report for y_pred compared to y_test\n",
    "rf_report = classification_report(y_test, rf_y_pred)\n",
    "print('\\nRandom Forest Classification Report:\\n', rf_report)\n",
    "\n",
    "# Print roc_auc_score for y_test\n",
    "rf_auc = roc_auc_score(y_test, rf_optimal.predict_proba(X_test_scale)[:,1])\n",
    "print('Random Forest AUC value:', rf_auc)\n"
   ]
  },
  {
   "cell_type": "code",
   "execution_count": 57,
   "metadata": {
    "scrolled": false
   },
   "outputs": [
    {
     "data": {
      "image/png": "[encoded data removed]",
      "text/plain": [
       "<Figure size 720x720 with 2 Axes>"
      ]
     },
     "metadata": {
      "needs_background": "light"
     },
     "output_type": "display_data"
    }
   ],
   "source": [
    "# random forest confusion matrix\n",
    "rf_cmatrix = confusion_matrix(y_test, rf_y_pred)\n",
    "\n",
    "# pull out score of individual classification metrics\n",
    "# returns 2 values (1 for each class) --> minority class' value is what we want (index 1)\n",
    "rf_prec, rf_recall, rf_f1, rf_supp = score(y_test, rf_y_pred)\n",
    "\n",
    "# visualisation of confusion matrix\n",
    "rf_modified_cm = []\n",
    "for index,value in enumerate(rf_cmatrix):\n",
    "    if index == 0:\n",
    "        rf_modified_cm.append(['TN = ' + str(value[0]), 'FP = ' + str(value[1])])\n",
    "    if index == 1:\n",
    "        rf_modified_cm.append(['FN = ' + str(value[0]), 'TP = ' + str(value[1])]) \n",
    "\n",
    "plt.figure(figsize=(10,10))\n",
    "sns.heatmap(rf_cmatrix, annot=np.array(rf_modified_cm),\n",
    "            fmt=\"\",\n",
    "            annot_kws={\"size\": 20},\n",
    "            linewidths=.5,\n",
    "            square = True,\n",
    "            cmap = 'Blues',\n",
    "            xticklabels = ['WNV NOT PRESENT', 'WNV PRESENT'],\n",
    "            yticklabels = ['WNV NOT PRESENT', 'WNV PRESENT']\n",
    "            );\n",
    "\n",
    "plt.ylabel('Actual label', fontsize = 17);\n",
    "plt.xlabel('Predicted label', fontsize = 17);\n",
    "plt.title('Random Forest Model Confusion Matrix\\n'\n",
    "          +'F1 score: {:.1f}'.format(rf_f1[1])+'\\n'\n",
    "          +'Precision: {:.1f}'.format(rf_prec[1])+'\\n'\n",
    "          +'Recall: {:.1f}'.format(rf_recall[1])+'\\n', size = 18);\n",
    "plt.tick_params(labelsize=13);\n",
    "\n",
    "plt.savefig('../images/rf_confusion_matrix', bbox_inches=\"tight\", dpi=300)\n",
    "\n",
    "plt.show();"
   ]
  },
  {
   "cell_type": "code",
   "execution_count": 58,
   "metadata": {
    "scrolled": false
   },
   "outputs": [
    {
     "data": {
      "image/png": "[encoded data removed]",
      "text/plain": [
       "<Figure size 432x288 with 1 Axes>"
      ]
     },
     "metadata": {
      "needs_background": "light"
     },
     "output_type": "display_data"
    }
   ],
   "source": [
    "#get the area under curve score\n",
    "plot_roc_curve(rf_optimal, X_test_scale, y_test)\n",
    "\n",
    "plt.title('AUC for Random Forest', fontsize=14)\n",
    "plt.plot([0, 1], [0, 1], label='baseline', linestyle='--')\n",
    "plt.legend();\n",
    "\n",
    "plt.savefig('../images/rf_auc', bbox_inches=\"tight\", dpi=300)\n",
    "\n",
    "plt.show();"
   ]
  },
  {
   "cell_type": "markdown",
   "metadata": {},
   "source": [
    "### Support Vector Classifier"
   ]
  },
  {
   "cell_type": "code",
   "execution_count": 18,
   "metadata": {},
   "outputs": [
    {
     "name": "stdout",
     "output_type": "stream",
     "text": [
      "Time taken to run: 746.3 seconds\n"
     ]
    }
   ],
   "source": [
    "#run start time in seconds\n",
    "start = time()\n",
    "\n",
    "# Instantiate Support Vector Classifier\n",
    "svc = SVC(max_iter=10000)\n",
    "\n",
    "# C values to GridSearch over\n",
    "svc_params = {\"C\": np.linspace(0.0001, 2, 10), \n",
    "              \"kernel\": ['rbf', 'poly', 'linear']\n",
    "             }\n",
    "\n",
    "# Cross validation ensures each fold of dataset has the same proportion of observations with a given label\n",
    "svc_cv = StratifiedKFold(n_splits=5, shuffle=True)\n",
    "\n",
    "# Instantiate GridSearchCV\n",
    "gs_svc = GridSearchCV(svc, svc_params, cv=svc_cv, scoring='roc_auc')\n",
    "\n",
    "# fit data into model\n",
    "gs_svc.fit(X_train_scale, y_train)\n",
    "\n",
    "# amount of time taken to run in seconds\n",
    "time_taken = time() - start\n",
    "print('Time taken to run:', round(time_taken, 2), 'seconds')"
   ]
  },
  {
   "cell_type": "code",
   "execution_count": 19,
   "metadata": {},
   "outputs": [
    {
     "data": {
      "text/html": [
       "<div>\n",
       "<style scoped>\n",
       "    .dataframe tbody tr th:only-of-type {\n",
       "        vertical-align: middle;\n",
       "    }\n",
       "\n",
       "    .dataframe tbody tr th {\n",
       "        vertical-align: top;\n",
       "    }\n",
       "\n",
       "    .dataframe thead th {\n",
       "        text-align: right;\n",
       "    }\n",
       "</style>\n",
       "<table border=\"1\" class=\"dataframe\">\n",
       "  <thead>\n",
       "    <tr style=\"text-align: right;\">\n",
       "      <th></th>\n",
       "      <th>mean_fit_time</th>\n",
       "      <th>std_fit_time</th>\n",
       "      <th>mean_score_time</th>\n",
       "      <th>std_score_time</th>\n",
       "      <th>param_C</th>\n",
       "      <th>param_kernel</th>\n",
       "      <th>params</th>\n",
       "      <th>split0_test_score</th>\n",
       "      <th>split1_test_score</th>\n",
       "      <th>split2_test_score</th>\n",
       "      <th>split3_test_score</th>\n",
       "      <th>split4_test_score</th>\n",
       "      <th>mean_test_score</th>\n",
       "      <th>std_test_score</th>\n",
       "      <th>rank_test_score</th>\n",
       "    </tr>\n",
       "  </thead>\n",
       "  <tbody>\n",
       "    <tr>\n",
       "      <th>0</th>\n",
       "      <td>8.117213</td>\n",
       "      <td>0.217424</td>\n",
       "      <td>3.133532</td>\n",
       "      <td>0.026641</td>\n",
       "      <td>0.0001</td>\n",
       "      <td>rbf</td>\n",
       "      <td>{'C': 0.0001, 'kernel': 'rbf'}</td>\n",
       "      <td>0.812639</td>\n",
       "      <td>0.814238</td>\n",
       "      <td>0.802319</td>\n",
       "      <td>0.810585</td>\n",
       "      <td>0.795048</td>\n",
       "      <td>0.806966</td>\n",
       "      <td>0.007236</td>\n",
       "      <td>19</td>\n",
       "    </tr>\n",
       "    <tr>\n",
       "      <th>1</th>\n",
       "      <td>5.501456</td>\n",
       "      <td>0.036124</td>\n",
       "      <td>1.078066</td>\n",
       "      <td>0.001699</td>\n",
       "      <td>0.0001</td>\n",
       "      <td>poly</td>\n",
       "      <td>{'C': 0.0001, 'kernel': 'poly'}</td>\n",
       "      <td>0.793502</td>\n",
       "      <td>0.791846</td>\n",
       "      <td>0.791241</td>\n",
       "      <td>0.788343</td>\n",
       "      <td>0.777543</td>\n",
       "      <td>0.788495</td>\n",
       "      <td>0.005724</td>\n",
       "      <td>20</td>\n",
       "    </tr>\n",
       "    <tr>\n",
       "      <th>2</th>\n",
       "      <td>4.792234</td>\n",
       "      <td>0.025130</td>\n",
       "      <td>0.885521</td>\n",
       "      <td>0.001315</td>\n",
       "      <td>0.0001</td>\n",
       "      <td>linear</td>\n",
       "      <td>{'C': 0.0001, 'kernel': 'linear'}</td>\n",
       "      <td>0.761544</td>\n",
       "      <td>0.763722</td>\n",
       "      <td>0.758250</td>\n",
       "      <td>0.767291</td>\n",
       "      <td>0.748293</td>\n",
       "      <td>0.759820</td>\n",
       "      <td>0.006471</td>\n",
       "      <td>23</td>\n",
       "    </tr>\n",
       "    <tr>\n",
       "      <th>3</th>\n",
       "      <td>4.702947</td>\n",
       "      <td>0.075522</td>\n",
       "      <td>1.616263</td>\n",
       "      <td>0.015425</td>\n",
       "      <td>0.222311</td>\n",
       "      <td>rbf</td>\n",
       "      <td>{'C': 0.2223111111111111, 'kernel': 'rbf'}</td>\n",
       "      <td>0.903895</td>\n",
       "      <td>0.894376</td>\n",
       "      <td>0.901998</td>\n",
       "      <td>0.898930</td>\n",
       "      <td>0.888463</td>\n",
       "      <td>0.897532</td>\n",
       "      <td>0.005561</td>\n",
       "      <td>9</td>\n",
       "    </tr>\n",
       "    <tr>\n",
       "      <th>4</th>\n",
       "      <td>4.026849</td>\n",
       "      <td>0.044953</td>\n",
       "      <td>0.626124</td>\n",
       "      <td>0.004804</td>\n",
       "      <td>0.222311</td>\n",
       "      <td>poly</td>\n",
       "      <td>{'C': 0.2223111111111111, 'kernel': 'poly'}</td>\n",
       "      <td>0.877972</td>\n",
       "      <td>0.870812</td>\n",
       "      <td>0.876750</td>\n",
       "      <td>0.878105</td>\n",
       "      <td>0.867054</td>\n",
       "      <td>0.874139</td>\n",
       "      <td>0.004439</td>\n",
       "      <td>18</td>\n",
       "    </tr>\n",
       "    <tr>\n",
       "      <th>5</th>\n",
       "      <td>4.295495</td>\n",
       "      <td>0.016603</td>\n",
       "      <td>0.623759</td>\n",
       "      <td>0.003484</td>\n",
       "      <td>0.222311</td>\n",
       "      <td>linear</td>\n",
       "      <td>{'C': 0.2223111111111111, 'kernel': 'linear'}</td>\n",
       "      <td>0.784189</td>\n",
       "      <td>0.777251</td>\n",
       "      <td>0.784598</td>\n",
       "      <td>0.779894</td>\n",
       "      <td>0.760139</td>\n",
       "      <td>0.777214</td>\n",
       "      <td>0.008966</td>\n",
       "      <td>21</td>\n",
       "    </tr>\n",
       "    <tr>\n",
       "      <th>6</th>\n",
       "      <td>4.443194</td>\n",
       "      <td>0.017238</td>\n",
       "      <td>1.497301</td>\n",
       "      <td>0.010629</td>\n",
       "      <td>0.444522</td>\n",
       "      <td>rbf</td>\n",
       "      <td>{'C': 0.4445222222222222, 'kernel': 'rbf'}</td>\n",
       "      <td>0.910675</td>\n",
       "      <td>0.902785</td>\n",
       "      <td>0.910436</td>\n",
       "      <td>0.908124</td>\n",
       "      <td>0.900051</td>\n",
       "      <td>0.906414</td>\n",
       "      <td>0.004264</td>\n",
       "      <td>8</td>\n",
       "    </tr>\n",
       "    <tr>\n",
       "      <th>7</th>\n",
       "      <td>3.874009</td>\n",
       "      <td>0.066069</td>\n",
       "      <td>0.574143</td>\n",
       "      <td>0.005098</td>\n",
       "      <td>0.444522</td>\n",
       "      <td>poly</td>\n",
       "      <td>{'C': 0.4445222222222222, 'kernel': 'poly'}</td>\n",
       "      <td>0.883056</td>\n",
       "      <td>0.876603</td>\n",
       "      <td>0.881476</td>\n",
       "      <td>0.884887</td>\n",
       "      <td>0.872953</td>\n",
       "      <td>0.879795</td>\n",
       "      <td>0.004391</td>\n",
       "      <td>17</td>\n",
       "    </tr>\n",
       "    <tr>\n",
       "      <th>8</th>\n",
       "      <td>3.997656</td>\n",
       "      <td>0.028954</td>\n",
       "      <td>0.619809</td>\n",
       "      <td>0.003558</td>\n",
       "      <td>0.444522</td>\n",
       "      <td>linear</td>\n",
       "      <td>{'C': 0.4445222222222222, 'kernel': 'linear'}</td>\n",
       "      <td>0.773444</td>\n",
       "      <td>0.765597</td>\n",
       "      <td>0.779486</td>\n",
       "      <td>0.771623</td>\n",
       "      <td>0.761487</td>\n",
       "      <td>0.770327</td>\n",
       "      <td>0.006258</td>\n",
       "      <td>22</td>\n",
       "    </tr>\n",
       "    <tr>\n",
       "      <th>9</th>\n",
       "      <td>4.232962</td>\n",
       "      <td>0.019185</td>\n",
       "      <td>1.429957</td>\n",
       "      <td>0.013253</td>\n",
       "      <td>0.666733</td>\n",
       "      <td>rbf</td>\n",
       "      <td>{'C': 0.6667333333333333, 'kernel': 'rbf'}</td>\n",
       "      <td>0.913921</td>\n",
       "      <td>0.907194</td>\n",
       "      <td>0.914154</td>\n",
       "      <td>0.910364</td>\n",
       "      <td>0.906089</td>\n",
       "      <td>0.910345</td>\n",
       "      <td>0.003327</td>\n",
       "      <td>7</td>\n",
       "    </tr>\n",
       "    <tr>\n",
       "      <th>10</th>\n",
       "      <td>3.790478</td>\n",
       "      <td>0.164096</td>\n",
       "      <td>0.544144</td>\n",
       "      <td>0.003914</td>\n",
       "      <td>0.666733</td>\n",
       "      <td>poly</td>\n",
       "      <td>{'C': 0.6667333333333333, 'kernel': 'poly'}</td>\n",
       "      <td>0.885889</td>\n",
       "      <td>0.879700</td>\n",
       "      <td>0.883624</td>\n",
       "      <td>0.887572</td>\n",
       "      <td>0.876810</td>\n",
       "      <td>0.882719</td>\n",
       "      <td>0.003961</td>\n",
       "      <td>16</td>\n",
       "    </tr>\n",
       "    <tr>\n",
       "      <th>11</th>\n",
       "      <td>3.763156</td>\n",
       "      <td>0.043599</td>\n",
       "      <td>0.609009</td>\n",
       "      <td>0.003166</td>\n",
       "      <td>0.666733</td>\n",
       "      <td>linear</td>\n",
       "      <td>{'C': 0.6667333333333333, 'kernel': 'linear'}</td>\n",
       "      <td>0.757397</td>\n",
       "      <td>0.778357</td>\n",
       "      <td>0.755208</td>\n",
       "      <td>0.769576</td>\n",
       "      <td>0.719164</td>\n",
       "      <td>0.755940</td>\n",
       "      <td>0.020217</td>\n",
       "      <td>25</td>\n",
       "    </tr>\n",
       "    <tr>\n",
       "      <th>12</th>\n",
       "      <td>4.168061</td>\n",
       "      <td>0.017579</td>\n",
       "      <td>1.394389</td>\n",
       "      <td>0.011012</td>\n",
       "      <td>0.888944</td>\n",
       "      <td>rbf</td>\n",
       "      <td>{'C': 0.8889444444444444, 'kernel': 'rbf'}</td>\n",
       "      <td>0.916654</td>\n",
       "      <td>0.909793</td>\n",
       "      <td>0.916550</td>\n",
       "      <td>0.913282</td>\n",
       "      <td>0.909495</td>\n",
       "      <td>0.913155</td>\n",
       "      <td>0.003114</td>\n",
       "      <td>6</td>\n",
       "    </tr>\n",
       "    <tr>\n",
       "      <th>13</th>\n",
       "      <td>3.597140</td>\n",
       "      <td>0.022446</td>\n",
       "      <td>0.527868</td>\n",
       "      <td>0.004143</td>\n",
       "      <td>0.888944</td>\n",
       "      <td>poly</td>\n",
       "      <td>{'C': 0.8889444444444444, 'kernel': 'poly'}</td>\n",
       "      <td>0.888191</td>\n",
       "      <td>0.880635</td>\n",
       "      <td>0.885656</td>\n",
       "      <td>0.889481</td>\n",
       "      <td>0.879035</td>\n",
       "      <td>0.884600</td>\n",
       "      <td>0.004112</td>\n",
       "      <td>15</td>\n",
       "    </tr>\n",
       "    <tr>\n",
       "      <th>14</th>\n",
       "      <td>3.535108</td>\n",
       "      <td>0.018917</td>\n",
       "      <td>0.597066</td>\n",
       "      <td>0.003147</td>\n",
       "      <td>0.888944</td>\n",
       "      <td>linear</td>\n",
       "      <td>{'C': 0.8889444444444444, 'kernel': 'linear'}</td>\n",
       "      <td>0.764423</td>\n",
       "      <td>0.755306</td>\n",
       "      <td>0.767663</td>\n",
       "      <td>0.756616</td>\n",
       "      <td>0.746711</td>\n",
       "      <td>0.758144</td>\n",
       "      <td>0.007364</td>\n",
       "      <td>24</td>\n",
       "    </tr>\n",
       "    <tr>\n",
       "      <th>15</th>\n",
       "      <td>4.154878</td>\n",
       "      <td>0.033860</td>\n",
       "      <td>1.360731</td>\n",
       "      <td>0.008730</td>\n",
       "      <td>1.111156</td>\n",
       "      <td>rbf</td>\n",
       "      <td>{'C': 1.1111555555555555, 'kernel': 'rbf'}</td>\n",
       "      <td>0.918327</td>\n",
       "      <td>0.912210</td>\n",
       "      <td>0.918573</td>\n",
       "      <td>0.916023</td>\n",
       "      <td>0.912430</td>\n",
       "      <td>0.915513</td>\n",
       "      <td>0.002755</td>\n",
       "      <td>5</td>\n",
       "    </tr>\n",
       "    <tr>\n",
       "      <th>16</th>\n",
       "      <td>3.551121</td>\n",
       "      <td>0.043598</td>\n",
       "      <td>0.516169</td>\n",
       "      <td>0.003840</td>\n",
       "      <td>1.111156</td>\n",
       "      <td>poly</td>\n",
       "      <td>{'C': 1.1111555555555555, 'kernel': 'poly'}</td>\n",
       "      <td>0.889940</td>\n",
       "      <td>0.882262</td>\n",
       "      <td>0.887756</td>\n",
       "      <td>0.891895</td>\n",
       "      <td>0.882123</td>\n",
       "      <td>0.886795</td>\n",
       "      <td>0.003980</td>\n",
       "      <td>14</td>\n",
       "    </tr>\n",
       "    <tr>\n",
       "      <th>17</th>\n",
       "      <td>3.341400</td>\n",
       "      <td>0.032312</td>\n",
       "      <td>0.581784</td>\n",
       "      <td>0.003329</td>\n",
       "      <td>1.111156</td>\n",
       "      <td>linear</td>\n",
       "      <td>{'C': 1.1111555555555555, 'kernel': 'linear'}</td>\n",
       "      <td>0.768799</td>\n",
       "      <td>0.687068</td>\n",
       "      <td>0.743490</td>\n",
       "      <td>0.739655</td>\n",
       "      <td>0.673890</td>\n",
       "      <td>0.722580</td>\n",
       "      <td>0.036047</td>\n",
       "      <td>27</td>\n",
       "    </tr>\n",
       "    <tr>\n",
       "      <th>18</th>\n",
       "      <td>4.063460</td>\n",
       "      <td>0.019308</td>\n",
       "      <td>1.332869</td>\n",
       "      <td>0.013010</td>\n",
       "      <td>1.333367</td>\n",
       "      <td>rbf</td>\n",
       "      <td>{'C': 1.3333666666666666, 'kernel': 'rbf'}</td>\n",
       "      <td>0.920489</td>\n",
       "      <td>0.914044</td>\n",
       "      <td>0.919239</td>\n",
       "      <td>0.917966</td>\n",
       "      <td>0.914653</td>\n",
       "      <td>0.917278</td>\n",
       "      <td>0.002529</td>\n",
       "      <td>4</td>\n",
       "    </tr>\n",
       "    <tr>\n",
       "      <th>19</th>\n",
       "      <td>3.506090</td>\n",
       "      <td>0.024351</td>\n",
       "      <td>0.507907</td>\n",
       "      <td>0.003733</td>\n",
       "      <td>1.333367</td>\n",
       "      <td>poly</td>\n",
       "      <td>{'C': 1.3333666666666666, 'kernel': 'poly'}</td>\n",
       "      <td>0.891879</td>\n",
       "      <td>0.883745</td>\n",
       "      <td>0.889181</td>\n",
       "      <td>0.893388</td>\n",
       "      <td>0.883548</td>\n",
       "      <td>0.888348</td>\n",
       "      <td>0.004069</td>\n",
       "      <td>13</td>\n",
       "    </tr>\n",
       "    <tr>\n",
       "      <th>20</th>\n",
       "      <td>3.210057</td>\n",
       "      <td>0.030205</td>\n",
       "      <td>0.568997</td>\n",
       "      <td>0.003982</td>\n",
       "      <td>1.333367</td>\n",
       "      <td>linear</td>\n",
       "      <td>{'C': 1.3333666666666666, 'kernel': 'linear'}</td>\n",
       "      <td>0.700267</td>\n",
       "      <td>0.718333</td>\n",
       "      <td>0.722302</td>\n",
       "      <td>0.738582</td>\n",
       "      <td>0.757250</td>\n",
       "      <td>0.727347</td>\n",
       "      <td>0.019290</td>\n",
       "      <td>26</td>\n",
       "    </tr>\n",
       "    <tr>\n",
       "      <th>21</th>\n",
       "      <td>4.073343</td>\n",
       "      <td>0.023999</td>\n",
       "      <td>1.312219</td>\n",
       "      <td>0.011788</td>\n",
       "      <td>1.555578</td>\n",
       "      <td>rbf</td>\n",
       "      <td>{'C': 1.5555777777777777, 'kernel': 'rbf'}</td>\n",
       "      <td>0.922103</td>\n",
       "      <td>0.916193</td>\n",
       "      <td>0.920644</td>\n",
       "      <td>0.919816</td>\n",
       "      <td>0.916715</td>\n",
       "      <td>0.919094</td>\n",
       "      <td>0.002283</td>\n",
       "      <td>3</td>\n",
       "    </tr>\n",
       "    <tr>\n",
       "      <th>22</th>\n",
       "      <td>3.520876</td>\n",
       "      <td>0.050763</td>\n",
       "      <td>0.501262</td>\n",
       "      <td>0.002983</td>\n",
       "      <td>1.555578</td>\n",
       "      <td>poly</td>\n",
       "      <td>{'C': 1.5555777777777777, 'kernel': 'poly'}</td>\n",
       "      <td>0.891887</td>\n",
       "      <td>0.882982</td>\n",
       "      <td>0.889628</td>\n",
       "      <td>0.894712</td>\n",
       "      <td>0.884901</td>\n",
       "      <td>0.888822</td>\n",
       "      <td>0.004341</td>\n",
       "      <td>12</td>\n",
       "    </tr>\n",
       "    <tr>\n",
       "      <th>23</th>\n",
       "      <td>3.117944</td>\n",
       "      <td>0.007715</td>\n",
       "      <td>0.553693</td>\n",
       "      <td>0.003131</td>\n",
       "      <td>1.555578</td>\n",
       "      <td>linear</td>\n",
       "      <td>{'C': 1.5555777777777777, 'kernel': 'linear'}</td>\n",
       "      <td>0.663107</td>\n",
       "      <td>0.742387</td>\n",
       "      <td>0.652261</td>\n",
       "      <td>0.717459</td>\n",
       "      <td>0.704655</td>\n",
       "      <td>0.695974</td>\n",
       "      <td>0.033711</td>\n",
       "      <td>28</td>\n",
       "    </tr>\n",
       "    <tr>\n",
       "      <th>24</th>\n",
       "      <td>4.018351</td>\n",
       "      <td>0.037033</td>\n",
       "      <td>1.293013</td>\n",
       "      <td>0.009639</td>\n",
       "      <td>1.777789</td>\n",
       "      <td>rbf</td>\n",
       "      <td>{'C': 1.7777888888888889, 'kernel': 'rbf'}</td>\n",
       "      <td>0.923266</td>\n",
       "      <td>0.917408</td>\n",
       "      <td>0.922021</td>\n",
       "      <td>0.921071</td>\n",
       "      <td>0.918582</td>\n",
       "      <td>0.920469</td>\n",
       "      <td>0.002169</td>\n",
       "      <td>2</td>\n",
       "    </tr>\n",
       "    <tr>\n",
       "      <th>25</th>\n",
       "      <td>3.485172</td>\n",
       "      <td>0.047494</td>\n",
       "      <td>0.495090</td>\n",
       "      <td>0.003494</td>\n",
       "      <td>1.777789</td>\n",
       "      <td>poly</td>\n",
       "      <td>{'C': 1.7777888888888889, 'kernel': 'poly'}</td>\n",
       "      <td>0.894431</td>\n",
       "      <td>0.884845</td>\n",
       "      <td>0.890638</td>\n",
       "      <td>0.895743</td>\n",
       "      <td>0.885990</td>\n",
       "      <td>0.890329</td>\n",
       "      <td>0.004362</td>\n",
       "      <td>11</td>\n",
       "    </tr>\n",
       "    <tr>\n",
       "      <th>26</th>\n",
       "      <td>3.061132</td>\n",
       "      <td>0.019705</td>\n",
       "      <td>0.543454</td>\n",
       "      <td>0.002825</td>\n",
       "      <td>1.777789</td>\n",
       "      <td>linear</td>\n",
       "      <td>{'C': 1.7777888888888889, 'kernel': 'linear'}</td>\n",
       "      <td>0.691471</td>\n",
       "      <td>0.706654</td>\n",
       "      <td>0.738003</td>\n",
       "      <td>0.670288</td>\n",
       "      <td>0.655155</td>\n",
       "      <td>0.692314</td>\n",
       "      <td>0.028844</td>\n",
       "      <td>29</td>\n",
       "    </tr>\n",
       "    <tr>\n",
       "      <th>27</th>\n",
       "      <td>3.992331</td>\n",
       "      <td>0.037323</td>\n",
       "      <td>1.277577</td>\n",
       "      <td>0.009641</td>\n",
       "      <td>2.0</td>\n",
       "      <td>rbf</td>\n",
       "      <td>{'C': 2.0, 'kernel': 'rbf'}</td>\n",
       "      <td>0.924436</td>\n",
       "      <td>0.918845</td>\n",
       "      <td>0.922919</td>\n",
       "      <td>0.922211</td>\n",
       "      <td>0.920397</td>\n",
       "      <td>0.921762</td>\n",
       "      <td>0.001952</td>\n",
       "      <td>1</td>\n",
       "    </tr>\n",
       "    <tr>\n",
       "      <th>28</th>\n",
       "      <td>3.468401</td>\n",
       "      <td>0.034767</td>\n",
       "      <td>0.491078</td>\n",
       "      <td>0.004305</td>\n",
       "      <td>2.0</td>\n",
       "      <td>poly</td>\n",
       "      <td>{'C': 2.0, 'kernel': 'poly'}</td>\n",
       "      <td>0.895125</td>\n",
       "      <td>0.885329</td>\n",
       "      <td>0.891261</td>\n",
       "      <td>0.896688</td>\n",
       "      <td>0.888126</td>\n",
       "      <td>0.891306</td>\n",
       "      <td>0.004228</td>\n",
       "      <td>10</td>\n",
       "    </tr>\n",
       "    <tr>\n",
       "      <th>29</th>\n",
       "      <td>2.967249</td>\n",
       "      <td>0.008073</td>\n",
       "      <td>0.528995</td>\n",
       "      <td>0.002555</td>\n",
       "      <td>2.0</td>\n",
       "      <td>linear</td>\n",
       "      <td>{'C': 2.0, 'kernel': 'linear'}</td>\n",
       "      <td>0.635602</td>\n",
       "      <td>0.716795</td>\n",
       "      <td>0.597314</td>\n",
       "      <td>0.703597</td>\n",
       "      <td>0.693169</td>\n",
       "      <td>0.669295</td>\n",
       "      <td>0.045430</td>\n",
       "      <td>30</td>\n",
       "    </tr>\n",
       "  </tbody>\n",
       "</table>\n",
       "</div>"
      ],
      "text/plain": [
       "    mean_fit_time  std_fit_time  mean_score_time  std_score_time   param_C  \\\n",
       "0        8.117213      0.217424         3.133532        0.026641    0.0001   \n",
       "1        5.501456      0.036124         1.078066        0.001699    0.0001   \n",
       "2        4.792234      0.025130         0.885521        0.001315    0.0001   \n",
       "3        4.702947      0.075522         1.616263        0.015425  0.222311   \n",
       "4        4.026849      0.044953         0.626124        0.004804  0.222311   \n",
       "5        4.295495      0.016603         0.623759        0.003484  0.222311   \n",
       "6        4.443194      0.017238         1.497301        0.010629  0.444522   \n",
       "7        3.874009      0.066069         0.574143        0.005098  0.444522   \n",
       "8        3.997656      0.028954         0.619809        0.003558  0.444522   \n",
       "9        4.232962      0.019185         1.429957        0.013253  0.666733   \n",
       "10       3.790478      0.164096         0.544144        0.003914  0.666733   \n",
       "11       3.763156      0.043599         0.609009        0.003166  0.666733   \n",
       "12       4.168061      0.017579         1.394389        0.011012  0.888944   \n",
       "13       3.597140      0.022446         0.527868        0.004143  0.888944   \n",
       "14       3.535108      0.018917         0.597066        0.003147  0.888944   \n",
       "15       4.154878      0.033860         1.360731        0.008730  1.111156   \n",
       "16       3.551121      0.043598         0.516169        0.003840  1.111156   \n",
       "17       3.341400      0.032312         0.581784        0.003329  1.111156   \n",
       "18       4.063460      0.019308         1.332869        0.013010  1.333367   \n",
       "19       3.506090      0.024351         0.507907        0.003733  1.333367   \n",
       "20       3.210057      0.030205         0.568997        0.003982  1.333367   \n",
       "21       4.073343      0.023999         1.312219        0.011788  1.555578   \n",
       "22       3.520876      0.050763         0.501262        0.002983  1.555578   \n",
       "23       3.117944      0.007715         0.553693        0.003131  1.555578   \n",
       "24       4.018351      0.037033         1.293013        0.009639  1.777789   \n",
       "25       3.485172      0.047494         0.495090        0.003494  1.777789   \n",
       "26       3.061132      0.019705         0.543454        0.002825  1.777789   \n",
       "27       3.992331      0.037323         1.277577        0.009641       2.0   \n",
       "28       3.468401      0.034767         0.491078        0.004305       2.0   \n",
       "29       2.967249      0.008073         0.528995        0.002555       2.0   \n",
       "\n",
       "   param_kernel                                         params  \\\n",
       "0           rbf                 {'C': 0.0001, 'kernel': 'rbf'}   \n",
       "1          poly                {'C': 0.0001, 'kernel': 'poly'}   \n",
       "2        linear              {'C': 0.0001, 'kernel': 'linear'}   \n",
       "3           rbf     {'C': 0.2223111111111111, 'kernel': 'rbf'}   \n",
       "4          poly    {'C': 0.2223111111111111, 'kernel': 'poly'}   \n",
       "5        linear  {'C': 0.2223111111111111, 'kernel': 'linear'}   \n",
       "6           rbf     {'C': 0.4445222222222222, 'kernel': 'rbf'}   \n",
       "7          poly    {'C': 0.4445222222222222, 'kernel': 'poly'}   \n",
       "8        linear  {'C': 0.4445222222222222, 'kernel': 'linear'}   \n",
       "9           rbf     {'C': 0.6667333333333333, 'kernel': 'rbf'}   \n",
       "10         poly    {'C': 0.6667333333333333, 'kernel': 'poly'}   \n",
       "11       linear  {'C': 0.6667333333333333, 'kernel': 'linear'}   \n",
       "12          rbf     {'C': 0.8889444444444444, 'kernel': 'rbf'}   \n",
       "13         poly    {'C': 0.8889444444444444, 'kernel': 'poly'}   \n",
       "14       linear  {'C': 0.8889444444444444, 'kernel': 'linear'}   \n",
       "15          rbf     {'C': 1.1111555555555555, 'kernel': 'rbf'}   \n",
       "16         poly    {'C': 1.1111555555555555, 'kernel': 'poly'}   \n",
       "17       linear  {'C': 1.1111555555555555, 'kernel': 'linear'}   \n",
       "18          rbf     {'C': 1.3333666666666666, 'kernel': 'rbf'}   \n",
       "19         poly    {'C': 1.3333666666666666, 'kernel': 'poly'}   \n",
       "20       linear  {'C': 1.3333666666666666, 'kernel': 'linear'}   \n",
       "21          rbf     {'C': 1.5555777777777777, 'kernel': 'rbf'}   \n",
       "22         poly    {'C': 1.5555777777777777, 'kernel': 'poly'}   \n",
       "23       linear  {'C': 1.5555777777777777, 'kernel': 'linear'}   \n",
       "24          rbf     {'C': 1.7777888888888889, 'kernel': 'rbf'}   \n",
       "25         poly    {'C': 1.7777888888888889, 'kernel': 'poly'}   \n",
       "26       linear  {'C': 1.7777888888888889, 'kernel': 'linear'}   \n",
       "27          rbf                    {'C': 2.0, 'kernel': 'rbf'}   \n",
       "28         poly                   {'C': 2.0, 'kernel': 'poly'}   \n",
       "29       linear                 {'C': 2.0, 'kernel': 'linear'}   \n",
       "\n",
       "    split0_test_score  split1_test_score  split2_test_score  \\\n",
       "0            0.812639           0.814238           0.802319   \n",
       "1            0.793502           0.791846           0.791241   \n",
       "2            0.761544           0.763722           0.758250   \n",
       "3            0.903895           0.894376           0.901998   \n",
       "4            0.877972           0.870812           0.876750   \n",
       "5            0.784189           0.777251           0.784598   \n",
       "6            0.910675           0.902785           0.910436   \n",
       "7            0.883056           0.876603           0.881476   \n",
       "8            0.773444           0.765597           0.779486   \n",
       "9            0.913921           0.907194           0.914154   \n",
       "10           0.885889           0.879700           0.883624   \n",
       "11           0.757397           0.778357           0.755208   \n",
       "12           0.916654           0.909793           0.916550   \n",
       "13           0.888191           0.880635           0.885656   \n",
       "14           0.764423           0.755306           0.767663   \n",
       "15           0.918327           0.912210           0.918573   \n",
       "16           0.889940           0.882262           0.887756   \n",
       "17           0.768799           0.687068           0.743490   \n",
       "18           0.920489           0.914044           0.919239   \n",
       "19           0.891879           0.883745           0.889181   \n",
       "20           0.700267           0.718333           0.722302   \n",
       "21           0.922103           0.916193           0.920644   \n",
       "22           0.891887           0.882982           0.889628   \n",
       "23           0.663107           0.742387           0.652261   \n",
       "24           0.923266           0.917408           0.922021   \n",
       "25           0.894431           0.884845           0.890638   \n",
       "26           0.691471           0.706654           0.738003   \n",
       "27           0.924436           0.918845           0.922919   \n",
       "28           0.895125           0.885329           0.891261   \n",
       "29           0.635602           0.716795           0.597314   \n",
       "\n",
       "    split3_test_score  split4_test_score  mean_test_score  std_test_score  \\\n",
       "0            0.810585           0.795048         0.806966        0.007236   \n",
       "1            0.788343           0.777543         0.788495        0.005724   \n",
       "2            0.767291           0.748293         0.759820        0.006471   \n",
       "3            0.898930           0.888463         0.897532        0.005561   \n",
       "4            0.878105           0.867054         0.874139        0.004439   \n",
       "5            0.779894           0.760139         0.777214        0.008966   \n",
       "6            0.908124           0.900051         0.906414        0.004264   \n",
       "7            0.884887           0.872953         0.879795        0.004391   \n",
       "8            0.771623           0.761487         0.770327        0.006258   \n",
       "9            0.910364           0.906089         0.910345        0.003327   \n",
       "10           0.887572           0.876810         0.882719        0.003961   \n",
       "11           0.769576           0.719164         0.755940        0.020217   \n",
       "12           0.913282           0.909495         0.913155        0.003114   \n",
       "13           0.889481           0.879035         0.884600        0.004112   \n",
       "14           0.756616           0.746711         0.758144        0.007364   \n",
       "15           0.916023           0.912430         0.915513        0.002755   \n",
       "16           0.891895           0.882123         0.886795        0.003980   \n",
       "17           0.739655           0.673890         0.722580        0.036047   \n",
       "18           0.917966           0.914653         0.917278        0.002529   \n",
       "19           0.893388           0.883548         0.888348        0.004069   \n",
       "20           0.738582           0.757250         0.727347        0.019290   \n",
       "21           0.919816           0.916715         0.919094        0.002283   \n",
       "22           0.894712           0.884901         0.888822        0.004341   \n",
       "23           0.717459           0.704655         0.695974        0.033711   \n",
       "24           0.921071           0.918582         0.920469        0.002169   \n",
       "25           0.895743           0.885990         0.890329        0.004362   \n",
       "26           0.670288           0.655155         0.692314        0.028844   \n",
       "27           0.922211           0.920397         0.921762        0.001952   \n",
       "28           0.896688           0.888126         0.891306        0.004228   \n",
       "29           0.703597           0.693169         0.669295        0.045430   \n",
       "\n",
       "    rank_test_score  \n",
       "0                19  \n",
       "1                20  \n",
       "2                23  \n",
       "3                 9  \n",
       "4                18  \n",
       "5                21  \n",
       "6                 8  \n",
       "7                17  \n",
       "8                22  \n",
       "9                 7  \n",
       "10               16  \n",
       "11               25  \n",
       "12                6  \n",
       "13               15  \n",
       "14               24  \n",
       "15                5  \n",
       "16               14  \n",
       "17               27  \n",
       "18                4  \n",
       "19               13  \n",
       "20               26  \n",
       "21                3  \n",
       "22               12  \n",
       "23               28  \n",
       "24                2  \n",
       "25               11  \n",
       "26               29  \n",
       "27                1  \n",
       "28               10  \n",
       "29               30  "
      ]
     },
     "execution_count": 19,
     "metadata": {},
     "output_type": "execute_result"
    }
   ],
   "source": [
    "# Save Support Vector Classifier cv results as a DataFrame\n",
    "svc_df = pd.DataFrame(gs_svc.cv_results_)\n",
    "svc_df"
   ]
  },
  {
   "cell_type": "code",
   "execution_count": 20,
   "metadata": {},
   "outputs": [
    {
     "data": {
      "image/png": "[encoded data removed]",
      "text/plain": [
       "<Figure size 432x288 with 1 Axes>"
      ]
     },
     "metadata": {
      "needs_background": "light"
     },
     "output_type": "display_data"
    }
   ],
   "source": [
    "# Plotting to show how C values affect test auc\n",
    "sns.lineplot(x=\"param_C\", y=\"mean_test_score\", data=svc_df, hue= \"param_kernel\");"
   ]
  },
  {
   "cell_type": "code",
   "execution_count": 21,
   "metadata": {},
   "outputs": [
    {
     "name": "stdout",
     "output_type": "stream",
     "text": [
      "Best Parameters: {'C': 2.0, 'kernel': 'rbf'}\n"
     ]
    }
   ],
   "source": [
    "# The best params to use for the model\n",
    "gs_svc_best = gs_svc.best_params_\n",
    "\n",
    "print('Best Parameters:', gs_svc_best)"
   ]
  },
  {
   "cell_type": "markdown",
   "metadata": {},
   "source": [
    "The optimal hyperparameter value for the Support Vector Classifier Model found is:\n",
    "- C = 2.0\n",
    "- kernel = rbf\n",
    "\n",
    "We will run the model once again with this value and pull out the scores required for evaluation."
   ]
  },
  {
   "cell_type": "code",
   "execution_count": 59,
   "metadata": {
    "scrolled": false
   },
   "outputs": [
    {
     "name": "stdout",
     "output_type": "stream",
     "text": [
      "SVC(C=2.0, max_iter=10000, probability=True)\n",
      "\n",
      "Support Vector Classifier Train Accuracy: 0.8559134977470209\n",
      "Support Vector Classifier Test Accuracy: 0.9476522526601766\n",
      "\n",
      "Support Vector Classifier Classification Report:\n",
      "               precision    recall  f1-score   support\n",
      "\n",
      "           0       0.98      0.78      0.87      2987\n",
      "           1       0.16      0.73      0.26       165\n",
      "\n",
      "    accuracy                           0.78      3152\n",
      "   macro avg       0.57      0.76      0.57      3152\n",
      "weighted avg       0.94      0.78      0.84      3152\n",
      "\n",
      "Support Vector Classifier AUC value: 0.8395562589402563\n"
     ]
    }
   ],
   "source": [
    "# Initiate the Support Vector Classifier Model\n",
    "svc_optimal = SVC(max_iter=10000, C=2.0, kernel='rbf', probability=True)\n",
    "\n",
    "# Fit data into the Model\n",
    "svc_optimal.fit(X_train_scale, y_train)\n",
    "\n",
    "# Print the model name to ensure that it works.\n",
    "print(svc_optimal)\n",
    "\n",
    "# Use model to predict classifcation\n",
    "svc_y_pred = svc_optimal.predict(X_test_scale)\n",
    "\n",
    "# get mean Train Accuracy using cross-Validation with number of folds = 5\n",
    "svc_train_accu = cross_val_score(svc_optimal, X_train_scale, y_train, cv=5).mean()\n",
    "print('\\nSupport Vector Classifier Train Accuracy:', svc_train_accu)\n",
    "\n",
    "# get mean Test Accuracy using cross-Validation with number of folds = 5\n",
    "svc_test_accu = cross_val_score(svc_optimal, X_test_scale, y_test, cv=5).mean()\n",
    "print('Support Vector Classifier Test Accuracy:', svc_test_accu)\n",
    "\n",
    "# Print classification report for y_pred compared to y_test\n",
    "svc_report = classification_report(y_test, svc_y_pred)\n",
    "print('\\nSupport Vector Classifier Classification Report:\\n', svc_report)\n",
    "\n",
    "# Print roc_auc_score for y_test\n",
    "svc_auc = roc_auc_score(y_test, svc_optimal.predict_proba(X_test_scale)[:,1])\n",
    "print('Support Vector Classifier AUC value:', svc_auc)\n"
   ]
  },
  {
   "cell_type": "code",
   "execution_count": 60,
   "metadata": {},
   "outputs": [
    {
     "data": {
      "image/png": "[encoded data removed]",
      "text/plain": [
       "<Figure size 720x720 with 2 Axes>"
      ]
     },
     "metadata": {
      "needs_background": "light"
     },
     "output_type": "display_data"
    }
   ],
   "source": [
    "# Support Vector Classifier confusion matrix\n",
    "svc_cmatrix = confusion_matrix(y_test, svc_y_pred)\n",
    "\n",
    "# pull out score of individual classification metrics\n",
    "# returns 2 values (1 for each class) --> minority class' value is what we want (index 1)\n",
    "svc_prec, svc_recall, svc_f1, svc_supp = score(y_test, svc_y_pred)\n",
    "\n",
    "# visualisation of confusion matrix\n",
    "svc_modified_cm = []\n",
    "for index,value in enumerate(svc_cmatrix):\n",
    "    if index == 0:\n",
    "        svc_modified_cm.append(['TN = ' + str(value[0]), 'FP = ' + str(value[1])])\n",
    "    if index == 1:\n",
    "        svc_modified_cm.append(['FN = ' + str(value[0]), 'TP = ' + str(value[1])]) \n",
    "\n",
    "plt.figure(figsize=(10,10))\n",
    "sns.heatmap(svc_cmatrix, annot=np.array(svc_modified_cm),\n",
    "            fmt=\"\",\n",
    "            annot_kws={\"size\": 20},\n",
    "            linewidths=.5,\n",
    "            square = True,\n",
    "            cmap = 'Blues',\n",
    "            xticklabels = ['WNV NOT PRESENT', 'WNV PRESENT'],\n",
    "            yticklabels = ['WNV NOT PRESENT', 'WNV PRESENT'],\n",
    "            );\n",
    "\n",
    "plt.ylabel('Actual label', fontsize = 17);\n",
    "plt.xlabel('Predicted label', fontsize = 17);\n",
    "plt.title('Support Vector Classifier Model Confusion Matrix\\n'\n",
    "          +'F1 score: {:.1f}'.format(svc_f1[1])+'\\n'\n",
    "          +'Precision: {:.1f}'.format(svc_prec[1])+'\\n'\n",
    "          +'Recall: {:.1f}'.format(svc_recall[1])+'\\n', size = 18);\n",
    "plt.tick_params(labelsize= 13);\n",
    "\n",
    "plt.savefig('../images/svc_confusion_matrix', bbox_inches=\"tight\", dpi=300)\n",
    "\n",
    "plt.show();"
   ]
  },
  {
   "cell_type": "code",
   "execution_count": 61,
   "metadata": {
    "scrolled": false
   },
   "outputs": [
    {
     "data": {
      "image/png": "[encoded data removed]",
      "text/plain": [
       "<Figure size 432x288 with 1 Axes>"
      ]
     },
     "metadata": {
      "needs_background": "light"
     },
     "output_type": "display_data"
    }
   ],
   "source": [
    "#get the area under curve score\n",
    "plot_roc_curve(svc_optimal, X_test_scale, y_test)\n",
    "\n",
    "plt.title('AUC for Support Vector Classifier', fontsize=14)\n",
    "plt.plot([0, 1], [0, 1], label='baseline', linestyle='--')\n",
    "plt.legend(loc=4);\n",
    "\n",
    "plt.savefig('../images/svc_auc', bbox_inches=\"tight\", dpi=300)\n",
    "\n",
    "plt.show();"
   ]
  },
  {
   "cell_type": "markdown",
   "metadata": {},
   "source": [
    "### Logistics Regression"
   ]
  },
  {
   "cell_type": "code",
   "execution_count": 25,
   "metadata": {},
   "outputs": [
    {
     "name": "stdout",
     "output_type": "stream",
     "text": [
      "Time taken to run: 38.68 seconds\n"
     ]
    }
   ],
   "source": [
    "#run start time in seconds\n",
    "start = time()\n",
    "\n",
    "# instantiate logistic regression\n",
    "lr = LogisticRegression(max_iter=10_000)\n",
    "\n",
    "# A list of params to be fit into Grid Search CV\n",
    "lr_params = {'solver': ['lbfgs', 'newton-cg', 'saga'], \n",
    "             'penalty': [None, 'l2'], \n",
    "             'C': np.linspace(0.01, 1, 5)\n",
    "            }\n",
    "\n",
    "# instantiate GridSearchCV\n",
    "gs_lr = GridSearchCV(lr, param_grid=lr_params, cv=5, scoring='roc_auc')\n",
    "\n",
    "# Fit the data into gridsearch\n",
    "gs_lr.fit(X_train_scale, y_train)\n",
    "\n",
    "# amount of time taken to run in seconds\n",
    "time_taken = time() - start\n",
    "print('Time taken to run:', round(time_taken, 2), 'seconds')\n"
   ]
  },
  {
   "cell_type": "code",
   "execution_count": 26,
   "metadata": {
    "scrolled": false
   },
   "outputs": [
    {
     "name": "stdout",
     "output_type": "stream",
     "text": [
      "Best Parameters: {'C': 0.01, 'penalty': 'l2', 'solver': 'lbfgs'}\n"
     ]
    }
   ],
   "source": [
    "# The best params to used for the model\n",
    "gs_lr_best = gs_lr.best_params_\n",
    "\n",
    "print('Best Parameters:', gs_lr_best)"
   ]
  },
  {
   "cell_type": "markdown",
   "metadata": {},
   "source": [
    "The optimal hyperparameters values for the Logistic Regression Model found are:\n",
    "- C = 0.01\n",
    "- penalty = l2\n",
    "- solver = lbfgs\n",
    "\n",
    "We will run the model once again with this value and pull out the scores required for evaluation."
   ]
  },
  {
   "cell_type": "code",
   "execution_count": 62,
   "metadata": {
    "scrolled": false
   },
   "outputs": [
    {
     "name": "stdout",
     "output_type": "stream",
     "text": [
      "LogisticRegression(C=0.01, max_iter=10000)\n",
      "\n",
      "Logistic Regression Train Accuracy: 0.7149829166879018\n",
      "Logistic Regression Test Accuracy: 0.9476522526601766\n",
      "\n",
      "Logistic Regression Classification Report:\n",
      "               precision    recall  f1-score   support\n",
      "\n",
      "           0       0.98      0.64      0.78      2987\n",
      "           1       0.11      0.76      0.19       165\n",
      "\n",
      "    accuracy                           0.65      3152\n",
      "   macro avg       0.54      0.70      0.48      3152\n",
      "weighted avg       0.93      0.65      0.75      3152\n",
      "\n",
      "Logistic Regression AUC value: 0.7683852248632965\n"
     ]
    }
   ],
   "source": [
    "# Initiate the logistic regression Model\n",
    "lr_optimal = LogisticRegression(max_iter=10_000, C=0.01, penalty='l2', solver='lbfgs')\n",
    "\n",
    "# Fit data into the Model\n",
    "lr_optimal.fit(X_train_scale, y_train)\n",
    "\n",
    "# Print the model name to ensure that it works.\n",
    "print(lr_optimal)\n",
    "\n",
    "# Use model to predict classifcation\n",
    "lr_y_pred = lr_optimal.predict(X_test_scale)\n",
    "\n",
    "# get mean Train Accuracy using cross-Validation with number of folds = 5\n",
    "lr_train_accu = cross_val_score(lr_optimal, X_train_scale, y_train, cv=5).mean()\n",
    "print('\\nLogistic Regression Train Accuracy:', lr_train_accu)\n",
    "\n",
    "# get mean Test Accuracy using cross-Validation with number of folds = 5\n",
    "lr_test_accu = cross_val_score(lr_optimal, X_test_scale, y_test, cv=5).mean()\n",
    "print('Logistic Regression Test Accuracy:', lr_test_accu)\n",
    "\n",
    "# Print classification report for y_pred compared to y_test\n",
    "lr_report = classification_report(y_test, lr_y_pred)\n",
    "print('\\nLogistic Regression Classification Report:\\n', lr_report)\n",
    "\n",
    "# Print roc_auc_score for y_test\n",
    "lr_auc = roc_auc_score(y_test, lr_optimal.predict_proba(X_test_scale)[:,1])\n",
    "print('Logistic Regression AUC value:', lr_auc)\n"
   ]
  },
  {
   "cell_type": "code",
   "execution_count": 63,
   "metadata": {
    "scrolled": false
   },
   "outputs": [
    {
     "data": {
      "image/png": "[encoded data removed]",
      "text/plain": [
       "<Figure size 720x720 with 2 Axes>"
      ]
     },
     "metadata": {
      "needs_background": "light"
     },
     "output_type": "display_data"
    }
   ],
   "source": [
    "# logistic regression confusion matrix\n",
    "lr_cmatrix = confusion_matrix(y_test, lr_y_pred)\n",
    "\n",
    "# pull out score of individual classification metrics\n",
    "# returns 2 values (1 for each class) --> minority class' value is what we want (index 1)\n",
    "lr_prec, lr_recall, lr_f1, lr_supp = score(y_test, lr_y_pred)\n",
    "\n",
    "# visualisation of confusion matrix\n",
    "lr_modified_cm = []\n",
    "for index,value in enumerate(lr_cmatrix):\n",
    "    if index == 0:\n",
    "        lr_modified_cm.append(['TN = ' + str(value[0]), 'FP = ' + str(value[1])])\n",
    "    if index == 1:\n",
    "        lr_modified_cm.append(['FN = ' + str(value[0]), 'TP = ' + str(value[1])]) \n",
    "\n",
    "plt.figure(figsize=(10,10))\n",
    "sns.heatmap(lr_cmatrix, annot=np.array(lr_modified_cm),\n",
    "            fmt=\"\",\n",
    "            annot_kws={\"size\": 20},\n",
    "            linewidths=.5,\n",
    "            square = True,\n",
    "            cmap = 'Blues',\n",
    "            xticklabels = ['WNV NOT PRESENT', 'WNV PRESENT'],\n",
    "            yticklabels = ['WNV NOT PRESENT', 'WNV PRESENT'],\n",
    "            );\n",
    "\n",
    "plt.ylabel('Actual label', fontsize = 17);\n",
    "plt.xlabel('Predicted label', fontsize = 17);\n",
    "plt.title('Logistic Regression Model Confusion Matrix\\n'\n",
    "          +'F1 score: {:.1f}'.format(lr_f1[1])+'\\n'\n",
    "          +'Precision: {:.1f}'.format(lr_prec[1])+'\\n'\n",
    "          +'Recall: {:.1f}'.format(lr_recall[1])+'\\n', size = 18);\n",
    "plt.tick_params(labelsize= 13);\n",
    "\n",
    "plt.savefig('../images/logreg_confusion_matrix', bbox_inches=\"tight\", dpi=300)\n",
    "\n",
    "plt.show();"
   ]
  },
  {
   "cell_type": "code",
   "execution_count": 64,
   "metadata": {
    "scrolled": true
   },
   "outputs": [
    {
     "data": {
      "image/png": "[encoded data removed]",
      "text/plain": [
       "<Figure size 432x288 with 1 Axes>"
      ]
     },
     "metadata": {
      "needs_background": "light"
     },
     "output_type": "display_data"
    }
   ],
   "source": [
    "#get the area under curve score\n",
    "plot_roc_curve(lr_optimal, X_test_scale, y_test)\n",
    "\n",
    "plt.title('AUC for Logistic Regression', fontsize=14)\n",
    "plt.plot([0, 1], [0, 1], label='baseline', linestyle='--')\n",
    "plt.legend();\n",
    "\n",
    "plt.savefig('../images/logreg_auc', bbox_inches=\"tight\", dpi=300)\n",
    "\n",
    "plt.show();"
   ]
  },
  {
   "cell_type": "markdown",
   "metadata": {},
   "source": [
    "### Bernoulli Naive Bayes"
   ]
  },
  {
   "cell_type": "code",
   "execution_count": 30,
   "metadata": {},
   "outputs": [
    {
     "name": "stdout",
     "output_type": "stream",
     "text": [
      "Time taken to run: 0.17 seconds\n"
     ]
    }
   ],
   "source": [
    "#run start time in seconds\n",
    "start = time()\n",
    "\n",
    "# instantiate bernoulli naive bayes\n",
    "bernNB = BernoulliNB()\n",
    "\n",
    "# A list of params to be fit into Grid Search CV\n",
    "bernNB_params = {'alpha': list(np.linspace(0.01, 2.0, 5))}\n",
    "\n",
    "# instantiate GridSearchCV\n",
    "gs_bernNB = GridSearchCV(bernNB, param_grid=bernNB_params, cv=5, scoring='roc_auc')\n",
    "\n",
    "# Fit the data into gridsearch\n",
    "gs_bernNB.fit(X_train_scale, y_train)\n",
    "\n",
    "# amount of time taken to run in seconds\n",
    "time_taken = time() - start\n",
    "print('Time taken to run:', round(time_taken, 2), 'seconds')\n"
   ]
  },
  {
   "cell_type": "code",
   "execution_count": 31,
   "metadata": {
    "scrolled": false
   },
   "outputs": [
    {
     "name": "stdout",
     "output_type": "stream",
     "text": [
      "Best Parameters: {'alpha': 0.01}\n"
     ]
    }
   ],
   "source": [
    "# The best params to used for the model\n",
    "gs_bernNB_best = gs_bernNB.best_params_\n",
    "\n",
    "print('Best Parameters:', gs_bernNB_best)"
   ]
  },
  {
   "cell_type": "markdown",
   "metadata": {},
   "source": [
    "The optimal hyperparameter value for the Bernoulli Naive Bayes Model found is:\n",
    "- alpha = 0.01\n",
    "\n",
    "We will run the model once again with this value and pull out the scores required for evaluation."
   ]
  },
  {
   "cell_type": "code",
   "execution_count": 32,
   "metadata": {
    "scrolled": false
   },
   "outputs": [
    {
     "name": "stdout",
     "output_type": "stream",
     "text": [
      "BernoulliNB(alpha=0.01)\n",
      "\n",
      "Bernoulli Naive Bayes Train Accuracy: 0.6951772139452541\n",
      "Bernoulli Naive Bayes Test Accuracy: 0.9447976253364526\n",
      "\n",
      "Bernoulli Naive Bayes Classification Report:\n",
      "               precision    recall  f1-score   support\n",
      "\n",
      "           0       0.98      0.64      0.77      2987\n",
      "           1       0.10      0.77      0.18       165\n",
      "\n",
      "    accuracy                           0.64      3152\n",
      "   macro avg       0.54      0.70      0.48      3152\n",
      "weighted avg       0.93      0.64      0.74      3152\n",
      "\n",
      "Bernoulli Naive Bayes AUC value: 0.7637875237138712\n"
     ]
    }
   ],
   "source": [
    "# Initiate the bernoulli naive bayes Model\n",
    "bernNB_optimal = BernoulliNB(alpha=0.01)\n",
    "\n",
    "# Fit data into the Model\n",
    "bernNB_optimal.fit(X_train_scale, y_train)\n",
    "\n",
    "# Print the model name to ensure that it works.\n",
    "print(bernNB_optimal)\n",
    "\n",
    "# Use model to predict classifcation\n",
    "bernNB_y_pred = bernNB_optimal.predict(X_test_scale)\n",
    "\n",
    "# get mean Train Accuracy using cross-Validation with number of folds = 5\n",
    "bernNB_train_accu = cross_val_score(bernNB_optimal, X_train_scale, y_train, cv=5).mean()\n",
    "print('\\nBernoulli Naive Bayes Train Accuracy:', bernNB_train_accu)\n",
    "\n",
    "# get mean Test Accuracy using cross-Validation with number of folds = 5\n",
    "bernNB_test_accu = cross_val_score(bernNB_optimal, X_test_scale, y_test, cv=5).mean()\n",
    "print('Bernoulli Naive Bayes Test Accuracy:', bernNB_test_accu)\n",
    "\n",
    "# Print classification report for y_pred compared to y_test\n",
    "bernNB_report = classification_report(y_test, bernNB_y_pred)\n",
    "print('\\nBernoulli Naive Bayes Classification Report:\\n', bernNB_report)\n",
    "\n",
    "# Print roc_auc_score for y_test\n",
    "bernNB_auc = roc_auc_score(y_test, bernNB_optimal.predict_proba(X_test_scale)[:,1])\n",
    "print('Bernoulli Naive Bayes AUC value:', bernNB_auc)\n"
   ]
  },
  {
   "cell_type": "code",
   "execution_count": 33,
   "metadata": {
    "scrolled": false
   },
   "outputs": [
    {
     "data": {
      "image/png": "[encoded data removed]",
      "text/plain": [
       "<Figure size 720x720 with 2 Axes>"
      ]
     },
     "metadata": {
      "needs_background": "light"
     },
     "output_type": "display_data"
    }
   ],
   "source": [
    "# bernoulli naive bayes confusion matrix\n",
    "bernNB_cmatrix = confusion_matrix(y_test, bernNB_y_pred)\n",
    "\n",
    "# pull out score of individual classification metrics\n",
    "# returns 2 values (1 for each class) --> minority class' value is what we want (index 1)\n",
    "bernNB_prec, bernNB_recall, bernNB_f1, bernNB_supp = score(y_test, bernNB_y_pred)\n",
    "\n",
    "# visualisation of confusion matrix\n",
    "bernNB_modified_cm = []\n",
    "for index,value in enumerate(bernNB_cmatrix):\n",
    "    if index == 0:\n",
    "        bernNB_modified_cm.append(['TN = ' + str(value[0]), 'FP = ' + str(value[1])])\n",
    "    if index == 1:\n",
    "        bernNB_modified_cm.append(['FN = ' + str(value[0]), 'TP = ' + str(value[1])]) \n",
    "\n",
    "plt.figure(figsize=(10,10))\n",
    "sns.heatmap(bernNB_cmatrix, annot=np.array(bernNB_modified_cm),\n",
    "            fmt=\"\",\n",
    "            annot_kws={\"size\": 20},\n",
    "            linewidths=.5,\n",
    "            square = True,\n",
    "            cmap = 'Blues',\n",
    "            xticklabels = ['WNV NOT PRESENT', 'WNV PRESENT'],\n",
    "            yticklabels = ['WNV NOT PRESENT', 'WNV PRESENT'],\n",
    "            );\n",
    "\n",
    "plt.ylabel('Actual label', fontsize = 17);\n",
    "plt.xlabel('Predicted label', fontsize = 17);\n",
    "plt.title('Bernoulli Naive Bayes Model Confusion Matrix\\n'\n",
    "          +'F1 score: {:.1f}'.format(bernNB_f1[1])+'\\n'\n",
    "          +'Precision: {:.1f}'.format(bernNB_prec[1])+'\\n'\n",
    "          +'Recall: {:.1f}'.format(bernNB_recall[1])+'\\n', size = 18);\n",
    "plt.tick_params(labelsize= 13)\n",
    "\n",
    "plt.savefig('../images/bernNB_confusion_matrix', bbox_inches=\"tight\", dpi=300)\n",
    "\n",
    "plt.show();"
   ]
  },
  {
   "cell_type": "code",
   "execution_count": 34,
   "metadata": {
    "scrolled": false
   },
   "outputs": [
    {
     "data": {
      "image/png": "[encoded data removed]",
      "text/plain": [
       "<Figure size 432x288 with 1 Axes>"
      ]
     },
     "metadata": {
      "needs_background": "light"
     },
     "output_type": "display_data"
    }
   ],
   "source": [
    "#get the area under curve score\n",
    "plot_roc_curve(bernNB_optimal, X_test_scale, y_test)\n",
    "\n",
    "plt.title('AUC for Bernoulli Naive Bayes', fontsize=14)\n",
    "plt.plot([0, 1], [0, 1], label='baseline', linestyle='--')\n",
    "plt.legend();\n",
    "\n",
    "plt.savefig('../images/bernNB_auc', bbox_inches=\"tight\", dpi=300)\n",
    "\n",
    "plt.show();"
   ]
  },
  {
   "cell_type": "markdown",
   "metadata": {},
   "source": [
    "### Gradient Boosting"
   ]
  },
  {
   "cell_type": "code",
   "execution_count": 35,
   "metadata": {
    "scrolled": false
   },
   "outputs": [
    {
     "name": "stdout",
     "output_type": "stream",
     "text": [
      "Time taken to run: 55.22 seconds\n"
     ]
    }
   ],
   "source": [
    "#run start time in seconds\n",
    "start = time()\n",
    "\n",
    "# To do GridSearchCV to find out whats the best param for roc_auc_score\n",
    "gboost = GradientBoostingClassifier()\n",
    "\n",
    "# A list of params to be fit into Grid Search CV\n",
    "gboost_params = {\"n_estimators\":[1, 5, 10, 20, 30, 40, 50, 60, 70, 80, 90, 100, 200]}\n",
    "\n",
    "# Done a GridSearchCV\n",
    "gs_gboost = GridSearchCV (gboost, gboost_params, cv = 5, scoring='roc_auc')\n",
    "\n",
    "# Fit the data into model\n",
    "gs_gboost.fit(X_train_scale, y_train)\n",
    "\n",
    "# amount of time taken to run in seconds\n",
    "time_taken = time() - start\n",
    "print('Time taken to run:', round(time_taken, 2), 'seconds')"
   ]
  },
  {
   "cell_type": "code",
   "execution_count": 36,
   "metadata": {
    "scrolled": false
   },
   "outputs": [
    {
     "name": "stdout",
     "output_type": "stream",
     "text": [
      "Best Parameters: {'n_estimators': 200}\n"
     ]
    }
   ],
   "source": [
    "# The best params to used for the model\n",
    "gs_gboost_best = gs_gboost.best_params_\n",
    "\n",
    "print('Best Parameters:', gs_gboost_best)"
   ]
  },
  {
   "cell_type": "markdown",
   "metadata": {},
   "source": [
    "The optimal hyperparameter value for the Gradient Boosting Model found is:\n",
    "- n_estimators = 200\n",
    "\n",
    "We will run the model once again with this value and pull out the scores required for evaluation."
   ]
  },
  {
   "cell_type": "code",
   "execution_count": 65,
   "metadata": {
    "scrolled": true
   },
   "outputs": [
    {
     "name": "stdout",
     "output_type": "stream",
     "text": [
      "GradientBoostingClassifier(n_estimators=200)\n",
      "\n",
      "Gradient Boost Train Accuracy: 0.9004762323948192\n",
      "Gradient Boost Test Accuracy: 0.9422599552235053\n",
      "\n",
      "Gradient Boost Classification Report:\n",
      "               precision    recall  f1-score   support\n",
      "\n",
      "           0       0.97      0.85      0.91      2987\n",
      "           1       0.18      0.59      0.27       165\n",
      "\n",
      "    accuracy                           0.83      3152\n",
      "   macro avg       0.58      0.72      0.59      3152\n",
      "weighted avg       0.93      0.83      0.87      3152\n",
      "\n",
      "Gradient Boost AUC value: 0.8474764383033551\n"
     ]
    }
   ],
   "source": [
    "# Initiate the Gradient Boosting Model\n",
    "gboost_optimal = GradientBoostingClassifier(n_estimators = 200)\n",
    "\n",
    "# Fit data into the Model\n",
    "gboost_optimal.fit(X_train_scale, y_train)\n",
    "\n",
    "# Print the model name to ensure that it works.\n",
    "print(gboost_optimal)\n",
    "\n",
    "# Use model to predict classifcation\n",
    "gboost_y_pred = gboost_optimal.predict(X_test_scale)\n",
    "\n",
    "# get mean Train Accuracy using cross-Validation with number of folds = 5\n",
    "gboost_train_accu = cross_val_score(gboost_optimal, X_train_scale, y_train, cv=5).mean()\n",
    "print('\\nGradient Boost Train Accuracy:', gboost_train_accu)\n",
    "\n",
    "# get mean Test Accuracy using cross-Validation with number of folds = 5\n",
    "gboost_test_accu = cross_val_score(gboost_optimal, X_test_scale, y_test, cv=5).mean()\n",
    "print('Gradient Boost Test Accuracy:', gboost_test_accu)\n",
    "\n",
    "# Print classification report for y_pred compared to y_test\n",
    "gboost_report = classification_report(y_test, gboost_y_pred)\n",
    "print('\\nGradient Boost Classification Report:\\n', gboost_report)\n",
    "\n",
    "# Print roc_auc_score for y_test\n",
    "gboost_auc = roc_auc_score(y_test, gboost_optimal.predict_proba(X_test_scale)[:,1])\n",
    "print('Gradient Boost AUC value:', gboost_auc)"
   ]
  },
  {
   "cell_type": "code",
   "execution_count": 66,
   "metadata": {},
   "outputs": [
    {
     "data": {
      "image/png": "[encoded data removed]",
      "text/plain": [
       "<Figure size 720x720 with 2 Axes>"
      ]
     },
     "metadata": {
      "needs_background": "light"
     },
     "output_type": "display_data"
    }
   ],
   "source": [
    "# gradient boosting confusion matrix\n",
    "gboost_cmatrix = confusion_matrix(y_test, gboost_y_pred)\n",
    "\n",
    "# pull out score of individual classification metrics\n",
    "# returns 2 values (1 for each class) --> minority class' value is what we want (index 1)\n",
    "gboost_prec, gboost_recall, gboost_f1, gboost_supp = score(y_test, gboost_y_pred)\n",
    "\n",
    "# visualisation of confusion matrix\n",
    "gboost_modified_cm = []\n",
    "for index,value in enumerate(gboost_cmatrix):\n",
    "    if index == 0:\n",
    "        gboost_modified_cm.append(['TN = ' + str(value[0]), 'FP = ' + str(value[1])])\n",
    "    if index == 1:\n",
    "        gboost_modified_cm.append(['FN = ' + str(value[0]), 'TP = ' + str(value[1])]) \n",
    "\n",
    "plt.figure(figsize=(10,10))\n",
    "sns.heatmap(gboost_cmatrix, annot=np.array(gboost_modified_cm),\n",
    "            fmt=\"\",\n",
    "            annot_kws={\"size\": 20},\n",
    "            linewidths=.5,\n",
    "            square = True,\n",
    "            cmap = 'Blues',\n",
    "            xticklabels = ['WNV NOT PRESENT', 'WNV PRESENT'],\n",
    "            yticklabels = ['WNV NOT PRESENT', 'WNV PRESENT'],\n",
    "            );\n",
    "\n",
    "plt.ylabel('Actual label', fontsize = 17);\n",
    "plt.xlabel('Predicted label', fontsize = 17);\n",
    "plt.title('Gradient Boosting Model Confusion Matrix\\n'\n",
    "          +'F1 score: {:.1f}'.format(gboost_f1[1])+'\\n'\n",
    "          +'Precision: {:.1f}'.format(gboost_prec[1])+'\\n'\n",
    "          +'Recall: {:.1f}'.format(gboost_recall[1])+'\\n', size = 18);\n",
    "plt.tick_params(labelsize= 13)\n",
    "\n",
    "plt.savefig('../images/gboost_confusion_matrix', bbox_inches=\"tight\", dpi=300)\n",
    "\n",
    "plt.show();"
   ]
  },
  {
   "cell_type": "code",
   "execution_count": 67,
   "metadata": {
    "scrolled": true
   },
   "outputs": [
    {
     "data": {
      "image/png": "[encoded data removed]",
      "text/plain": [
       "<Figure size 432x288 with 1 Axes>"
      ]
     },
     "metadata": {
      "needs_background": "light"
     },
     "output_type": "display_data"
    }
   ],
   "source": [
    "#get the area under curve score\n",
    "plot_roc_curve(gboost_optimal, X_test_scale, y_test)\n",
    "\n",
    "plt.title('AUC for Gradient Boosting', fontsize=14)\n",
    "plt.plot([0, 1], [0, 1], label='baseline', linestyle='--')\n",
    "plt.legend();\n",
    "\n",
    "plt.savefig('../images/gboost_auc', bbox_inches=\"tight\", dpi=300)\n",
    "\n",
    "plt.show();"
   ]
  },
  {
   "cell_type": "markdown",
   "metadata": {},
   "source": [
    "### AdaBoost"
   ]
  },
  {
   "cell_type": "code",
   "execution_count": 40,
   "metadata": {
    "scrolled": true
   },
   "outputs": [
    {
     "name": "stdout",
     "output_type": "stream",
     "text": [
      "Time taken to run: 181.17 seconds\n"
     ]
    }
   ],
   "source": [
    "#run start time in seconds\n",
    "start = time()\n",
    "\n",
    "# instantiate AdaBoostClassifier\n",
    "ada = AdaBoostClassifier(base_estimator=DecisionTreeClassifier())\n",
    "\n",
    "# set params to tune in gridsearchcv\n",
    "ada_params = {'n_estimators': [20, 40, 80, 120], \n",
    "              'learning_rate': [.8, .9, 1], \n",
    "              'base_estimator__max_depth': [1, 3, 5]\n",
    "             }\n",
    "\n",
    "# gridsearchcv to find optimal hyperparameters\n",
    "gs_ada = GridSearchCV(ada, param_grid=ada_params, cv=5, scoring='roc_auc')\n",
    "\n",
    "# fit gridsearchcv to training data\n",
    "gs_ada.fit(X_train_scale, y_train)\n",
    "\n",
    "# amount of time taken to run in seconds\n",
    "time_taken = time() - start\n",
    "print('Time taken to run:', round(time_taken, 2), 'seconds')\n"
   ]
  },
  {
   "cell_type": "code",
   "execution_count": 41,
   "metadata": {},
   "outputs": [
    {
     "name": "stdout",
     "output_type": "stream",
     "text": [
      "Best Parameters: {'base_estimator__max_depth': 3, 'learning_rate': 0.8, 'n_estimators': 120}\n"
     ]
    }
   ],
   "source": [
    "# get best optimised parameters\n",
    "gs_ada_params = gs_ada.best_params_\n",
    "\n",
    "print('Best Parameters:', gs_ada_params)"
   ]
  },
  {
   "cell_type": "markdown",
   "metadata": {},
   "source": [
    "The optimal hyperparameters for the AdaBoost Model found seems to be:\n",
    "- DecisionTreeClassifier(max_depth = 1)\n",
    "- learning_rate = 0.8\n",
    "- n_estimators = 80\n",
    "\n",
    "We will run the model once again with this value and pull out the scores required for evaluation."
   ]
  },
  {
   "cell_type": "code",
   "execution_count": 76,
   "metadata": {},
   "outputs": [
    {
     "name": "stdout",
     "output_type": "stream",
     "text": [
      "AdaBoostClassifier(base_estimator=DecisionTreeClassifier(max_depth=1),\n",
      "                   learning_rate=0.8, n_estimators=80)\n",
      "\n",
      "AdaBoost Train Accuracy: 0.8340999588682646\n",
      "nAdaBoost Test Accuracy: 0.9476522526601766\n",
      "\n",
      "AdaBoost Classification Report:\n",
      "               precision    recall  f1-score   support\n",
      "\n",
      "           0       0.98      0.78      0.87      2987\n",
      "           1       0.16      0.75      0.26       165\n",
      "\n",
      "    accuracy                           0.78      3152\n",
      "   macro avg       0.57      0.76      0.57      3152\n",
      "weighted avg       0.94      0.78      0.84      3152\n",
      "\n",
      "AdaBoost AUC value: 0.8422933722900244\n"
     ]
    }
   ],
   "source": [
    "# Initiate the AdaBoost Model\n",
    "ada_optimal = AdaBoostClassifier(base_estimator=DecisionTreeClassifier(max_depth=1), \n",
    "                                 learning_rate=0.8, \n",
    "                                 n_estimators=80\n",
    "                                )\n",
    "\n",
    "# Fit data into the Model\n",
    "ada_optimal.fit(X_train_scale, y_train)\n",
    "\n",
    "# Print the model name to ensure that it works.\n",
    "print(ada_optimal)\n",
    "\n",
    "# Use model to predict classifcation\n",
    "ada_y_pred = ada_optimal.predict(X_test_scale)\n",
    "\n",
    "# get mean Train Accuracy using cross-Validation with number of folds = 5\n",
    "ada_train_accu = cross_val_score(ada_optimal, X_train_scale, y_train, cv=5).mean()\n",
    "print('\\nAdaBoost Train Accuracy:', ada_train_accu)\n",
    "\n",
    "# get mean Test Accuracy using cross-Validation with number of folds = 5\n",
    "ada_test_accu = cross_val_score(ada_optimal, X_test_scale, y_test, cv=5).mean()\n",
    "print('nAdaBoost Test Accuracy:', ada_test_accu)\n",
    "\n",
    "# Print classification report for y_pred compared to y_test\n",
    "ada_report = classification_report(y_test, ada_y_pred)\n",
    "print('\\nAdaBoost Classification Report:\\n', ada_report)\n",
    "\n",
    "# Print roc_auc_score for y_test\n",
    "ada_auc = roc_auc_score(y_test, ada_optimal.predict_proba(X_test_scale)[:,1])\n",
    "print('AdaBoost AUC value:', ada_auc)\n"
   ]
  },
  {
   "cell_type": "code",
   "execution_count": 77,
   "metadata": {
    "scrolled": false
   },
   "outputs": [
    {
     "data": {
      "image/png": "[encoded data removed]",
      "text/plain": [
       "<Figure size 720x720 with 2 Axes>"
      ]
     },
     "metadata": {
      "needs_background": "light"
     },
     "output_type": "display_data"
    }
   ],
   "source": [
    "# AdaBoost confusion matrix\n",
    "ada_cmatrix = confusion_matrix(y_test, ada_y_pred)\n",
    "\n",
    "# pull out score of individual classification metrics\n",
    "# returns 2 values (1 for each class) --> minority class' value is what we want (index 1)\n",
    "ada_prec, ada_recall, ada_f1, ada_supp = score(y_test, ada_y_pred)\n",
    "\n",
    "# visualisation of confusion matrix\n",
    "ada_modified_cm = []\n",
    "for index,value in enumerate(ada_cmatrix):\n",
    "    if index == 0:\n",
    "        ada_modified_cm.append(['TN = ' + str(value[0]), 'FP = ' + str(value[1])])\n",
    "    if index == 1:\n",
    "        ada_modified_cm.append(['FN = ' + str(value[0]), 'TP = ' + str(value[1])]) \n",
    "\n",
    "plt.figure(figsize=(10,10))\n",
    "sns.heatmap(ada_cmatrix, annot=np.array(ada_modified_cm),\n",
    "            fmt=\"\",\n",
    "            annot_kws={\"size\": 20},\n",
    "            linewidths=.5,\n",
    "            square = True,\n",
    "            cmap = 'Blues',\n",
    "            xticklabels = ['WNV NOT PRESENT', 'WNV PRESENT'],\n",
    "            yticklabels = ['WNV NOT PRESENT', 'WNV PRESENT'],\n",
    "            );\n",
    "\n",
    "plt.ylabel('Actual label', fontsize = 17);\n",
    "plt.xlabel('Predicted label', fontsize = 17);\n",
    "plt.title('AdaBoost Model Confusion Matrix\\n'\n",
    "          +'F1 score: {:.1f}'.format(ada_f1[1])+'\\n'\n",
    "          +'Precision: {:.1f}'.format(ada_prec[1])+'\\n'\n",
    "          +'Recall: {:.1f}'.format(ada_recall[1])+'\\n', size = 18);\n",
    "plt.tick_params(labelsize= 13);\n",
    "\n",
    "plt.savefig('../images/ada_confusion_matrix', bbox_inches=\"tight\", dpi=300)\n",
    "\n",
    "plt.show();"
   ]
  },
  {
   "cell_type": "code",
   "execution_count": 78,
   "metadata": {
    "scrolled": true
   },
   "outputs": [
    {
     "data": {
      "image/png": "[encoded data removed]",
      "text/plain": [
       "<Figure size 432x288 with 1 Axes>"
      ]
     },
     "metadata": {
      "needs_background": "light"
     },
     "output_type": "display_data"
    }
   ],
   "source": [
    "# get the area under curve score\n",
    "plot_roc_curve(ada_optimal, X_test_scale, y_test)\n",
    "\n",
    "plt.title('AUC for AdaBoost', fontsize=14)\n",
    "plt.plot([0, 1], [0, 1], label='baseline', linestyle='--')\n",
    "plt.legend();\n",
    "\n",
    "plt.savefig('../images/ada_auc', bbox_inches=\"tight\", dpi=300)\n",
    "\n",
    "plt.show();"
   ]
  },
  {
   "cell_type": "markdown",
   "metadata": {},
   "source": [
    "## Evaluation"
   ]
  },
  {
   "cell_type": "markdown",
   "metadata": {},
   "source": [
    "Recall that the presence of the west nile virus is classified as such:\n",
    "\n",
    "|Presence of West Nile Virus|Numerical Value in Dataframes|Class|\n",
    "|:---:|:---:|:---:|\n",
    "|**West Nile Virus present**|1|Positive|\n",
    "|**West Nile Virus not present**|0|Negative|"
   ]
  },
  {
   "cell_type": "markdown",
   "metadata": {},
   "source": [
    "The metrics that we will use to decide the best model are:\n",
    "- Area Under Curve (AUC)\n",
    "- F1 score\n",
    "- *Train Accuracy (to check for overfitting)*\n",
    "- *Test Accuracy (to check for overfitting)*"
   ]
  },
  {
   "cell_type": "markdown",
   "metadata": {},
   "source": [
    "#### Area Under Curve (AUC)\n",
    "\n",
    "AUC is the area under the Receiver Operating Characteristics (ROC) curve, with False Positive Rate (FPR) on the x-axis and True Positive Rate (TPR) on the y-axis. The AUC score will give us an overall measure of the performance of our classifier. The AUC value lies between 0.5 to 1 where 0.5 denotes a bad classifer and 1 denotes an excellent classifier.\n",
    "\n",
    "A high AUC value indicates that our model is generally good at distinguishing between the Positive (west nile virus present) and Negative (west nile virus not present) classes. **Ideally, we would want a high AUC.**"
   ]
  },
  {
   "cell_type": "markdown",
   "metadata": {},
   "source": [
    "#### Precision-Recall scores\n",
    "\n",
    "$$Precision = \\frac{\\text{True Positives}}{\\text{True Positives + False Positives}}$$\n",
    "\n",
    "**Precision** is the ratio of True Positives to All Predicted Positives. It means that of all the Positive predictions made by the model, what percentage of this is actually correct.\n",
    "\n",
    "Put simply in the context of this project, the higher the Precision score, the higher the number of places that are predicted as having the west nile virus actually does indeed have the west nile virus present.\n",
    "\n",
    "\n",
    "\n",
    "$$Recall = \\frac{\\text{True Positives}}{\\text{True Positives + False Negatives}}$$\n",
    "\n",
    "**Recall** is the ratio of True Positives to All Actual Positives. It shows the percentage of correctly classified Positive predictions by the model against all the positives in the dataset.\n",
    "\n",
    "Put simply in the context of this project, the higher the Recall score, the higher the number of places with actual west nile virus is correctly classified by the model as having the west nile virus."
   ]
  },
  {
   "cell_type": "markdown",
   "metadata": {},
   "source": [
    "*There is usually a trade-off when it comes to Precision and Recall scores depending on the threshold that we set and what kind of prediction we want to prioritise. In this case, we would rather classify a larger number of areas as having the west nile virus (which will increase False Positives) as the alternative to this might cause further spreading of the virus and lead to fatalities.*\n",
    "\n",
    "**Hence, we would prefer higher Recall at the expense of a lower Precision in order to reduce the chances of misclassifying places that has west nile virus as not having the virus (reducing False Negatives).**"
   ]
  },
  {
   "cell_type": "markdown",
   "metadata": {},
   "source": [
    "#### F1 score\n",
    "\n",
    "$$F1 score  =  2 * \\frac{\\text{Precision * Recall}}{\\text{Precision + Recall}}$$\n",
    "\n",
    "The F1 score is the weighted average of the Precision-Recall scores. It will be used to give a better perspective of which model performs the best. \n",
    "\n",
    "When there are 2 or more models with similar Precision-Recall scores and a clear answer of which model is better cannot be derived just by comparing the Precision-Recall scores themselves, we will use the F1 score to help us to decide on which model to choose.\n",
    "\n",
    "An F1 score of 0 means the model is as bad as it can get and a score of 1 means the model is perfect. **When comparing the F1 score, we want it to be as high as possible.**"
   ]
  },
  {
   "cell_type": "markdown",
   "metadata": {},
   "source": [
    "#### Train and Test Accuracy\n",
    "\n",
    "$$Accuracy = \\frac{\\text{True Positives + True Negatives}}{\\text{Total Predictions}}$$\n",
    "\n",
    "When we analysed our [Baseline](#Baseline) Model, we noted that the Accuracy score is not a good metric to use when evaluating extremely imbalanced datasets like the one used in this project.\n",
    "\n",
    "This is mainly due to the fact that many models are designed with the assumption that the datasets used will be balanced [(source)](https://machinelearningmastery.com/failure-of-accuracy-for-imbalanced-class-distributions/).\n",
    "\n",
    "The Accuracy score gives an overview of how accurate the model is in predicting both the majority and the minority classes combined.\n",
    "\n",
    "The model, highly trained on the majority class and insufficiently trained on the minority class, has not learnt enough about the minority class to be able to predict it accurately, but is highly accurate in predicting the majority class. \n",
    "\n",
    "Therefore, it is likely that the Accuracy score returned is still a high value due to the high number of correct predictions of the majority class. <b>This means the Accuracy score actually masks the model's inability to correctly classify the minority class and is misleading in cases of extremely imbalanced datasets like this.</b>\n",
    "\n",
    "For this reason, we will only compare the Train Accuracy with the Test Accuracy within each model to determine whether the model is overfitted."
   ]
  },
  {
   "cell_type": "code",
   "execution_count": 79,
   "metadata": {},
   "outputs": [
    {
     "name": "stdout",
     "output_type": "stream",
     "text": [
      "Random Forest\n",
      "AUC:  0.80538900893772 \n",
      "Precision: 0.21912350597609562 \n",
      "Recall: 0.3333333333333333 \n",
      "F1 score: 0.2644230769230769 \n",
      "Train Accuracy: 0.9396558318777641 \n",
      "Test Accuracy: 0.9381369959499913\n",
      "\n",
      "Support Vector Classification\n",
      "AUC:  0.8395562589402563 \n",
      "Precision: 0.15755208333333334 \n",
      "Recall: 0.7333333333333333 \n",
      "F1 score: 0.25937834941050375 \n",
      "Train Accuracy: 0.8559134977470209 \n",
      "Test Accuracy: 0.9476522526601766\n",
      "\n",
      "Logistic Regression\n",
      "AUC:  0.7683852248632965 \n",
      "Precision: 0.10597140454163162 \n",
      "Recall: 0.7636363636363637 \n",
      "F1 score: 0.1861152141802068 \n",
      "Train Accuracy: 0.7149829166879018 \n",
      "Test Accuracy: 0.9476522526601766\n",
      "\n",
      "Bernoulli Naive Bayes\n",
      "AUC:  0.7637875237138712 \n",
      "Precision: 0.10487200660611065 \n",
      "Recall: 0.7696969696969697 \n",
      "F1 score: 0.18459302325581398 \n",
      "Train Accuracy: 0.6951772139452541 \n",
      "Test Accuracy: 0.9447976253364526\n",
      "\n",
      "Gradient Boosting\n",
      "AUC:  0.8474764383033551 \n",
      "Precision: 0.17636363636363636 \n",
      "Recall: 0.5878787878787879 \n",
      "F1 score: 0.2713286713286713 \n",
      "Train Accuracy: 0.9004762323948192 \n",
      "Test Accuracy: 0.9422599552235053\n",
      "\n",
      "AdaBoost\n",
      "AUC:  0.8422933722900244 \n",
      "Precision: 0.15953307392996108 \n",
      "Recall: 0.7454545454545455 \n",
      "F1 score: 0.26282051282051283 \n",
      "Train Accuracy: 0.8340999588682646 \n",
      "Test Accuracy: 0.9476522526601766\n"
     ]
    }
   ],
   "source": [
    "print('Random Forest\\n' + 'AUC: ', rf_auc, '\\nPrecision:', rf_prec[1], '\\nRecall:', rf_recall[1], \n",
    "      '\\nF1 score:', rf_f1[1], '\\nTrain Accuracy:', rf_train_accu, '\\nTest Accuracy:', rf_test_accu)\n",
    "\n",
    "print('\\nSupport Vector Classification\\n' + 'AUC: ', svc_auc, '\\nPrecision:', svc_prec[1], '\\nRecall:', svc_recall[1], \n",
    "      '\\nF1 score:', svc_f1[1], '\\nTrain Accuracy:', svc_train_accu, '\\nTest Accuracy:', svc_test_accu)\n",
    "\n",
    "print('\\nLogistic Regression\\n' + 'AUC: ', lr_auc, '\\nPrecision:', lr_prec[1], '\\nRecall:', lr_recall[1], \n",
    "      '\\nF1 score:', lr_f1[1], '\\nTrain Accuracy:', lr_train_accu, '\\nTest Accuracy:', lr_test_accu)\n",
    "\n",
    "print('\\nBernoulli Naive Bayes\\n' + 'AUC: ', bernNB_auc, '\\nPrecision:', bernNB_prec[1], '\\nRecall:', bernNB_recall[1], \n",
    "      '\\nF1 score:', bernNB_f1[1], '\\nTrain Accuracy:', bernNB_train_accu, '\\nTest Accuracy:', bernNB_test_accu)\n",
    "\n",
    "print('\\nGradient Boosting\\n' + 'AUC: ', gboost_auc, '\\nPrecision:', gboost_prec[1], '\\nRecall:', gboost_recall[1], \n",
    "      '\\nF1 score:', gboost_f1[1], '\\nTrain Accuracy:', gboost_train_accu, '\\nTest Accuracy:', gboost_test_accu)\n",
    "\n",
    "print('\\nAdaBoost\\n' + 'AUC: ', ada_auc, '\\nPrecision:', ada_prec[1], '\\nRecall:', ada_recall[1], \n",
    "      '\\nF1 score:', ada_f1[1], '\\nTrain Accuracy:', ada_train_accu, '\\nTest Accuracy:', ada_test_accu)\n"
   ]
  },
  {
   "cell_type": "markdown",
   "metadata": {},
   "source": [
    "|Different Model|AUC|Precision|Recall|F1-score|Train Accuracy|Test Accuracy|\n",
    "|:---:|:---:|:---:|:---:|:---:|:---:|:---:|\n",
    "|**Baseline**|-|-|-|-|-|0.950|\n",
    "|**Random Forest**|0.805|0.219|0.333|0.264|0.940|0.938|\n",
    "|**Support Vector Classification**|0.840|0.158|0.733|0.259|0.856|0.948|\n",
    "|**Logistics Regression**|0.768|0.106|0.764|0.186|0.715|0.948|\n",
    "|**Bernoulli Naive Bayes**|0.764|0.105|0.770|0.185|0.695|0.945|\n",
    "|**Gradient Boosting**|**0.847**|0.176|0.588|**0.271**|0.900|0.942|\n",
    "|**AdaBoost**|0.842|0.160|0.745|0.263|0.834|0.948|\n"
   ]
  },
  {
   "cell_type": "markdown",
   "metadata": {},
   "source": [
    "In evaluating our models, the priority of metrics is as follows:\n",
    "1. AUC\n",
    "2. F1 score\n",
    "3. Train-Test Accuracy\n",
    "\n",
    "Firstly, we look at AUC score, because the Kaggle competition uses AUC score as the only metric to rank the submissions. And AUC gives us the overall measure of performance of our classifier. By analogy, the higher the AUC, the better the model is at distinguishing between patients with the disease and no disease.\n",
    "\n",
    "Secondly, we look at the F1 score, which gives us a balance perspective on the precision-recall score performance. A higher F1 score means the combination of precision-recall of the models gives the better performance.\n",
    "\n",
    "Lastly, we look at the difference between train accuracy and test accuracy. \n",
    "\n",
    "If train accuracy > test accuracy, there is overfitting occurs.\n",
    "\n",
    "If train accuracy < test accuracy, there is underfitting occurs.\n",
    "\n",
    "It's the most optimum when the difference between train accuracy and test accuracy is smaller, indicating the overfitting/underfitting is less severe.\n",
    "\n",
    "**Based on the above metrics, Gradient Boosting model is chosen.**\n",
    "\n",
    "This is because Gradient Boosting model have the highest AUC score out of all models, as well as having the highest F1 score out of all models. With regards to the difference between train accuracy and test accuracy, Gradient Boosting have train accuracy < test accuracy, hence it is underfitting. However, the difference is ~0.05, hence the underfitting is not that severe compared to other models."
   ]
  },
  {
   "cell_type": "code",
   "execution_count": 80,
   "metadata": {},
   "outputs": [
    {
     "data": {
      "image/png": "[encoded data removed]",
      "text/plain": [
       "<Figure size 432x288 with 1 Axes>"
      ]
     },
     "metadata": {
      "needs_background": "light"
     },
     "output_type": "display_data"
    }
   ],
   "source": [
    "#get the area under curve score\n",
    "plot_roc_curve(gboost_optimal, X_test_scale, y_test)\n",
    "\n",
    "plt.title('AUC for Gradient Boosting', fontsize=14)\n",
    "plt.plot([0, 1], [0, 1], label='baseline', linestyle='--')\n",
    "plt.legend();\n",
    "\n",
    "plt.show();"
   ]
  },
  {
   "cell_type": "code",
   "execution_count": 81,
   "metadata": {},
   "outputs": [
    {
     "data": {
      "image/png": "[encoded data removed]",
      "text/plain": [
       "<Figure size 720x720 with 2 Axes>"
      ]
     },
     "metadata": {
      "needs_background": "light"
     },
     "output_type": "display_data"
    }
   ],
   "source": [
    "# gradient boosting confusion matrix\n",
    "gboost_cmatrix = confusion_matrix(y_test, gboost_y_pred)\n",
    "\n",
    "# pull out score of individual classification metrics\n",
    "# returns 2 values (1 for each class) --> minority class' value is what we want (index 1)\n",
    "gboost_prec, gboost_recall, gboost_f1, gboost_supp = score(y_test, gboost_y_pred)\n",
    "\n",
    "# visualisation of confusion matrix\n",
    "gboost_modified_cm = []\n",
    "for index,value in enumerate(gboost_cmatrix):\n",
    "    if index == 0:\n",
    "        gboost_modified_cm.append(['TN = ' + str(value[0]), 'FP = ' + str(value[1])])\n",
    "    if index == 1:\n",
    "        gboost_modified_cm.append(['FN = ' + str(value[0]), 'TP = ' + str(value[1])]) \n",
    "\n",
    "plt.figure(figsize=(10,10))\n",
    "sns.heatmap(gboost_cmatrix, annot=np.array(gboost_modified_cm),\n",
    "            fmt=\"\",\n",
    "            annot_kws={\"size\": 20},\n",
    "            linewidths=.5,\n",
    "            square = True,\n",
    "            cmap = 'Blues',\n",
    "            xticklabels = ['WNV NOT PRESENT', 'WNV PRESENT'],\n",
    "            yticklabels = ['WNV NOT PRESENT', 'WNV PRESENT'],\n",
    "            );\n",
    "\n",
    "plt.ylabel('Actual label', fontsize = 17);\n",
    "plt.xlabel('Predicted label', fontsize = 17);\n",
    "plt.title('Gradient Boosting Model Confusion Matrix\\n'\n",
    "          +'F1 score: {:.1f}'.format(gboost_f1[1])+'\\n'\n",
    "          +'Precision: {:.1f}'.format(gboost_prec[1])+'\\n'\n",
    "          +'Recall: {:.1f}'.format(gboost_recall[1])+'\\n', size = 17);\n",
    "plt.tick_params(labelsize= 15)\n"
   ]
  },
  {
   "cell_type": "markdown",
   "metadata": {},
   "source": [
    "## Model with Test Dataset"
   ]
  },
  {
   "cell_type": "code",
   "execution_count": 82,
   "metadata": {
    "scrolled": true
   },
   "outputs": [
    {
     "name": "stdout",
     "output_type": "stream",
     "text": [
      "<class 'pandas.core.frame.DataFrame'>\n",
      "Int64Index: 116293 entries, 0 to 116292\n",
      "Data columns (total 36 columns):\n",
      " #   Column                          Non-Null Count   Dtype         \n",
      "---  ------                          --------------   -----         \n",
      " 0   id                              116293 non-null  int64         \n",
      " 1   date                            116293 non-null  datetime64[ns]\n",
      " 2   address                         116293 non-null  object        \n",
      " 3   block                           116293 non-null  int64         \n",
      " 4   street                          116293 non-null  object        \n",
      " 5   trap                            116293 non-null  object        \n",
      " 6   addressnumberandstreet          116293 non-null  object        \n",
      " 7   latitude                        116293 non-null  float64       \n",
      " 8   longitude                       116293 non-null  float64       \n",
      " 9   addressaccuracy                 116293 non-null  int64         \n",
      " 10  date_1                          116293 non-null  datetime64[ns]\n",
      " 11  month_x                         116293 non-null  int64         \n",
      " 12  year_x                          116293 non-null  int64         \n",
      " 13  station                         116293 non-null  int64         \n",
      " 14  t_avg                           116293 non-null  float64       \n",
      " 15  dew_point                       116293 non-null  int64         \n",
      " 16  wet_bulb                        116293 non-null  float64       \n",
      " 17  precip_total                    116293 non-null  float64       \n",
      " 18  stn_pressure                    116293 non-null  float64       \n",
      " 19  sea_level                       116293 non-null  float64       \n",
      " 20  result_speed                    116293 non-null  float64       \n",
      " 21  result_dir                      116293 non-null  int64         \n",
      " 22  avg_speed                       116293 non-null  float64       \n",
      " 23  wet_dry                         116293 non-null  int64         \n",
      " 24  week                            116293 non-null  int64         \n",
      " 25  month_y                         116293 non-null  int64         \n",
      " 26  year_y                          116293 non-null  int64         \n",
      " 27  year_month                      116293 non-null  int64         \n",
      " 28  year_week                       116293 non-null  int64         \n",
      " 29  species_CULEX PIPIENS           116293 non-null  uint8         \n",
      " 30  species_CULEX PIPIENS/RESTUANS  116293 non-null  uint8         \n",
      " 31  species_CULEX RESTUANS          116293 non-null  uint8         \n",
      " 32  species_CULEX SALINARIUS        116293 non-null  uint8         \n",
      " 33  species_CULEX TARSALIS          116293 non-null  uint8         \n",
      " 34  species_CULEX TERRITANS         116293 non-null  uint8         \n",
      " 35  species_UNSPECIFIED CULEX       116293 non-null  uint8         \n",
      "dtypes: datetime64[ns](2), float64(9), int64(14), object(4), uint8(7)\n",
      "memory usage: 27.4+ MB\n"
     ]
    }
   ],
   "source": [
    "# merging test and weather datasets\n",
    "test_df['station'] = test_df['latitude'].map(lambda x:1 if x >=41.85 else 2)\n",
    "\n",
    "test_df['date'] = pd.to_datetime(test_df['date'])\n",
    "\n",
    "test_merged_df = test_df.merge(weather, how='left', on=['date','station'])\n",
    "\n",
    "test_merged_df = pd.get_dummies(columns=['species'], drop_first=True, data = test_merged_df)\n",
    "\n",
    "test_merged_df.info()"
   ]
  },
  {
   "cell_type": "code",
   "execution_count": 83,
   "metadata": {},
   "outputs": [
    {
     "data": {
      "text/plain": [
       "Index(['id', 'latitude', 'longitude', 'month_x', 'year_x', 'station', 't_avg',\n",
       "       'precip_total', 'sea_level', 'result_dir', 'avg_speed', 'wet_dry',\n",
       "       'week_x', 'yearmonth', 'species_CULEX PIPIENS',\n",
       "       'species_CULEX PIPIENS/RESTUANS', 'species_CULEX RESTUANS',\n",
       "       'species_CULEX SALINARIUS', 'species_CULEX TARSALIS',\n",
       "       'species_CULEX TERRITANS', 'species_UNSPECIFIED CULEX'],\n",
       "      dtype='object')"
      ]
     },
     "execution_count": 83,
     "metadata": {},
     "output_type": "execute_result"
    }
   ],
   "source": [
    "# cleaning up merged dataframe columns\n",
    "# drop some columns\n",
    "test_merged_df.drop(columns=['result_speed','dew_point', 'wet_bulb','year_y','year_week', \n",
    "                             'month_y', 'stn_pressure', 'date','date_1','address',\n",
    "                             'block','street','trap','addressnumberandstreet', 'addressaccuracy'], \n",
    "                    inplace=True)\n",
    "\n",
    "# rename some columns\n",
    "test_merged_df.rename(columns={'week': 'week_x', 'year_month': 'yearmonth'}, inplace=True)\n",
    "\n",
    "# print the columns\n",
    "test_merged_df.columns"
   ]
  },
  {
   "cell_type": "code",
   "execution_count": 84,
   "metadata": {},
   "outputs": [],
   "source": [
    "# Save all columns into features\n",
    "features = [col for col in test_merged_df._get_numeric_data().columns if col != 'id']\n",
    "X_ = test_merged_df[features]                 # Assign it into X_"
   ]
  },
  {
   "cell_type": "code",
   "execution_count": 85,
   "metadata": {},
   "outputs": [],
   "source": [
    "# Standardization of all variables to ensure that the beta values for each predictor variable to be on the same scale.\n",
    "Z = ss.transform(X_)"
   ]
  },
  {
   "cell_type": "code",
   "execution_count": 86,
   "metadata": {},
   "outputs": [
    {
     "data": {
      "text/html": [
       "<div>\n",
       "<style scoped>\n",
       "    .dataframe tbody tr th:only-of-type {\n",
       "        vertical-align: middle;\n",
       "    }\n",
       "\n",
       "    .dataframe tbody tr th {\n",
       "        vertical-align: top;\n",
       "    }\n",
       "\n",
       "    .dataframe thead th {\n",
       "        text-align: right;\n",
       "    }\n",
       "</style>\n",
       "<table border=\"1\" class=\"dataframe\">\n",
       "  <thead>\n",
       "    <tr style=\"text-align: right;\">\n",
       "      <th></th>\n",
       "      <th>0</th>\n",
       "    </tr>\n",
       "  </thead>\n",
       "  <tbody>\n",
       "    <tr>\n",
       "      <th>0</th>\n",
       "      <td>0</td>\n",
       "    </tr>\n",
       "    <tr>\n",
       "      <th>1</th>\n",
       "      <td>0</td>\n",
       "    </tr>\n",
       "    <tr>\n",
       "      <th>2</th>\n",
       "      <td>0</td>\n",
       "    </tr>\n",
       "    <tr>\n",
       "      <th>3</th>\n",
       "      <td>0</td>\n",
       "    </tr>\n",
       "    <tr>\n",
       "      <th>4</th>\n",
       "      <td>0</td>\n",
       "    </tr>\n",
       "  </tbody>\n",
       "</table>\n",
       "</div>"
      ],
      "text/plain": [
       "   0\n",
       "0  0\n",
       "1  0\n",
       "2  0\n",
       "3  0\n",
       "4  0"
      ]
     },
     "execution_count": 86,
     "metadata": {},
     "output_type": "execute_result"
    }
   ],
   "source": [
    "# Prediction done on\n",
    "pred = gboost_optimal.predict(Z)\n",
    "\n",
    "# Create a dataframe 'pred_df'\n",
    "pred_df = pd.DataFrame(pred)\n",
    "\n",
    "# Print few rows of 'pred_df'\n",
    "pred_df.head()"
   ]
  },
  {
   "cell_type": "code",
   "execution_count": 87,
   "metadata": {},
   "outputs": [
    {
     "data": {
      "text/html": [
       "<div>\n",
       "<style scoped>\n",
       "    .dataframe tbody tr th:only-of-type {\n",
       "        vertical-align: middle;\n",
       "    }\n",
       "\n",
       "    .dataframe tbody tr th {\n",
       "        vertical-align: top;\n",
       "    }\n",
       "\n",
       "    .dataframe thead th {\n",
       "        text-align: right;\n",
       "    }\n",
       "</style>\n",
       "<table border=\"1\" class=\"dataframe\">\n",
       "  <thead>\n",
       "    <tr style=\"text-align: right;\">\n",
       "      <th></th>\n",
       "      <th>Id</th>\n",
       "      <th>WnvPresent</th>\n",
       "    </tr>\n",
       "  </thead>\n",
       "  <tbody>\n",
       "    <tr>\n",
       "      <th>0</th>\n",
       "      <td>1</td>\n",
       "      <td>0</td>\n",
       "    </tr>\n",
       "    <tr>\n",
       "      <th>1</th>\n",
       "      <td>2</td>\n",
       "      <td>0</td>\n",
       "    </tr>\n",
       "    <tr>\n",
       "      <th>2</th>\n",
       "      <td>3</td>\n",
       "      <td>0</td>\n",
       "    </tr>\n",
       "    <tr>\n",
       "      <th>3</th>\n",
       "      <td>4</td>\n",
       "      <td>0</td>\n",
       "    </tr>\n",
       "    <tr>\n",
       "      <th>4</th>\n",
       "      <td>5</td>\n",
       "      <td>0</td>\n",
       "    </tr>\n",
       "  </tbody>\n",
       "</table>\n",
       "</div>"
      ],
      "text/plain": [
       "   Id  WnvPresent\n",
       "0   1           0\n",
       "1   2           0\n",
       "2   3           0\n",
       "3   4           0\n",
       "4   5           0"
      ]
     },
     "execution_count": 87,
     "metadata": {},
     "output_type": "execute_result"
    }
   ],
   "source": [
    "# Store the 'id' column in test_dummified to test_kaggle dataframe\n",
    "test_kaggle = test_merged_df[['id']]\n",
    "\n",
    "# Add a column named 'SalePrice' and save all pred_df values inside\n",
    "test_kaggle['WnvPresent'] = pred_df\n",
    "\n",
    "# Rename 'id' column to 'Id'\n",
    "test_kaggle = test_kaggle.rename(columns={'id': 'Id'})\n",
    "\n",
    "# Print few columns of 'test_kaggle' dataframe\n",
    "test_kaggle.head()"
   ]
  },
  {
   "cell_type": "markdown",
   "metadata": {},
   "source": [
    "## Save the kaggle csv dataset"
   ]
  },
  {
   "cell_type": "code",
   "execution_count": 88,
   "metadata": {},
   "outputs": [],
   "source": [
    "# Save it into test_kaggle.csv\n",
    "test_kaggle.to_csv('../assets/test_kaggle.csv', index = False)"
   ]
  },
  {
   "cell_type": "code",
   "execution_count": null,
   "metadata": {},
   "outputs": [],
   "source": []
  }
 ],
 "metadata": {
  "kernelspec": {
   "display_name": "Python 3",
   "language": "python",
   "name": "python3"
  },
  "language_info": {
   "codemirror_mode": {
    "name": "ipython",
    "version": 3
   },
   "file_extension": ".py",
   "mimetype": "text/x-python",
   "name": "python",
   "nbconvert_exporter": "python",
   "pygments_lexer": "ipython3",
   "version": "3.8.8"
  }
 },
 "nbformat": 4,
 "nbformat_minor": 4
}
